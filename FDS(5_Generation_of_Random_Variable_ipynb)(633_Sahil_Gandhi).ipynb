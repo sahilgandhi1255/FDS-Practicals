{
  "nbformat": 4,
  "nbformat_minor": 0,
  "metadata": {
    "colab": {
      "provenance": []
    },
    "kernelspec": {
      "name": "python3",
      "display_name": "Python 3"
    }
  },
  "cells": [
    {
      "cell_type": "markdown",
      "metadata": {
        "id": "view-in-github"
      },
      "source": [
        "<a href=\"https://colab.research.google.com/github/Sadiksha08/FDS-Lab-Work/blob/main/FDS_LAB_Practical_5_Generation_of_Random_Variable.ipynb\" target=\"_parent\"><img src=\"https://colab.research.google.com/assets/colab-badge.svg\" alt=\"Open In Colab\"/></a>"
      ]
    },
    {
      "cell_type": "markdown",
      "metadata": {
        "id": "I8ztAi3npNSN"
      },
      "source": [
        "**PRACTICAL NO. : 5**\n",
        "\n",
        "**Generation of Random Variable**\n",
        "1. Discrete Random Variable\n",
        "2. Continuous Random Variable \n",
        "\n",
        "\n"
      ]
    },
    {
      "cell_type": "markdown",
      "metadata": {
        "id": "vtNf1mH4q9wF"
      },
      "source": [
        "**RANDOM VARIABLE**\n",
        "\n",
        "A Random Variable, usually written as X, is a variable whose possible values are numerical outcomes of a random phenomenon.                                                                 \n",
        "There are two types of random variables,**Discrete Random Variables** and **Continuous Random Variables**."
      ]
    },
    {
      "cell_type": "markdown",
      "metadata": {
        "id": "fsBaV3lyzCd6"
      },
      "source": [
        "1. **DISCRETE RANDOM VARIABLE**                                                                   \n",
        "*   A discrete random variable is one which may take on only a countable number of distinct values such as 0,1,2,3,4,.............\n",
        "*   Discrete random variables are usually (but not necessarily) counts.\n",
        "*   Examples :\n",
        "    \n",
        "    i.    number of children in a family.\n",
        "    \n",
        "    ii.   the number of patients a doctor sees in one day.  \n",
        "      \n",
        "    iii.  the number of defective bulbs in a box of ten.\n",
        "\n"
      ]
    },
    {
      "cell_type": "markdown",
      "metadata": {
        "id": "yeMc4GqC2NL-"
      },
      "source": [
        "*   **Discrete Random Variable**\n",
        "    1. Number of Sales\n",
        "    2. Number of Calls\n",
        "    3. Shares of stock\n",
        "    4. People in line\n",
        "    5. Mistakes per page\n",
        "\n",
        "\n",
        "\n",
        "\n",
        "\n",
        "\n",
        "\n",
        "\n"
      ]
    },
    {
      "cell_type": "markdown",
      "metadata": {
        "id": "9zPHWpLyjUKf"
      },
      "source": [
        "1.   **ROLE IN STATISTICAL MODELLING**                                            \n",
        "=>  It is used to predict results of experiment under assumptions. \n",
        "2.  **ROLE IN MACHINE LEARNING (ML)**                                            \n",
        "=>  Discrete Random Variable are used in ML, most notably in the modeling of binary and multi-class classification problems, but also n evaluating the performance for binary classification of confidence intervals.\n",
        "3.   **ROLE IN DEEP LEARNING**                                                                       \n",
        "=>  Discrete Random Variable is required in the choice of activation functions in the output layer of deep learning neural networks for classification tasks and selecting an loss function.\n",
        "4.   **ROLE IN NATURAL LANGUAGE PROCESSING (NLP)**                                                                                                                                                  \n",
        "=>  Discrete Random Variable is used in the modeling of the distribution of words in text for NLP\n"
      ]
    },
    {
      "cell_type": "markdown",
      "metadata": {
        "id": "5jA0yOYtBqAy"
      },
      "source": [
        "**EXAMPLE 1**\n",
        "\n",
        "The outcome of a dice roll"
      ]
    },
    {
      "cell_type": "code",
      "metadata": {
        "id": "etp5ZGWFBu0l"
      },
      "source": [
        "import numpy as np\n",
        "import matplotlib.pyplot as plt\n",
        "from numpy import random\n",
        "%matplotlib inline"
      ],
      "execution_count": null,
      "outputs": []
    },
    {
      "cell_type": "code",
      "metadata": {
        "colab": {
          "base_uri": "https://localhost:8080/",
          "height": 296
        },
        "id": "wlUl0znwBzL6",
        "outputId": "3d872ef0-56ab-4d55-d166-3f3cee422d27"
      },
      "source": [
        "def random_variable_of_dice_roll():\n",
        "  return random.randint(1, 7)\n",
        "num_trials = range(100,10000, 10)\n",
        "avgs = []\n",
        "for num_trial in num_trials:\n",
        "  trials = []\n",
        "  for trial in range(1,num_trial):\n",
        "    trials.append( random_variable_of_dice_roll() )\n",
        "  avgs.append(sum(trials)/float(num_trial))\n",
        "\n",
        "plt.plot(num_trials, avgs)\n",
        "plt.xlabel('Number of Trials')\n",
        "plt.ylabel(\"Average\")"
      ],
      "execution_count": null,
      "outputs": [
        {
          "output_type": "execute_result",
          "data": {
            "text/plain": [
              "Text(0, 0.5, 'Average')"
            ]
          },
          "metadata": {},
          "execution_count": 2
        },
        {
          "output_type": "display_data",
          "data": {
            "text/plain": [
              "<Figure size 432x288 with 1 Axes>"
            ],
            "image/png": "[encoded data removed]"
          },
          "metadata": {
            "needs_background": "light"
          }
        }
      ]
    },
    {
      "cell_type": "code",
      "metadata": {
        "colab": {
          "base_uri": "https://localhost:8080/"
        },
        "id": "ik2RhzMrB4wO",
        "outputId": "596c75f7-4662-41eb-d248-5e7ce35b8398"
      },
      "source": [
        "print(trials)"
      ],
      "execution_count": null,
      "outputs": [
        {
          "output_type": "stream",
          "name": "stdout",
          "text": [
            "[1, 4, 6, 6, 3, 2, 3, 6, 4, 4, 4, 1, 6, 3, 6, 5, 6, 2, 5, 6, 1, 6, 2, 3, 2, 3, 6, 1, 3, 5, 5, 5, 6, 5, 6, 6, 5, 5, 2, 1, 2, 5, 5, 2, 4, 6, 3, 4, 1, 2, 5, 4, 6, 6, 3, 5, 2, 4, 2, 2, 2, 1, 2, 3, 1, 5, 5, 4, 6, 2, 4, 1, 5, 1, 4, 5, 1, 6, 5, 6, 2, 6, 6, 4, 2, 4, 1, 2, 1, 4, 4, 6, 3, 6, 5, 6, 6, 6, 3, 2, 3, 6, 6, 3, 6, 2, 3, 4, 1, 5, 3, 4, 6, 5, 2, 3, 6, 2, 4, 2, 2, 1, 4, 4, 2, 5, 3, 6, 3, 4, 5, 4, 5, 4, 1, 3, 5, 1, 2, 6, 6, 5, 5, 6, 3, 1, 6, 2, 2, 4, 1, 5, 2, 6, 5, 5, 1, 4, 3, 1, 5, 5, 6, 2, 2, 1, 6, 1, 4, 1, 3, 1, 4, 1, 1, 2, 6, 4, 6, 1, 4, 6, 5, 2, 2, 5, 3, 5, 5, 5, 5, 6, 5, 4, 6, 5, 1, 6, 3, 4, 5, 1, 3, 6, 6, 5, 3, 6, 5, 6, 3, 6, 5, 1, 3, 1, 5, 4, 1, 6, 1, 4, 1, 2, 1, 2, 6, 4, 5, 5, 6, 2, 5, 5, 2, 3, 4, 1, 1, 6, 1, 1, 3, 4, 1, 1, 2, 3, 2, 2, 5, 5, 6, 1, 2, 3, 5, 5, 6, 1, 6, 2, 3, 1, 6, 2, 6, 3, 5, 4, 6, 3, 1, 3, 4, 5, 4, 1, 2, 2, 6, 5, 2, 6, 4, 5, 2, 1, 2, 1, 4, 4, 2, 4, 1, 2, 1, 5, 6, 4, 1, 6, 4, 5, 1, 6, 4, 5, 3, 3, 3, 2, 5, 2, 5, 4, 5, 2, 4, 5, 1, 2, 6, 1, 5, 4, 1, 4, 6, 3, 4, 4, 2, 1, 2, 3, 6, 3, 6, 1, 5, 5, 1, 4, 4, 3, 2, 3, 6, 5, 2, 6, 5, 6, 3, 3, 1, 2, 4, 3, 5, 4, 1, 1, 4, 2, 2, 4, 2, 4, 6, 3, 5, 1, 1, 4, 3, 6, 3, 2, 6, 2, 4, 6, 1, 3, 5, 1, 5, 5, 3, 5, 1, 1, 3, 3, 2, 6, 5, 2, 1, 4, 3, 6, 4, 6, 4, 6, 5, 1, 2, 3, 5, 4, 4, 6, 6, 1, 6, 2, 2, 2, 1, 6, 6, 1, 3, 3, 6, 1, 1, 3, 6, 1, 3, 4, 4, 1, 1, 3, 2, 5, 2, 5, 1, 5, 5, 2, 2, 5, 4, 6, 4, 5, 5, 3, 1, 3, 5, 5, 2, 2, 4, 6, 4, 3, 4, 3, 2, 1, 5, 2, 6, 2, 5, 3, 2, 6, 3, 6, 3, 5, 5, 5, 6, 5, 5, 4, 6, 2, 3, 3, 2, 6, 1, 6, 5, 1, 2, 5, 4, 4, 3, 2, 6, 1, 4, 4, 4, 4, 3, 1, 4, 5, 2, 5, 6, 3, 3, 3, 1, 1, 1, 3, 5, 5, 5, 2, 1, 1, 6, 4, 3, 5, 6, 4, 2, 3, 2, 3, 6, 6, 3, 5, 1, 1, 5, 6, 1, 3, 6, 1, 2, 6, 6, 6, 5, 5, 4, 4, 1, 3, 2, 5, 1, 1, 1, 6, 4, 4, 3, 1, 5, 6, 4, 3, 6, 4, 1, 5, 2, 5, 3, 4, 4, 1, 6, 3, 1, 1, 1, 3, 2, 2, 2, 4, 6, 2, 3, 3, 4, 1, 3, 2, 2, 6, 1, 3, 3, 1, 5, 5, 4, 6, 2, 5, 4, 2, 5, 4, 2, 5, 6, 5, 4, 5, 5, 2, 6, 2, 2, 2, 1, 3, 6, 2, 5, 6, 4, 1, 4, 6, 2, 2, 5, 4, 5, 4, 2, 6, 6, 3, 3, 5, 4, 2, 1, 5, 5, 1, 4, 4, 4, 4, 1, 3, 6, 5, 3, 4, 1, 1, 5, 2, 4, 4, 4, 5, 6, 5, 4, 3, 6, 2, 3, 3, 2, 3, 3, 1, 4, 4, 3, 6, 6, 4, 6, 3, 5, 5, 2, 4, 6, 6, 1, 1, 6, 6, 4, 5, 6, 2, 1, 2, 1, 3, 1, 5, 1, 5, 2, 2, 2, 2, 2, 1, 4, 2, 3, 6, 6, 1, 4, 3, 4, 2, 5, 1, 1, 1, 6, 5, 6, 4, 2, 6, 5, 3, 4, 1, 1, 4, 5, 5, 2, 4, 4, 3, 1, 3, 2, 6, 3, 5, 1, 6, 5, 5, 6, 1, 4, 2, 4, 4, 1, 5, 2, 1, 4, 6, 1, 2, 2, 2, 1, 2, 4, 2, 2, 5, 6, 2, 1, 6, 3, 5, 2, 4, 4, 1, 2, 1, 2, 4, 5, 1, 3, 5, 1, 5, 3, 6, 1, 3, 2, 4, 4, 6, 4, 3, 6, 3, 1, 5, 2, 1, 2, 5, 4, 1, 2, 1, 6, 4, 2, 4, 2, 3, 4, 2, 4, 4, 3, 4, 5, 2, 5, 4, 6, 6, 5, 3, 3, 1, 1, 4, 4, 2, 3, 4, 1, 1, 5, 5, 1, 6, 1, 6, 6, 2, 4, 4, 5, 1, 1, 1, 4, 5, 1, 3, 4, 6, 3, 2, 6, 6, 1, 2, 1, 2, 2, 2, 1, 5, 3, 6, 6, 1, 5, 2, 4, 4, 4, 1, 3, 3, 5, 6, 5, 4, 3, 2, 1, 6, 2, 2, 6, 6, 6, 3, 5, 4, 3, 1, 2, 4, 6, 6, 2, 6, 5, 6, 2, 4, 1, 4, 5, 3, 1, 2, 3, 3, 4, 5, 2, 4, 4, 6, 2, 5, 2, 3, 2, 1, 2, 1, 2, 3, 4, 3, 5, 2, 2, 5, 3, 6, 2, 5, 5, 6, 6, 3, 3, 1, 4, 3, 4, 2, 2, 6, 1, 4, 2, 3, 3, 5, 6, 5, 4, 4, 1, 4, 3, 6, 1, 1, 2, 2, 3, 2, 3, 1, 4, 5, 2, 3, 2, 5, 5, 5, 3, 3, 1, 6, 2, 2, 5, 5, 6, 3, 1, 6, 6, 3, 5, 2, 4, 5, 1, 3, 4, 5, 1, 6, 6, 4, 5, 3, 2, 5, 1, 1, 3, 6, 4, 3, 4, 2, 2, 6, 5, 6, 5, 3, 2, 2, 3, 4, 5, 2, 1, 5, 6, 6, 1, 1, 4, 1, 4, 2, 5, 3, 3, 3, 1, 1, 4, 5, 1, 1, 3, 4, 4, 3, 6, 2, 5, 4, 2, 5, 6, 2, 1, 1, 2, 3, 6, 6, 6, 5, 4, 1, 3, 4, 4, 6, 3, 5, 1, 6, 1, 6, 6, 3, 4, 6, 3, 2, 4, 3, 6, 3, 4, 6, 3, 6, 6, 2, 4, 6, 1, 6, 1, 5, 2, 1, 2, 2, 1, 3, 2, 1, 5, 6, 6, 6, 1, 1, 3, 4, 4, 4, 1, 1, 1, 2, 4, 5, 5, 2, 5, 6, 4, 5, 6, 5, 5, 1, 6, 2, 6, 2, 1, 1, 6, 1, 6, 6, 4, 2, 3, 1, 1, 4, 3, 1, 6, 6, 1, 2, 1, 6, 5, 1, 5, 3, 4, 5, 6, 5, 1, 3, 3, 1, 6, 1, 1, 1, 4, 6, 2, 4, 3, 4, 4, 2, 3, 1, 2, 6, 2, 4, 4, 1, 3, 5, 3, 5, 5, 3, 3, 3, 6, 5, 2, 3, 1, 6, 3, 5, 3, 2, 4, 5, 2, 1, 6, 3, 4, 6, 1, 3, 3, 5, 2, 5, 1, 4, 1, 5, 3, 1, 2, 3, 3, 6, 2, 1, 5, 1, 1, 1, 3, 3, 3, 3, 1, 1, 1, 2, 1, 5, 4, 3, 4, 5, 4, 5, 3, 4, 1, 5, 4, 2, 5, 6, 5, 3, 2, 4, 6, 5, 4, 1, 1, 5, 3, 2, 3, 4, 4, 3, 6, 3, 2, 4, 4, 1, 3, 4, 3, 6, 3, 6, 6, 3, 2, 5, 1, 4, 6, 5, 2, 5, 6, 5, 2, 3, 6, 5, 2, 1, 2, 4, 5, 6, 4, 1, 2, 5, 4, 3, 4, 2, 5, 1, 6, 1, 6, 1, 5, 1, 2, 1, 4, 1, 4, 6, 2, 6, 1, 4, 2, 2, 4, 5, 1, 5, 5, 4, 1, 6, 3, 4, 2, 4, 2, 6, 4, 1, 6, 3, 4, 3, 6, 1, 5, 2, 4, 2, 6, 3, 1, 1, 2, 2, 6, 4, 2, 3, 5, 2, 1, 5, 5, 4, 1, 2, 4, 6, 6, 6, 6, 5, 5, 5, 2, 5, 3, 5, 6, 2, 5, 4, 4, 4, 2, 6, 1, 1, 3, 4, 4, 3, 2, 6, 5, 6, 4, 4, 6, 6, 4, 3, 4, 1, 4, 3, 5, 5, 4, 5, 5, 4, 5, 6, 3, 1, 2, 4, 6, 4, 4, 1, 4, 2, 4, 2, 6, 6, 2, 4, 2, 3, 6, 5, 6, 2, 2, 3, 6, 5, 1, 6, 5, 3, 5, 2, 6, 4, 5, 1, 2, 2, 4, 1, 1, 3, 2, 1, 2, 5, 1, 4, 1, 2, 3, 2, 2, 2, 5, 5, 6, 2, 4, 2, 5, 2, 4, 3, 6, 1, 3, 5, 5, 1, 6, 6, 5, 1, 5, 3, 2, 3, 6, 2, 4, 6, 1, 1, 1, 2, 1, 2, 3, 5, 2, 6, 3, 1, 3, 5, 1, 3, 3, 4, 6, 3, 2, 2, 5, 2, 3, 1, 4, 1, 5, 5, 1, 2, 1, 1, 6, 5, 2, 6, 6, 5, 1, 3, 5, 4, 5, 1, 1, 1, 3, 1, 2, 1, 5, 6, 2, 4, 5, 4, 6, 2, 6, 4, 3, 4, 6, 3, 6, 4, 3, 3, 1, 1, 6, 5, 3, 5, 3, 6, 6, 3, 5, 3, 1, 6, 4, 3, 5, 3, 2, 2, 3, 3, 4, 4, 2, 4, 2, 3, 1, 2, 5, 4, 6, 6, 5, 2, 4, 4, 3, 6, 5, 3, 5, 6, 4, 3, 3, 4, 6, 4, 1, 2, 6, 4, 1, 5, 4, 1, 5, 1, 1, 6, 4, 6, 6, 5, 6, 1, 5, 4, 2, 6, 1, 1, 4, 1, 1, 4, 3, 4, 5, 2, 2, 5, 3, 3, 1, 3, 2, 3, 6, 6, 6, 1, 2, 6, 1, 1, 4, 2, 2, 6, 2, 2, 4, 5, 4, 2, 4, 6, 5, 3, 4, 6, 6, 6, 5, 6, 3, 3, 1, 4, 4, 2, 4, 2, 4, 4, 1, 1, 1, 5, 4, 2, 1, 3, 1, 3, 1, 5, 4, 4, 3, 2, 2, 3, 3, 6, 3, 6, 1, 6, 5, 4, 2, 4, 3, 4, 5, 4, 2, 2, 5, 2, 6, 1, 6, 3, 5, 6, 5, 5, 3, 5, 2, 4, 5, 2, 2, 3, 3, 1, 3, 3, 5, 5, 3, 4, 5, 5, 1, 2, 1, 6, 4, 3, 5, 1, 5, 5, 6, 4, 1, 5, 4, 6, 4, 2, 1, 4, 6, 1, 1, 2, 5, 4, 6, 6, 3, 1, 6, 5, 1, 5, 5, 5, 1, 6, 2, 4, 2, 3, 5, 1, 3, 1, 5, 3, 1, 6, 6, 1, 4, 4, 6, 4, 6, 3, 6, 2, 1, 2, 6, 5, 6, 1, 1, 3, 1, 5, 4, 6, 1, 1, 3, 4, 4, 3, 2, 1, 4, 4, 5, 4, 2, 5, 3, 4, 5, 6, 4, 3, 2, 5, 1, 4, 4, 3, 1, 3, 3, 1, 6, 2, 6, 6, 1, 5, 1, 3, 2, 5, 2, 2, 6, 3, 6, 5, 4, 4, 5, 6, 1, 3, 3, 6, 3, 3, 4, 1, 4, 4, 4, 1, 3, 1, 1, 5, 1, 1, 4, 4, 1, 1, 5, 2, 4, 3, 3, 3, 6, 4, 3, 1, 5, 4, 3, 6, 3, 3, 2, 2, 3, 1, 2, 1, 1, 6, 6, 3, 4, 3, 2, 3, 5, 5, 3, 1, 2, 2, 4, 2, 6, 5, 6, 6, 6, 2, 1, 2, 1, 2, 1, 1, 4, 4, 5, 2, 3, 6, 3, 1, 6, 6, 3, 6, 3, 4, 3, 3, 3, 5, 3, 1, 6, 1, 4, 1, 3, 4, 3, 3, 5, 2, 5, 5, 1, 5, 4, 3, 1, 2, 1, 5, 5, 2, 6, 2, 3, 2, 4, 3, 3, 2, 6, 5, 2, 5, 2, 6, 3, 1, 1, 3, 2, 4, 2, 4, 2, 1, 3, 3, 6, 3, 6, 1, 4, 5, 2, 2, 6, 6, 1, 5, 2, 2, 4, 4, 1, 6, 6, 6, 1, 6, 4, 4, 3, 6, 6, 1, 6, 5, 1, 5, 3, 3, 3, 4, 3, 4, 2, 4, 3, 4, 3, 5, 2, 6, 4, 1, 6, 6, 6, 1, 1, 4, 5, 6, 6, 1, 1, 1, 2, 1, 4, 3, 1, 4, 6, 2, 2, 6, 5, 2, 6, 1, 5, 6, 3, 4, 3, 1, 4, 5, 5, 6, 4, 4, 6, 5, 6, 6, 6, 5, 3, 1, 2, 3, 1, 6, 3, 5, 4, 3, 5, 5, 4, 4, 2, 4, 6, 4, 5, 5, 2, 1, 3, 1, 2, 4, 2, 1, 5, 4, 5, 3, 2, 6, 6, 3, 6, 6, 5, 4, 1, 6, 3, 3, 3, 5, 5, 6, 3, 5, 1, 5, 4, 1, 3, 4, 1, 4, 4, 6, 1, 5, 5, 1, 4, 6, 1, 3, 6, 1, 5, 3, 5, 1, 4, 2, 2, 4, 3, 5, 2, 4, 6, 3, 5, 1, 4, 5, 6, 2, 6, 3, 4, 6, 6, 4, 2, 3, 6, 4, 6, 6, 6, 1, 2, 4, 3, 2, 3, 3, 2, 4, 4, 1, 1, 3, 6, 2, 1, 2, 5, 2, 3, 2, 6, 5, 6, 5, 5, 2, 1, 1, 4, 6, 6, 5, 3, 2, 1, 2, 5, 2, 3, 2, 5, 5, 6, 2, 3, 6, 6, 5, 2, 2, 1, 5, 2, 6, 3, 3, 4, 6, 3, 6, 4, 1, 3, 1, 4, 4, 4, 3, 6, 2, 5, 2, 4, 1, 6, 2, 5, 5, 6, 5, 1, 4, 4, 3, 3, 4, 3, 1, 1, 4, 3, 4, 5, 2, 6, 4, 4, 5, 4, 5, 6, 2, 4, 4, 6, 3, 6, 6, 1, 1, 2, 5, 2, 1, 1, 1, 3, 5, 1, 2, 1, 1, 6, 4, 2, 1, 5, 4, 1, 1, 1, 1, 3, 3, 5, 1, 5, 2, 2, 4, 1, 1, 6, 3, 3, 1, 2, 2, 1, 1, 6, 4, 4, 1, 1, 4, 3, 3, 2, 3, 3, 5, 4, 2, 4, 2, 2, 6, 6, 3, 2, 4, 3, 2, 4, 6, 4, 5, 1, 3, 1, 4, 3, 5, 4, 2, 3, 2, 2, 3, 4, 1, 1, 4, 3, 6, 2, 5, 5, 5, 3, 4, 2, 1, 5, 6, 2, 4, 3, 4, 3, 2, 6, 2, 5, 5, 2, 5, 1, 1, 5, 1, 1, 1, 6, 6, 4, 2, 6, 1, 6, 4, 4, 2, 6, 2, 3, 1, 6, 6, 4, 4, 5, 4, 4, 3, 6, 3, 6, 4, 1, 1, 2, 1, 2, 1, 2, 2, 3, 5, 5, 5, 5, 1, 1, 2, 4, 4, 2, 5, 6, 6, 5, 6, 3, 6, 5, 2, 6, 3, 2, 4, 3, 1, 4, 4, 3, 6, 6, 6, 6, 6, 3, 3, 4, 5, 4, 4, 1, 5, 2, 2, 1, 3, 2, 6, 6, 1, 6, 1, 6, 3, 2, 3, 3, 2, 6, 2, 4, 4, 2, 5, 1, 6, 6, 2, 1, 2, 1, 3, 1, 1, 5, 4, 2, 2, 3, 3, 4, 1, 1, 6, 4, 4, 6, 2, 3, 3, 3, 5, 2, 4, 6, 3, 5, 2, 6, 3, 6, 5, 5, 2, 6, 5, 5, 5, 4, 4, 5, 3, 2, 4, 1, 5, 3, 5, 6, 3, 2, 2, 1, 1, 3, 1, 5, 1, 5, 2, 5, 4, 4, 1, 4, 6, 2, 5, 6, 5, 3, 6, 3, 3, 1, 2, 2, 4, 1, 6, 1, 6, 4, 4, 4, 1, 6, 2, 5, 3, 6, 4, 1, 2, 4, 1, 3, 2, 3, 2, 2, 3, 1, 5, 3, 5, 1, 1, 6, 6, 2, 6, 2, 2, 6, 1, 6, 1, 3, 2, 3, 1, 4, 2, 2, 6, 3, 1, 5, 6, 6, 6, 2, 3, 6, 4, 1, 2, 2, 4, 2, 2, 1, 3, 3, 4, 2, 1, 2, 4, 1, 1, 6, 6, 6, 1, 6, 1, 3, 3, 5, 5, 4, 3, 3, 2, 6, 6, 4, 1, 4, 5, 2, 5, 5, 5, 5, 2, 3, 4, 2, 4, 2, 1, 2, 1, 1, 4, 5, 6, 3, 5, 6, 2, 1, 1, 3, 6, 5, 4, 1, 2, 5, 1, 2, 3, 5, 5, 3, 2, 1, 5, 1, 6, 3, 2, 6, 1, 6, 6, 2, 5, 2, 1, 3, 2, 3, 2, 2, 6, 5, 4, 4, 4, 4, 6, 2, 1, 2, 1, 3, 4, 4, 4, 1, 6, 1, 5, 5, 1, 1, 1, 4, 4, 1, 1, 6, 3, 6, 6, 3, 6, 2, 4, 6, 5, 1, 4, 4, 5, 2, 3, 3, 3, 1, 1, 3, 1, 6, 4, 4, 1, 6, 5, 1, 5, 4, 6, 4, 6, 6, 4, 1, 5, 6, 5, 3, 3, 2, 5, 5, 4, 1, 5, 4, 4, 2, 1, 5, 3, 1, 3, 2, 2, 5, 2, 6, 1, 6, 5, 6, 3, 6, 6, 5, 5, 2, 6, 3, 3, 2, 4, 4, 1, 6, 4, 2, 5, 2, 3, 3, 5, 4, 3, 3, 5, 4, 4, 5, 2, 2, 6, 4, 2, 2, 6, 1, 6, 1, 1, 3, 6, 3, 1, 5, 6, 5, 4, 3, 5, 1, 6, 2, 4, 6, 3, 3, 3, 3, 3, 6, 2, 5, 2, 5, 6, 6, 5, 1, 6, 5, 5, 6, 2, 4, 5, 5, 4, 1, 5, 1, 4, 4, 3, 4, 3, 2, 2, 4, 6, 3, 3, 3, 1, 6, 5, 6, 4, 4, 1, 6, 1, 6, 2, 4, 5, 4, 6, 2, 1, 3, 1, 4, 2, 1, 6, 4, 3, 2, 6, 1, 3, 4, 2, 1, 6, 2, 1, 3, 3, 5, 3, 5, 6, 1, 6, 1, 1, 4, 2, 6, 3, 2, 1, 2, 5, 1, 5, 1, 1, 6, 3, 4, 2, 5, 1, 5, 4, 2, 5, 3, 1, 1, 5, 6, 6, 2, 6, 2, 5, 5, 2, 1, 1, 4, 3, 6, 2, 4, 3, 2, 6, 3, 2, 3, 5, 1, 5, 4, 6, 1, 2, 1, 3, 5, 2, 1, 4, 4, 6, 2, 6, 2, 5, 5, 2, 3, 1, 5, 4, 4, 6, 3, 4, 4, 5, 1, 1, 2, 5, 3, 4, 5, 1, 3, 4, 1, 6, 1, 1, 2, 5, 4, 5, 1, 4, 4, 5, 6, 5, 1, 3, 5, 2, 2, 4, 2, 3, 3, 5, 2, 5, 1, 1, 3, 3, 3, 4, 5, 4, 6, 4, 3, 4, 2, 4, 4, 3, 2, 3, 2, 2, 6, 2, 1, 2, 5, 3, 3, 6, 5, 5, 6, 1, 2, 1, 5, 5, 3, 5, 1, 2, 4, 2, 4, 4, 4, 6, 6, 5, 3, 5, 2, 4, 1, 6, 5, 1, 6, 2, 5, 1, 6, 5, 2, 5, 4, 6, 6, 6, 2, 5, 2, 6, 3, 6, 5, 1, 2, 4, 1, 1, 2, 3, 2, 4, 6, 4, 5, 5, 1, 4, 5, 3, 6, 6, 1, 4, 4, 6, 4, 5, 4, 6, 1, 4, 5, 5, 2, 2, 5, 5, 3, 4, 6, 6, 3, 5, 6, 2, 2, 3, 1, 3, 1, 6, 3, 1, 3, 1, 2, 5, 2, 6, 5, 1, 4, 1, 1, 1, 3, 3, 4, 3, 3, 5, 1, 5, 4, 1, 1, 4, 4, 1, 4, 6, 4, 5, 4, 6, 5, 6, 1, 1, 2, 3, 5, 5, 2, 3, 3, 1, 1, 6, 4, 2, 6, 4, 4, 4, 2, 1, 6, 2, 3, 5, 4, 3, 3, 4, 1, 2, 4, 1, 2, 1, 5, 1, 2, 5, 4, 3, 3, 4, 4, 5, 2, 4, 6, 4, 1, 3, 4, 2, 1, 6, 3, 4, 6, 5, 1, 5, 6, 6, 5, 2, 1, 4, 1, 2, 4, 1, 5, 5, 3, 2, 3, 2, 6, 4, 6, 4, 3, 6, 4, 2, 6, 6, 2, 4, 6, 2, 1, 4, 6, 3, 6, 2, 3, 6, 4, 6, 5, 4, 6, 5, 1, 5, 3, 4, 5, 3, 6, 3, 3, 5, 5, 5, 2, 2, 5, 4, 2, 1, 3, 3, 1, 4, 6, 5, 4, 1, 5, 2, 5, 2, 2, 4, 3, 6, 2, 1, 1, 2, 2, 2, 5, 1, 3, 2, 5, 4, 1, 5, 5, 6, 2, 5, 5, 2, 4, 2, 2, 6, 4, 6, 4, 5, 1, 3, 4, 3, 2, 1, 4, 5, 1, 5, 1, 3, 6, 1, 5, 5, 2, 5, 2, 2, 3, 6, 2, 2, 3, 6, 1, 1, 3, 1, 2, 6, 2, 5, 2, 5, 4, 5, 1, 5, 4, 4, 2, 3, 1, 6, 1, 1, 3, 5, 1, 3, 2, 5, 5, 4, 1, 4, 5, 6, 5, 4, 2, 1, 6, 3, 4, 1, 4, 4, 2, 1, 1, 2, 1, 6, 6, 2, 6, 2, 4, 6, 5, 2, 3, 1, 1, 6, 3, 4, 3, 1, 3, 2, 1, 5, 4, 6, 6, 5, 3, 6, 3, 5, 2, 1, 5, 3, 1, 5, 2, 3, 6, 2, 3, 1, 6, 4, 4, 6, 5, 3, 4, 5, 2, 1, 3, 6, 4, 3, 6, 2, 2, 1, 5, 3, 4, 6, 3, 6, 2, 1, 5, 3, 1, 1, 6, 4, 3, 4, 3, 2, 2, 5, 1, 4, 5, 5, 5, 6, 1, 4, 6, 1, 1, 3, 3, 6, 1, 3, 3, 5, 6, 5, 4, 6, 5, 5, 5, 1, 5, 6, 1, 6, 3, 6, 6, 1, 4, 3, 3, 3, 3, 3, 1, 2, 4, 5, 1, 1, 6, 6, 3, 3, 2, 5, 2, 2, 3, 3, 2, 6, 5, 1, 3, 4, 6, 2, 1, 4, 6, 6, 3, 1, 2, 5, 6, 1, 1, 4, 1, 2, 4, 6, 3, 6, 1, 5, 2, 1, 3, 2, 5, 6, 1, 4, 4, 1, 5, 3, 1, 1, 5, 1, 6, 3, 1, 5, 2, 5, 6, 1, 6, 4, 3, 1, 6, 3, 1, 5, 4, 6, 2, 6, 3, 6, 2, 4, 1, 3, 3, 1, 1, 6, 3, 1, 2, 4, 1, 1, 6, 4, 5, 3, 5, 1, 2, 1, 4, 2, 1, 4, 6, 3, 1, 1, 1, 2, 5, 1, 5, 2, 5, 4, 3, 6, 4, 2, 5, 5, 2, 1, 4, 2, 6, 3, 4, 4, 1, 3, 1, 2, 4, 2, 3, 1, 1, 3, 3, 4, 3, 5, 1, 6, 6, 4, 5, 2, 2, 6, 3, 2, 4, 5, 2, 1, 5, 4, 2, 2, 6, 4, 5, 4, 4, 4, 5, 2, 1, 4, 6, 5, 5, 1, 2, 3, 2, 3, 2, 3, 2, 3, 3, 4, 3, 3, 2, 5, 6, 1, 5, 1, 4, 1, 1, 4, 3, 4, 6, 4, 1, 2, 1, 2, 3, 2, 2, 6, 6, 3, 5, 2, 1, 4, 4, 4, 5, 3, 4, 3, 6, 1, 3, 6, 3, 5, 5, 6, 4, 5, 4, 2, 1, 1, 2, 5, 1, 3, 3, 2, 3, 4, 5, 6, 6, 5, 5, 6, 6, 6, 1, 1, 5, 1, 5, 5, 5, 3, 4, 6, 4, 3, 1, 6, 3, 1, 4, 5, 3, 1, 3, 4, 3, 3, 3, 2, 4, 3, 5, 3, 5, 5, 6, 1, 6, 2, 4, 3, 1, 4, 6, 5, 5, 3, 1, 2, 5, 2, 6, 3, 4, 4, 1, 6, 3, 4, 6, 2, 5, 2, 5, 1, 2, 5, 5, 6, 2, 6, 6, 2, 2, 3, 5, 6, 3, 6, 1, 3, 6, 2, 2, 6, 1, 5, 2, 4, 1, 5, 5, 4, 2, 2, 3, 6, 2, 2, 3, 3, 3, 6, 2, 6, 5, 6, 3, 4, 2, 1, 3, 4, 6, 1, 5, 3, 1, 5, 6, 2, 1, 5, 4, 5, 1, 1, 1, 4, 1, 3, 5, 4, 3, 2, 4, 6, 1, 5, 1, 4, 1, 5, 4, 3, 4, 3, 1, 5, 6, 2, 2, 4, 3, 4, 2, 3, 3, 6, 3, 2, 4, 6, 6, 4, 6, 3, 4, 1, 3, 2, 4, 1, 5, 6, 4, 5, 4, 5, 3, 2, 3, 5, 3, 6, 6, 5, 5, 5, 3, 3, 6, 6, 5, 6, 5, 4, 4, 6, 3, 5, 5, 6, 1, 6, 3, 6, 4, 2, 6, 1, 1, 6, 6, 4, 5, 5, 5, 1, 4, 4, 1, 2, 2, 5, 5, 6, 1, 1, 4, 4, 1, 1, 1, 6, 3, 3, 4, 6, 1, 6, 2, 4, 2, 3, 6, 6, 5, 4, 3, 1, 6, 6, 4, 4, 6, 6, 5, 6, 3, 5, 4, 5, 6, 5, 4, 1, 2, 1, 2, 1, 2, 2, 5, 1, 6, 4, 2, 5, 3, 2, 5, 3, 5, 3, 5, 4, 6, 3, 6, 2, 4, 4, 6, 4, 3, 4, 4, 4, 6, 2, 3, 4, 1, 5, 6, 5, 1, 1, 3, 4, 5, 6, 1, 2, 6, 1, 3, 3, 1, 5, 2, 1, 1, 1, 2, 5, 3, 4, 5, 2, 2, 5, 3, 1, 3, 2, 3, 1, 1, 6, 1, 6, 4, 3, 3, 2, 4, 1, 5, 1, 3, 3, 1, 3, 4, 3, 1, 4, 1, 1, 4, 3, 1, 1, 3, 6, 3, 2, 6, 3, 5, 3, 5, 1, 3, 3, 6, 3, 3, 2, 3, 5, 6, 4, 2, 6, 4, 6, 5, 5, 5, 5, 5, 3, 5, 4, 6, 6, 3, 3, 1, 4, 3, 5, 4, 5, 3, 4, 4, 4, 3, 2, 5, 6, 3, 2, 5, 3, 6, 5, 1, 5, 5, 2, 6, 1, 2, 3, 1, 6, 3, 4, 2, 2, 1, 2, 6, 3, 2, 2, 5, 6, 5, 5, 1, 5, 5, 1, 6, 5, 1, 3, 1, 2, 1, 2, 1, 1, 4, 5, 6, 1, 3, 4, 3, 3, 6, 4, 4, 1, 3, 6, 3, 1, 1, 2, 6, 1, 3, 4, 5, 5, 4, 1, 4, 5, 4, 2, 1, 2, 4, 6, 2, 1, 5, 4, 6, 6, 5, 4, 2, 2, 1, 3, 1, 5, 2, 3, 3, 6, 6, 3, 3, 6, 6, 2, 4, 6, 1, 6, 6, 5, 5, 6, 5, 5, 2, 4, 5, 5, 4, 1, 4, 5, 1, 1, 3, 1, 6, 3, 2, 6, 4, 2, 2, 4, 2, 5, 5, 2, 5, 4, 2, 2, 3, 6, 4, 1, 3, 1, 6, 5, 1, 3, 4, 6, 3, 3, 4, 4, 3, 3, 6, 5, 6, 3, 5, 2, 4, 4, 4, 5, 4, 6, 4, 3, 6, 1, 2, 1, 3, 6, 6, 4, 3, 5, 4, 1, 4, 1, 1, 4, 3, 3, 4, 5, 1, 3, 4, 1, 2, 5, 6, 6, 4, 3, 1, 3, 4, 6, 3, 1, 1, 1, 2, 3, 1, 6, 6, 4, 3, 6, 4, 4, 1, 5, 4, 5, 2, 1, 6, 2, 6, 6, 5, 2, 6, 6, 4, 5, 3, 1, 6, 1, 6, 3, 4, 5, 6, 4, 1, 5, 5, 5, 1, 3, 2, 4, 5, 3, 3, 2, 3, 4, 6, 2, 4, 1, 4, 3, 2, 3, 3, 4, 2, 1, 5, 4, 1, 5, 6, 4, 4, 4, 6, 3, 5, 4, 3, 5, 4, 3, 5, 5, 4, 6, 3, 3, 2, 4, 5, 3, 4, 6, 2, 5, 5, 5, 4, 2, 4, 2, 5, 2, 4, 6, 3, 1, 3, 3, 3, 5, 2, 5, 1, 3, 5, 6, 3, 3, 1, 4, 2, 2, 2, 6, 5, 1, 6, 5, 3, 1, 6, 1, 1, 5, 6, 2, 5, 1, 4, 4, 2, 5, 2, 1, 4, 6, 4, 5, 6, 3, 3, 4, 4, 2, 2, 6, 2, 1, 5, 5, 1, 5, 6, 1, 5, 5, 1, 6, 3, 4, 1, 1, 5, 2, 4, 3, 5, 4, 2, 5, 2, 2, 4, 4, 4, 3, 5, 1, 5, 1, 3, 5, 3, 2, 5, 5, 4, 5, 4, 4, 4, 2, 1, 5, 5, 6, 2, 3, 1, 4, 1, 5, 6, 5, 1, 4, 4, 6, 4, 3, 6, 2, 4, 5, 1, 5, 2, 6, 3, 4, 1, 4, 1, 2, 1, 1, 6, 5, 1, 2, 2, 2, 2, 1, 6, 3, 2, 3, 1, 1, 2, 5, 2, 3, 4, 4, 4, 4, 1, 5, 4, 2, 4, 5, 2, 3, 6, 2, 3, 4, 2, 3, 1, 6, 3, 3, 4, 6, 5, 5, 2, 4, 5, 3, 6, 6, 5, 6, 2, 4, 3, 5, 5, 2, 3, 6, 3, 4, 2, 2, 5, 6, 4, 1, 1, 3, 4, 3, 1, 6, 6, 4, 5, 2, 2, 5, 2, 2, 1, 1, 2, 5, 3, 3, 3, 6, 1, 2, 1, 2, 1, 1, 4, 3, 6, 2, 6, 5, 6, 4, 3, 5, 5, 3, 1, 5, 4, 6, 4, 6, 1, 4, 3, 5, 5, 2, 4, 6, 5, 1, 3, 6, 3, 6, 2, 6, 3, 2, 2, 4, 4, 3, 3, 3, 4, 3, 3, 6, 4, 2, 5, 6, 4, 2, 6, 6, 3, 2, 1, 2, 6, 1, 1, 5, 4, 3, 2, 5, 1, 2, 1, 1, 4, 3, 1, 4, 3, 3, 4, 6, 2, 3, 3, 4, 2, 1, 6, 4, 5, 4, 4, 4, 5, 6, 5, 1, 2, 5, 2, 6, 3, 2, 4, 1, 2, 5, 6, 1, 4, 3, 3, 1, 3, 3, 1, 5, 4, 6, 5, 1, 5, 1, 3, 6, 1, 1, 2, 5, 1, 5, 4, 3, 6, 2, 6, 3, 3, 2, 1, 3, 2, 1, 2, 1, 5, 1, 4, 4, 2, 6, 1, 3, 1, 5, 1, 4, 5, 4, 5, 6, 6, 6, 4, 3, 4, 2, 5, 2, 6, 3, 1, 2, 5, 4, 4, 6, 1, 4, 5, 1, 4, 1, 5, 5, 3, 1, 1, 5, 2, 1, 6, 5, 6, 5, 3, 5, 5, 4, 2, 4, 2, 6, 2, 4, 2, 1, 2, 6, 2, 2, 2, 2, 4, 6, 3, 2, 4, 3, 1, 3, 2, 3, 5, 5, 6, 1, 3, 2, 5, 6, 3, 2, 5, 6, 5, 3, 4, 2, 3, 2, 2, 1, 1, 6, 4, 1, 4, 1, 1, 5, 1, 5, 3, 3, 2, 5, 2, 2, 6, 6, 1, 5, 2, 1, 4, 2, 1, 2, 1, 2, 3, 5, 1, 4, 4, 6, 1, 3, 5, 5, 5, 1, 4, 3, 5, 6, 3, 4, 4, 4, 2, 3, 6, 6, 4, 5, 2, 5, 5, 3, 4, 2, 2, 1, 6, 3, 4, 2, 2, 5, 3, 3, 4, 4, 4, 3, 1, 2, 6, 2, 4, 5, 3, 4, 3, 6, 5, 3, 2, 1, 3, 4, 6, 3, 2, 4, 3, 5, 1, 3, 1, 1, 3, 2, 5, 4, 6, 4, 2, 1, 5, 1, 2, 1, 6, 2, 2, 5, 1, 2, 4, 6, 6, 1, 4, 1, 5, 5, 5, 4, 5, 5, 5, 2, 1, 3, 5, 5, 5, 1, 2, 1, 5, 1, 2, 1, 5, 1, 5, 3, 3, 4, 4, 2, 5, 2, 3, 2, 1, 1, 4, 4, 4, 3, 3, 4, 5, 6, 2, 6, 4, 3, 5, 4, 1, 6, 2, 2, 5, 2, 6, 5, 5, 5, 6, 1, 4, 4, 1, 6, 1, 6, 2, 6, 1, 6, 5, 1, 3, 6, 4, 1, 1, 6, 4, 2, 2, 2, 2, 1, 1, 4, 6, 4, 2, 6, 1, 2, 2, 1, 4, 6, 2, 1, 1, 1, 3, 2, 6, 3, 5, 6, 2, 5, 3, 6, 5, 5, 2, 5, 2, 4, 6, 3, 5, 5, 1, 3, 3, 6, 2, 2, 4, 6, 4, 3, 6, 6, 3, 6, 4, 1, 3, 6, 3, 4, 5, 6, 2, 6, 4, 6, 6, 2, 5, 1, 1, 2, 6, 5, 5, 3, 6, 5, 6, 2, 3, 1, 6, 3, 2, 3, 4, 4, 1, 4, 6, 1, 5, 1, 3, 4, 6, 5, 6, 6, 4, 2, 1, 1, 6, 6, 1, 4, 2, 3, 5, 6, 6, 1, 2, 4, 1, 5, 5, 3, 6, 5, 1, 1, 5, 5, 1, 5, 4, 2, 2, 1, 3, 5, 1, 2, 5, 2, 1, 4, 3, 3, 1, 5, 6, 2, 1, 3, 4, 1, 1, 3, 6, 1, 2, 4, 3, 1, 6, 1, 2, 4, 2, 5, 4, 3, 6, 3, 2, 4, 6, 4, 2, 1, 4, 6, 3, 2, 1, 4, 4, 5, 1, 2, 4, 2, 3, 3, 3, 6, 4, 2, 3, 1, 1, 3, 2, 5, 2, 3, 5, 3, 6, 5, 3, 1, 2, 6, 5, 2, 5, 4, 5, 2, 1, 1, 5, 1, 3, 4, 2, 3, 2, 1, 1, 3, 1, 4, 6, 5, 1, 4, 2, 6, 2, 3, 4, 4, 3, 3, 1, 6, 4, 4, 5, 2, 4, 6, 3, 6, 4, 2, 3, 5, 4, 3, 3, 3, 3, 6, 1, 1, 2, 6, 6, 6, 1, 2, 1, 1, 5, 2, 1, 6, 3, 4, 5, 4, 4, 1, 2, 2, 3, 2, 2, 3, 2, 5, 2, 6, 3, 2, 4, 5, 2, 2, 6, 1, 3, 2, 3, 5, 6, 5, 3, 5, 3, 4, 2, 2, 1, 3, 2, 3, 2, 4, 1, 2, 2, 5, 3, 1, 5, 5, 5, 5, 4, 2, 4, 2, 2, 4, 6, 4, 5, 4, 2, 2, 3, 1, 3, 6, 2, 4, 3, 1, 1, 3, 6, 5, 5, 2, 1, 6, 4, 5, 2, 3, 3, 1, 1, 3, 4, 4, 5, 1, 3, 4, 4, 2, 1, 4, 1, 4, 5, 2, 1, 2, 3, 6, 3, 1, 2, 2, 4, 6, 2, 2, 2, 4, 6, 3, 4, 1, 4, 3, 5, 1, 2, 6, 6, 4, 5, 2, 2, 4, 6, 3, 3, 3, 1, 6, 3, 1, 1, 4, 3, 3, 3, 2, 1, 6, 5, 3, 1, 2, 4, 6, 1, 2, 4, 6, 2, 5, 3, 2, 4, 6, 3, 2, 2, 6, 2, 6, 5, 1, 4, 2, 2, 6, 3, 3, 6, 4, 2, 3, 2, 6, 2, 4, 1, 1, 4, 4, 6, 3, 2, 4, 5, 2, 3, 6, 3, 3, 3, 1, 4, 2, 3, 4, 2, 4, 3, 6, 6, 6, 3, 3, 2, 1, 4, 3, 5, 5, 6, 1, 4, 3, 6, 4, 4, 6, 6, 1, 3, 3, 2, 6, 3, 5, 6, 5, 5, 3, 5, 1, 5, 1, 6, 3, 2, 4, 6, 1, 1, 2, 6, 3, 6, 1, 4, 4, 5, 6, 2, 3, 3, 3, 6, 1, 4, 5, 2, 5, 1, 6, 6, 4, 2, 2, 6, 2, 5, 2, 4, 2, 6, 3, 5, 3, 1, 2, 3, 6, 1, 6, 4, 6, 6, 6, 4, 1, 3, 1, 3, 4, 6, 4, 2, 5, 1, 4, 2, 4, 4, 4, 6, 1, 1, 6, 5, 2, 3, 1, 1, 6, 5, 5, 2, 2, 1, 2, 3, 6, 5, 6, 2, 5, 6, 5, 6, 1, 6, 6, 6, 2, 6, 1, 6, 1, 5, 6, 5, 1, 1, 3, 3, 1, 3, 3, 6, 5, 2, 4, 6, 6, 6, 3, 5, 3, 1, 2, 5, 1, 6, 2, 3, 1, 6, 4, 1, 6, 5, 6, 5, 4, 3, 3, 5, 6, 3, 3, 4, 3, 6, 3, 5, 4, 1, 1, 3, 5, 3, 2, 2, 3, 3, 6, 3, 1, 1, 5, 1, 1, 1, 1, 6, 3, 4, 1, 6, 2, 5, 3, 5, 2, 6, 3, 4, 6, 3, 1, 4, 5, 3, 1, 1, 5, 6, 4, 1, 3, 6, 4, 4, 6, 2, 6, 6, 6, 6, 2, 1, 6, 2, 6, 3, 2, 4, 5, 4, 3, 4, 5, 4, 3, 6, 2, 6, 4, 4, 4, 4, 4, 6, 4, 3, 3, 6, 2, 6, 4, 1, 3, 3, 4, 2, 1, 5, 2, 6, 2, 5, 5, 2, 5, 5, 3, 4, 3, 6, 4, 5, 4, 5, 6, 6, 5, 4, 4, 2, 1, 5, 3, 5, 1, 3, 6, 4, 4, 5, 2, 3, 5, 6, 1, 2, 3, 2, 4, 3, 3, 5, 1, 3, 3, 2, 1, 3, 5, 5, 3, 3, 5, 1, 5, 5, 4, 5, 4, 2, 2, 2, 3, 2, 6, 1, 3, 2, 1, 4, 2, 2, 2, 5, 6, 1, 2, 5, 4, 2, 1, 6, 4, 5, 3, 1, 4, 3, 4, 6, 2, 3, 5, 4, 5, 6, 5, 6, 1, 5, 1, 2, 2, 1, 5, 5, 2, 3, 1, 5, 2, 4, 4, 2, 6, 4, 3, 1, 6, 2, 4, 4, 2, 6, 4, 6, 6, 2, 2, 6, 5, 5, 6, 3, 2, 6, 2, 6, 3, 1, 6, 3, 2, 1, 3, 4, 1, 1, 2, 1, 1, 6, 3, 3, 4, 3, 4, 2, 3, 4, 6, 2, 3, 4, 6, 6, 4, 1, 5, 5, 1, 6, 2, 1, 5, 3, 2, 3, 2, 6, 5, 6, 5, 1, 1, 2, 6, 2, 4, 5, 5, 4, 4, 1, 4, 5, 6, 2, 3, 2, 1, 3, 6, 3, 5, 4, 5, 4, 5, 1, 5, 5, 1, 1, 2, 4, 5, 3, 2, 3, 1, 1, 2, 6, 5, 2, 2, 3, 5, 5, 6, 5, 6, 3, 3, 4, 1, 1, 3, 6, 6, 6, 6, 1, 6, 3, 3, 5, 4, 2, 3, 3, 2, 5, 2, 5, 2, 3, 2, 6, 4, 6, 3, 5, 4, 2, 3, 3, 4, 6, 5, 6, 3, 3, 3, 5, 3, 3, 4, 3, 6, 1, 5, 5, 4, 1, 2, 3, 2, 5, 5, 1, 3, 1, 1, 4, 6, 2, 1, 2, 4, 1, 4, 5, 2, 4, 4, 3, 3, 1, 4, 2, 3, 5, 3, 3, 4, 2, 5, 5, 1, 6, 4, 4, 4, 2, 2, 4, 5, 1, 1, 2, 3, 4, 5, 1, 2, 1, 3, 2, 5, 6, 4, 3, 1, 3, 1, 3, 4, 6, 4, 5, 3, 2, 3, 6, 1, 1, 1, 3, 3, 6, 6, 5, 1, 5, 2, 5, 6, 6, 1, 6, 5, 3, 3, 5, 6, 5, 1, 1, 6, 4, 4, 1, 3, 3, 4, 2, 3, 5, 6, 5, 1, 5, 1, 4, 1, 6, 3, 2, 3, 2, 2, 2, 4, 2, 2, 1, 6, 3, 5, 3, 6, 5, 2, 6, 6, 6, 6, 5, 4, 2, 6, 1, 6, 3, 5, 5, 5, 3, 1, 2, 6, 4, 1, 3, 3, 3, 4, 1, 5, 2, 3, 6, 3, 1, 6, 6, 6, 5, 3, 1, 1, 3, 1, 6, 3, 6, 2, 6, 6, 1, 4, 6, 2, 3, 6, 1, 1, 5, 2, 6, 1, 5, 5, 4, 3, 3, 6, 6, 2, 5, 5, 3, 1, 2, 2, 3, 3, 4, 2, 2, 2, 5, 5, 1, 2, 4, 2, 1, 1, 2, 2, 6, 4, 4, 4, 6, 3, 2, 3, 4, 6, 5, 4, 1, 5, 2, 5, 3, 5, 3, 5, 6, 6, 4, 1, 6, 3, 3, 4, 4, 2, 3, 2, 2, 5, 3, 3, 3, 6, 5, 2, 6, 5, 6, 1, 6, 3, 4, 2, 2, 1, 5, 2, 4, 3, 4, 2, 3, 1, 6, 2, 3, 6, 6, 3, 5, 3, 4, 2, 6, 2, 3, 2, 4, 5, 2, 3, 2, 2, 4, 6, 5, 4, 6, 1, 5, 1, 3, 5, 5, 6, 5, 3, 3, 2, 1, 3, 6, 2, 3, 6, 2, 2, 1, 5, 4, 1, 5, 5, 1, 2, 4, 6, 6, 5, 1, 3, 4, 3, 5, 3, 4, 3, 3, 2, 2, 5, 2, 3, 4, 1, 1, 1, 6, 4, 6, 4, 6, 4, 5, 2, 6, 1, 4, 3, 1, 3, 5, 5, 1, 1, 5, 2, 2, 5, 2, 1, 6, 3, 3, 2, 1, 4, 6, 4, 6, 4, 4, 3, 1, 1, 4, 2, 5, 3, 3, 6, 3, 1, 1, 3, 4, 3, 2, 3, 2, 6, 5, 2, 4, 2, 2, 5, 2, 4, 1, 6, 2, 6, 3, 2, 1, 5, 1, 5, 5, 6, 6, 5, 5, 5, 2, 5, 5, 4, 2, 6, 6, 6, 5, 3, 1, 1, 2, 2, 1, 1, 6, 1, 6, 1, 3, 1, 6, 5, 1, 4, 3, 5, 2, 1, 6, 4, 5, 4, 3, 4, 2, 1, 4, 6, 1, 1, 4, 4, 1, 5, 3, 2, 4, 6, 4, 2, 2, 1, 6, 4, 6, 3, 6, 5, 4, 4, 4, 2, 6, 3, 6, 1, 1, 1, 2, 4, 3, 3, 6, 2, 4, 3, 5, 6, 1, 3, 3, 6, 4, 3, 2, 3, 5, 3, 6, 3, 3, 4, 4, 4, 1, 6, 3, 1, 1, 2, 4, 1, 1, 2, 2, 3, 6, 4, 1, 1, 2, 3, 5, 1, 4, 2, 1, 1, 2, 2, 3, 3, 3, 5, 3, 2, 3, 4, 5, 4, 4, 1, 6, 3, 5, 2, 2, 4, 6, 1, 3, 1, 2, 5, 3, 4, 1, 3, 5, 3, 5, 4, 5, 2, 4, 3, 1, 3, 1, 2, 3, 1, 4, 6, 5, 3, 5, 6, 3, 3, 6, 6, 5, 5, 5, 3, 1, 5, 5, 5, 5, 6, 1, 3, 4, 1, 3, 4, 2, 4, 2, 2, 6, 4, 5, 2, 2, 3, 3, 5, 4, 3, 6, 3, 3, 6, 1, 3, 1, 1, 6, 1, 3, 3, 3, 6, 6, 2, 4, 2, 1, 6, 4, 1, 1, 4, 5, 6, 6, 2, 5, 5, 6, 3, 1, 6, 3, 1, 2, 2, 2, 4, 3, 3, 1, 4, 2, 5, 6, 4, 2, 4, 1, 5, 1, 3, 2, 3, 3, 4, 6, 6, 1, 2, 4, 2, 5, 5, 6, 2, 2, 5, 6, 5, 2, 2, 2, 6, 6, 2, 3, 6, 3, 6, 3, 6, 5, 2, 1, 4, 4, 5, 5, 4, 5, 2, 4, 3, 5, 1, 3, 6, 4, 1, 1, 3, 2, 6, 1, 6, 2, 2, 5, 3, 1, 3, 1, 4, 3, 1, 5, 2, 1, 5, 4, 5, 4, 3, 3, 3, 3, 4, 3, 3, 1, 5, 6, 4, 6, 4, 5, 3, 6, 4, 4, 3, 4, 5, 3, 5, 4, 5, 3, 4, 5, 5, 5, 2, 3, 1, 5, 2, 4, 6, 3, 6, 2, 6, 5, 5, 6, 6, 3, 4, 5, 1, 5, 2, 3, 6, 5, 4, 3, 1, 2, 1, 3, 6, 2, 4, 3, 6, 6, 6, 3, 6, 1, 5, 6, 3, 3, 3, 4, 6, 6, 6, 4, 1, 6, 5, 5, 2, 2, 6, 1, 4, 5, 6, 2, 3, 2, 3, 4, 4, 1, 4, 6, 3, 2, 3, 3, 2, 5, 3, 3, 5, 1, 2, 1, 5, 5, 3, 5, 3, 6, 5, 3, 5, 1, 5, 1, 3, 3, 5, 5, 6, 2, 1, 5, 6, 3, 4, 6, 1, 4, 3, 1, 1, 4, 5, 6, 3, 5, 3, 3, 2, 2, 2, 2, 4, 6, 1, 2, 2, 1, 1, 1, 3, 3, 6, 3, 2, 4, 1, 5, 6, 5, 4, 5, 4, 1, 5, 2, 4, 4, 4, 4, 1, 6, 3, 1, 5, 1, 4, 1, 3, 6, 5, 6, 4, 6, 4, 2, 4, 6, 5, 2, 5, 4, 5, 5, 2, 6, 1, 3, 3, 6, 1, 2, 6, 3, 1, 4, 4, 4, 2, 1, 1, 5, 4, 6, 2, 4, 2, 2, 5, 2, 3, 2, 3, 2, 5, 3, 6, 4, 2, 3, 4, 2, 6, 5, 6, 3, 3, 5, 4, 1, 5, 1, 1, 5, 1, 6, 4, 6, 3, 2, 1, 5, 3, 4, 4, 5, 3, 5, 3, 5, 2, 6, 2, 1, 3, 2, 6, 2, 5, 6, 4, 6, 2, 6, 4, 4, 1, 6, 5, 3, 6, 2, 4, 3, 6, 3, 4, 5, 5, 2, 2, 6, 3, 4, 6, 5, 6, 2, 6, 2, 3, 3, 1, 4, 5, 5, 2, 1, 3, 5, 2, 5, 2, 6, 6, 5, 6, 4, 3, 5, 2, 4, 1, 4, 6, 4, 2, 6, 5, 1, 2, 1, 5, 3, 2, 5, 4, 1, 6, 3, 2, 5, 6, 2, 5, 6, 1, 6, 1, 3, 1, 3, 6, 5, 2, 5, 5, 5, 1, 1, 4, 2, 2, 4, 1, 1, 1, 5, 2, 3, 1, 2, 4, 4, 4, 1, 3, 4, 4, 1, 6, 6, 1, 5, 1, 6, 6, 5, 2, 6, 5, 1, 4, 1, 5, 4, 3, 5, 3, 6, 6, 6, 3, 6, 2, 3, 1, 5, 1, 1, 3, 5, 4, 2, 3, 4, 4, 4, 5, 5, 1, 3, 6, 5, 3, 5, 5, 6, 5, 1, 4, 4, 3, 2, 5, 6, 3, 5, 4, 3, 2, 2, 5, 6, 2, 5, 3, 5, 1, 5, 3, 5, 5, 3, 3, 3, 4, 3, 6, 5, 1, 6, 2, 1, 6, 3, 3, 2, 6, 5, 2, 5, 4, 5, 6, 2, 6, 2, 6, 4, 2, 4, 5, 3, 1, 6, 6, 1, 2, 4, 4, 5, 1, 3, 1, 3, 6, 3, 5, 6, 5, 4, 1, 2, 1, 1, 5, 6, 5, 1, 6, 4, 4, 2, 4, 3, 6, 2, 2, 3, 2, 6, 3, 6, 3, 2, 5, 1, 2, 5, 5, 5, 4, 5, 5, 5, 4, 5, 6, 6, 4, 5, 2, 5, 4, 6, 2, 3, 1, 2, 5, 1, 6, 2, 6, 5, 5, 2, 6, 5, 4, 5, 1, 6, 3, 6, 5, 1, 3, 1, 4, 2, 2, 2, 4, 3, 3, 1, 5, 3, 2, 5, 2, 3, 3, 3, 4, 2, 4, 1, 3, 1, 1, 6, 1, 5, 2, 5, 4, 3, 5, 2, 3, 1, 3, 4, 6, 4, 6, 5, 5, 3, 4, 2, 6, 4, 4, 2, 2, 4, 2, 4, 5, 5, 3, 3, 1, 5, 6, 2, 3, 4, 4, 4, 3, 1, 4, 3, 6, 6, 1, 1, 1, 3, 1, 5, 2, 6, 6, 6, 6, 2, 6, 3, 6, 6, 6, 4, 4, 4, 3, 3, 3, 4, 6, 6, 2, 1, 2, 1, 4, 4, 1, 3, 4, 6, 6, 5, 3, 2, 1, 5, 4, 6, 4, 1, 1, 2, 1, 3, 1, 6, 2, 5, 5, 2, 5, 1, 2, 5, 6, 1, 3, 6, 1, 2, 4, 5, 6, 1, 5, 5, 1, 4, 5, 3, 5, 6, 3, 3, 2, 3, 4, 2, 5, 5, 5, 6, 6, 4, 2, 6, 3, 3, 5, 5, 1, 6, 2, 3, 3, 2, 5, 3, 4, 3, 2, 2, 2, 5, 5, 3, 2, 6, 2, 1, 3, 1, 4, 5, 4, 2, 4, 1, 2, 5, 5, 1, 2, 5, 5, 1, 4, 1, 5, 3, 3, 4, 2, 2, 3, 5, 6, 4, 4, 4, 3, 4, 2, 5, 4, 1, 1, 3, 6, 6, 2, 3, 5, 5, 5, 5, 5, 1, 3, 1, 1, 6, 3, 5, 3, 4, 2, 2, 4, 6, 5, 5, 5, 2, 5, 2, 4, 1, 3, 2, 3, 3, 4, 3, 2, 4, 3, 6, 3, 5, 5, 6, 4, 1, 4, 3, 5, 5, 6, 5, 1, 6, 1, 3, 2, 2, 6, 5, 6, 6, 4, 2, 2, 6, 1, 5, 2, 4, 1, 3, 1, 1, 3, 1, 5, 4, 6, 1, 6, 2, 2, 6, 2, 4, 6, 4, 1, 2, 2, 1, 1, 5, 5, 3, 3, 6, 4, 5, 4, 6, 1, 6, 5, 4, 2, 2, 5, 2, 2, 5, 3, 5, 3, 3, 3, 3, 2, 1, 4, 2, 2, 3, 3, 6, 1, 5, 3, 6, 3, 3, 2, 1, 1, 4, 5, 5, 3, 4, 4, 2, 1, 3, 3, 4, 3, 6, 6, 6, 2, 3, 5, 6, 5, 6, 1, 3, 5, 2, 1, 6, 3, 3, 4, 3, 5, 4, 4, 1, 3, 5, 5, 1, 3, 3, 4, 6, 1, 2, 4, 3, 6, 5, 3, 2, 1, 5, 5, 1, 4, 3, 4, 2, 2, 2, 5, 4, 3, 5, 6, 2, 2, 3, 3, 6, 1, 1, 3, 5, 1, 6, 4, 3, 4, 2, 3, 1, 2, 1, 2, 4, 4, 3, 4, 2, 1, 6, 5, 4, 2, 5, 5, 1, 6, 1, 3, 5, 5, 6, 5, 6, 1, 4, 2, 1, 6, 5, 5, 2, 1, 3, 4, 6, 2, 2, 1, 3, 2, 2, 6, 5, 5, 3, 5, 2, 6, 5, 4, 3, 1, 3, 1, 2, 3, 3, 4, 6, 5, 4, 4, 2, 4, 4, 5, 1, 3, 3, 3, 4, 4, 1, 2, 5, 5, 2, 2, 1, 4, 6, 3, 3, 2, 4, 5, 2, 5, 5, 5, 3, 2, 1, 6, 4, 5, 4, 4, 1, 1, 1, 6, 2, 1, 2, 4, 6, 2, 6, 2, 3, 3, 1, 1, 2, 1, 2, 3, 1, 3, 2, 3, 2, 6, 6, 4, 4, 6, 1, 2, 6, 5, 4, 2, 1, 2, 3, 5, 4, 5, 3, 2, 4, 1, 1, 4, 5, 1, 5, 6, 5, 3, 6, 3, 1, 3, 4, 6, 2, 1, 5, 3, 4, 6, 4, 3, 3, 5, 5, 2, 5, 5, 3, 1, 1, 5, 2, 3, 5, 1, 1, 3, 5, 2, 3, 5, 4, 6, 2, 1, 6, 2, 2, 1, 4, 3, 5, 1, 1, 4, 1, 2, 5, 3, 6, 4, 1, 5, 3, 5, 1, 5, 5, 2, 2, 5, 5, 4, 6, 3, 6, 2, 1, 2, 2, 1, 1, 2, 6, 3, 3, 4, 4, 4, 4, 6, 1, 4, 1, 6, 4, 6, 4, 3, 3, 6, 2, 6, 1, 2, 5, 3, 4, 3, 1, 3, 1, 4, 2, 2, 3, 3, 4, 1, 1, 6, 5, 4, 6, 3, 3, 6, 5, 1, 1, 2, 3, 3, 1, 2, 1, 4, 1, 2, 6, 6, 3, 5, 4, 2, 5, 6, 5, 4, 2, 6, 6, 2, 2, 5, 5, 4, 5, 1, 3, 1, 3, 2, 2, 1, 2, 2, 1, 3, 1, 1, 2, 5, 3, 4, 2, 1, 3, 3, 2, 1, 3, 6, 5, 5, 1, 6, 3, 2, 3, 5, 2, 3, 6, 1, 3, 6, 5, 3, 1, 6, 5, 4, 6, 4, 6, 5, 1, 4, 3, 3, 5, 4, 5, 6, 3, 6, 1, 1, 6, 4, 2, 4, 1, 3, 2, 5, 3, 6, 6, 6, 5, 4, 6, 6, 4, 4, 6, 4, 6, 2, 3, 1, 6, 6, 6, 6, 3, 1, 5, 6, 2, 5, 5, 2, 6, 1, 5, 1, 3, 5, 3, 3, 3, 3, 4, 6, 5, 4, 2, 4, 1, 5, 5, 6, 4, 4, 3, 5, 4, 6, 2, 5, 3, 1, 5, 6, 1, 6, 2, 3, 5, 5, 1, 3, 5, 5, 2, 2, 1, 3, 4, 4, 4, 6, 2, 2, 4, 1, 4, 6, 6, 6, 6, 2, 2, 1, 2, 2, 5, 3, 5, 4, 1, 5, 5, 5, 6, 2, 2, 2, 5, 6, 4, 4, 5, 2, 4, 2, 3, 6, 2, 6, 6, 6, 6, 4, 6, 2, 2, 1, 4, 3, 3, 1, 6, 2, 4, 4, 1, 1, 4, 3, 2, 6, 6, 2, 3, 4, 4, 2, 3, 6, 1, 4, 6, 2, 4, 4, 5, 1, 5, 6, 2, 5, 6, 4, 4, 6, 5, 5, 2, 3, 2, 3, 6, 3, 5, 5, 3, 5, 2, 4, 3, 1, 3, 3, 2, 3, 1, 3, 5, 1, 5, 2, 4, 1, 6, 4, 3, 2, 3, 6, 5, 1, 4, 2, 6, 3, 1, 2, 2, 1, 5, 6, 1, 5, 1, 3, 6, 1, 4, 1, 3, 2, 5, 1, 1, 3, 3, 5, 4, 5, 1, 4, 2, 4, 4, 2, 6, 5, 3, 5, 4, 4, 5, 6, 6, 4, 6, 1, 1, 5, 1, 5, 6, 4, 1, 1, 3, 1, 4, 4, 1, 4, 1, 5, 2, 2, 2, 5, 3, 4, 3, 1, 1, 2, 3, 1, 2, 5, 1, 3, 5, 4, 6, 6, 3, 4, 1, 1, 6, 4, 4, 1, 4, 5, 1, 6, 4, 2, 2, 1, 3, 5, 4, 2, 4, 1, 4, 6, 6, 4, 4, 1, 4, 6, 2, 6, 2, 2, 4, 1, 4, 3, 1, 5, 4, 4, 2, 3, 3, 2, 5, 2, 5, 5, 4, 3, 5, 2, 3, 3, 4, 5, 1, 3, 1, 1, 6, 3, 4, 4, 3, 3, 1, 1, 5, 2, 2, 6, 2, 4, 3, 6, 2, 5, 5, 2, 2, 6, 5, 4, 3, 2, 6, 2, 5, 5, 1, 5, 2, 5, 2, 2, 4, 4, 3, 5, 4, 2, 4, 2, 5, 2, 2, 4, 5, 4, 2, 3, 6, 2, 5, 6, 3, 4, 4, 4, 2, 5, 2, 2, 2, 6, 3, 2, 6, 6, 1, 6, 1, 1, 4, 6, 6, 5, 2, 1, 5, 4, 4, 2, 2, 4, 4, 3, 1, 3, 3, 2, 1, 6, 5, 6, 3, 4, 4, 1, 6, 3, 4, 5, 2, 6, 6, 2, 5, 3, 1, 4, 6, 2, 3, 5, 5, 4, 5, 6, 3, 4, 3, 3, 4, 4, 3, 5, 2, 1, 6, 3, 6, 2, 5, 5, 3, 3, 5, 1, 3, 6, 2, 5, 5, 5, 2, 3, 2, 5, 3, 6, 6, 3, 4, 2, 1, 5, 1, 5, 4, 2, 1, 2, 5, 1, 2, 5, 5, 6, 2, 4, 1, 3, 5, 4, 2, 1, 1, 2, 1, 1, 5, 1, 2, 6, 4, 5, 4, 6, 2, 2, 1, 1, 1, 5, 6, 1, 3, 4, 1, 1, 2, 1, 2, 5, 5, 6, 2, 1, 5, 1, 4, 5, 6, 6, 2, 5, 2, 1, 3, 6, 1, 4, 6, 5, 6, 2, 5, 5, 1, 6, 4, 1, 2, 5, 2, 4, 1, 6, 3, 5, 5, 5, 4, 3, 1, 3, 3, 4, 3, 1, 3, 1, 6, 6, 3, 3, 3, 2, 4, 2, 2, 5, 6, 5, 6, 1, 1, 1, 1, 1, 3, 2, 3, 3, 2, 1, 2, 2, 4, 6, 2, 3, 2, 4, 2, 6, 3, 5, 4, 1, 6, 4, 6, 1, 2, 1, 6, 2, 2, 4, 6, 1, 4, 2, 5, 1, 6, 2, 1, 4, 5, 3, 4, 2, 6, 5, 5, 1, 1, 6, 6, 4, 6, 2, 2, 4, 4, 4, 1, 1, 1, 4, 2, 6, 1, 3, 3, 4, 4, 3, 3, 3, 3, 1, 6, 4, 6, 2, 6, 1, 6, 2, 1, 5, 4, 1, 1, 4, 1, 5, 5, 5, 5, 1, 3, 6, 5, 4, 1, 4, 6, 5, 3, 5, 3, 5, 1, 5, 3, 4, 4, 5, 5, 6, 3, 4, 4, 2, 5, 1, 4, 3, 5, 2, 6, 1, 6, 1, 5, 2, 4, 4, 1, 4, 4, 1, 6, 4, 3, 4, 6, 4, 5, 3, 1, 5, 1, 1, 1, 1, 6, 5, 6, 1, 1, 4, 2, 2, 3, 4, 5, 2, 3, 3, 5, 5, 2, 3, 4, 1, 2, 3, 6, 3, 5, 3, 6, 3, 5, 6, 2, 2, 3, 2, 6, 6, 3, 4, 5, 3, 2, 5, 3, 3, 2, 3, 6, 6, 3, 2, 4, 6, 2, 1, 2, 1, 2, 5, 6, 6, 3, 1, 5, 3, 4, 2, 4, 6, 4, 2, 2, 2, 5, 5, 5, 2, 5, 2, 3, 1, 6, 1, 5, 6, 6, 4, 1, 2, 3, 1, 6, 5, 1, 3, 6, 6, 5, 5, 2, 2, 5, 1, 3, 1, 2, 1, 4, 4, 6, 1, 6, 2, 1, 4, 2, 3, 4, 4, 1, 3, 3, 2, 2, 5, 3, 1, 4, 2, 2, 3, 3, 1, 1, 1, 4, 5, 3, 4, 1, 1, 6, 6, 6, 3, 4, 2, 6, 4, 2, 4, 5, 6, 5, 2, 6, 1, 2, 5, 2, 1, 6, 4, 6, 5, 1, 3, 2, 2, 1, 4, 5, 6, 4, 5, 6, 5, 4, 3, 6, 1, 6, 3, 2, 4, 3, 2, 3, 3, 5, 3, 3, 4, 6, 2, 4, 5, 3, 3, 3, 4, 5, 3, 5, 3, 6, 2, 3, 2, 1, 4, 2, 6, 1, 2, 6, 5, 3, 3, 5, 1, 5, 6, 6, 4, 5, 4, 5, 2, 4, 4, 4, 3, 4, 4, 4, 4, 2, 6, 4, 6, 6, 3, 5, 6, 4, 2, 2, 2, 3, 3, 3, 4, 6, 5, 2, 1, 6, 5, 2, 4, 4, 2, 4, 4, 5, 2, 4, 6, 3, 1, 2, 3, 2, 1, 1, 2, 6, 5, 4, 3, 4, 1, 4, 6, 1, 4, 2, 5, 5, 4, 5, 4, 6, 1, 3, 6, 2, 3, 3, 6, 3, 2, 2, 6, 1, 2, 6, 6, 2, 5, 6, 2, 6, 4, 2, 4, 1, 3, 5, 3, 3, 5, 3, 2, 3, 3, 1, 4, 2, 4, 4, 2, 2, 3, 6, 5, 2, 6, 3, 2, 6, 6, 4, 1, 1, 3, 2, 6, 4, 6, 3, 4, 5, 4, 4, 4, 2, 3, 4, 5, 2, 5, 1, 2, 4, 2, 3, 3, 1, 5, 4, 2, 5, 5, 6, 6, 4, 3, 5, 1, 4, 1, 3, 2, 2, 6, 5, 6, 5, 1, 3, 3, 6, 6, 1, 6, 3, 4, 2, 4, 5, 6, 4, 5, 3, 4, 2, 5, 6, 3, 3, 1, 4, 1, 1, 4, 1, 5, 2, 5, 2, 4, 5, 4, 2, 6, 5, 4, 1, 2, 6, 2, 6, 4, 6, 4, 6, 2, 5, 5, 3, 3, 2, 3, 5, 1, 1, 4, 4, 2, 5, 3, 5, 4, 5, 4, 6, 4, 1, 6, 3, 6, 4, 3, 5, 3, 1, 2, 4, 2, 3, 5, 3, 6, 3, 3, 1, 4, 3, 3, 4, 1, 5, 5, 6, 1, 4, 2, 6, 5, 5, 2, 2, 1, 5, 6, 4, 3, 1, 5, 4, 1, 5, 6, 4, 6, 2, 2, 4, 3, 5, 6, 1, 1, 4, 1, 3, 1, 2, 2, 2, 5, 6, 1, 5, 6, 5, 4, 1, 2, 6, 6, 2, 2, 1, 5, 2, 1, 1, 4, 6, 2, 1, 2, 4, 6, 5, 5, 1, 6, 5, 5, 2, 1, 3, 4, 2, 3, 1, 2, 4, 4, 1, 1, 4, 5, 6, 1, 5, 1, 6, 1, 5, 5, 5, 2, 3, 2, 2, 3, 2, 5, 2, 4, 2, 5, 2, 4, 2, 5, 2, 1, 4, 6, 2, 5, 6, 4, 1, 3, 5, 5, 3, 4, 6, 6, 4, 1, 1, 3, 3, 2, 1, 6, 2, 1, 2, 4, 3, 2, 4, 5, 2, 3, 1, 2, 6, 3, 5, 6, 5, 4, 2, 1, 4, 6, 3, 5, 1, 1, 3, 5, 2, 3, 5, 6, 4, 1, 4, 5, 5, 4, 5, 4, 4, 6, 6, 6, 6, 1, 1, 4, 1, 5, 6, 2, 5, 2, 6, 5, 5, 2, 1, 3, 5, 1, 4, 1, 3, 1, 3, 3, 3, 3, 3, 2, 2, 5, 5]\n"
          ]
        }
      ]
    },
    {
      "cell_type": "markdown",
      "metadata": {
        "id": "d63ulWmx38s3"
      },
      "source": [
        "**EXAMPLE 2**\n",
        "\n",
        "**Binomial Distribution**\n",
        "\n",
        "\n",
        "It describes the outcome of binary scenarios, e.g. toss of a coin, it will either be head or tails.\n",
        "\n",
        "It has three parameters:\n",
        "\n",
        "n - number of trials.\n",
        "\n",
        "p - probability of occurence of each trial (e.g. for toss of a coin 0.5 each).\n",
        "\n",
        "size - The shape of the returned array.\n",
        "\n"
      ]
    },
    {
      "cell_type": "code",
      "metadata": {
        "colab": {
          "base_uri": "https://localhost:8080/",
          "height": 320
        },
        "id": "E4b-m9Nk3Nqu",
        "outputId": "b57fdbbb-d02e-4d04-90fa-e8820662730b"
      },
      "source": [
        "from scipy.stats import binom\n",
        "import seaborn as sb\n",
        "binom.rvs(size=10,n=20,p=0.8)\n",
        "data_binom = binom.rvs(n=10,p=0.8,size=1000)\n",
        "ax = sb.distplot(data_binom,\n",
        "                  kde=False)\n"
      ],
      "execution_count": null,
      "outputs": [
        {
          "output_type": "stream",
          "name": "stderr",
          "text": [
            "/usr/local/lib/python3.7/dist-packages/seaborn/distributions.py:2619: FutureWarning: `distplot` is a deprecated function and will be removed in a future version. Please adapt your code to use either `displot` (a figure-level function with similar flexibility) or `histplot` (an axes-level function for histograms).\n",
            "  warnings.warn(msg, FutureWarning)\n"
          ]
        },
        {
          "output_type": "display_data",
          "data": {
            "text/plain": [
              "<Figure size 432x288 with 1 Axes>"
            ],
            "image/png": "[encoded data removed]"
          },
          "metadata": {
            "needs_background": "light"
          }
        }
      ]
    },
    {
      "cell_type": "markdown",
      "metadata": {
        "id": "XeQbSth7-U7_"
      },
      "source": [
        "**EXAMPLE 3**\n",
        "\n",
        "COIN TOSS EXPERIMENT"
      ]
    },
    {
      "cell_type": "code",
      "metadata": {
        "colab": {
          "base_uri": "https://localhost:8080/",
          "height": 265
        },
        "id": "_aDIzBF8-UA2",
        "outputId": "f9e62cb4-3e04-4cc6-d625-93d55e6c236e"
      },
      "source": [
        "from numpy import random\n",
        "import matplotlib.pyplot as plt\n",
        "import seaborn as sns\n",
        "sns.distplot(random.binomial(n=10, p=0.5, size=1000), hist=True, kde=False)\n",
        "plt.show()"
      ],
      "execution_count": null,
      "outputs": [
        {
          "output_type": "display_data",
          "data": {
            "text/plain": [
              "<Figure size 432x288 with 1 Axes>"
            ],
            "image/png": "[encoded data removed]"
          },
          "metadata": {
            "needs_background": "light"
          }
        }
      ]
    },
    {
      "cell_type": "markdown",
      "metadata": {
        "id": "7pwk_DgV4xMI"
      },
      "source": [
        "**EXAMPLE 4**\n",
        "\n",
        "**Poisson Distribution**\n",
        "\n",
        "It estimates how many times an event can happen in a specified time. e.g. If someone eats twice a day what is probability he will eat thrice?\n",
        "\n",
        "It has two parameters:\n",
        "\n",
        "lam - rate or known number of occurences e.g. 2 for above problem.\n",
        "\n",
        "size - The shape of the returned array."
      ]
    },
    {
      "cell_type": "code",
      "metadata": {
        "colab": {
          "base_uri": "https://localhost:8080/",
          "height": 267
        },
        "id": "ZRGIn3-C45I4",
        "outputId": "8164bf90-45bd-4937-beb5-2eb307ffe052"
      },
      "source": [
        "#Generate a random 1000 distribution for occurence 3:\n",
        "import matplotlib.pyplot as plt\n",
        "import seaborn as sns\n",
        "sns.distplot(random.poisson(lam=3, size=1000), kde=False)\n",
        "plt.show()"
      ],
      "execution_count": null,
      "outputs": [
        {
          "output_type": "display_data",
          "data": {
            "text/plain": [
              "<Figure size 432x288 with 1 Axes>"
            ],
            "image/png": "[encoded data removed]"
          },
          "metadata": {
            "needs_background": "light"
          }
        }
      ]
    },
    {
      "cell_type": "markdown",
      "metadata": {
        "id": "4xB0AW1S5w9A"
      },
      "source": [
        "**EXAMPLE 5** "
      ]
    },
    {
      "cell_type": "code",
      "metadata": {
        "colab": {
          "base_uri": "https://localhost:8080/",
          "height": 334
        },
        "id": "Z9PPSAsI59Eu",
        "outputId": "14a2c896-fb70-46cb-98ec-819f7a4534c3"
      },
      "source": [
        "#Generating Random Number\n",
        "from numpy.random import choice\n",
        "import matplotlib.pyplot as plt\n",
        "%matplotlib inline\n",
        " \n",
        "def count_frequencies(data,relative=False):\n",
        "  counter={}\n",
        "  for element in data:\n",
        "    if element not in counter:\n",
        "      counter[element] = 1\n",
        "    else:\n",
        "      counter[element] += 1\n",
        "  \n",
        "  if relative:\n",
        "    for element in counter:\n",
        "      counter[element] /= len(data)\n",
        "  return counter\n",
        "sample= choice([1,2,3,4,5],size=100,p=[0.3,0.1,0.4,0.0,0.2])\n",
        "print(sample)\n",
        "count_frequencies(sample)\n",
        "#Visualization\n",
        "freq=count_frequencies(sample,relative=True)\n",
        "plt.bar(list(freq.keys()),list(freq.values()))"
      ],
      "execution_count": null,
      "outputs": [
        {
          "output_type": "stream",
          "name": "stdout",
          "text": [
            "[1 1 1 1 1 3 1 5 5 1 5 5 1 3 3 5 3 5 1 3 5 1 3 1 5 3 3 3 3 1 3 1 5 3 3 3 1\n",
            " 3 3 1 5 3 1 2 3 1 3 1 3 1 1 5 3 2 3 1 5 3 3 5 1 1 3 1 3 3 3 3 1 3 3 1 3 1\n",
            " 2 1 3 3 3 2 1 5 3 3 1 5 3 1 3 1 3 1 3 1 3 1 1 3 3 3]\n"
          ]
        },
        {
          "output_type": "execute_result",
          "data": {
            "text/plain": [
              "<BarContainer object of 4 artists>"
            ]
          },
          "metadata": {},
          "execution_count": 7
        },
        {
          "output_type": "display_data",
          "data": {
            "text/plain": [
              "<Figure size 432x288 with 1 Axes>"
            ],
            "image/png": "[encoded data removed]"
          },
          "metadata": {
            "needs_background": "light"
          }
        }
      ]
    },
    {
      "cell_type": "markdown",
      "metadata": {
        "id": "mybHXOypCPGH"
      },
      "source": [
        "**EXAMPLE 6**\n",
        "\n",
        "**Bernoulli Distribution**\n",
        "\n",
        "The Bernoulli distribution is a special case of the Binomial distribution where a single experiment is conducted so that the number of observation is 1. So, the Bernoulli distribution therefore describes events having exactly two outcomes."
      ]
    },
    {
      "cell_type": "code",
      "metadata": {
        "colab": {
          "base_uri": "https://localhost:8080/",
          "height": 265
        },
        "id": "IT6r0HKRChF4",
        "outputId": "09aefc4a-8d5a-4598-9952-8f7af4bb20f6"
      },
      "source": [
        "from scipy.stats import bernoulli\n",
        "import seaborn as sb\n",
        "data_bern = bernoulli.rvs(size=1000,p=0.5)\n",
        "ax = sb.distplot(data_bern,\n",
        "                  kde=False)\n",
        "\n"
      ],
      "execution_count": null,
      "outputs": [
        {
          "output_type": "display_data",
          "data": {
            "text/plain": [
              "<Figure size 432x288 with 1 Axes>"
            ],
            "image/png": "[encoded data removed]"
          },
          "metadata": {
            "needs_background": "light"
          }
        }
      ]
    },
    {
      "cell_type": "markdown",
      "metadata": {
        "id": "7tKwQ0Tj1Odj"
      },
      "source": [
        "2. **CONTINUOUS RANDOM VARIABLE**                                                                   \n",
        "*   A continuous random variable can assume any value along a given interval of a number line.\n",
        "*   Examples :\n",
        "    \n",
        "    The time a tourist stays at the top once he/she gets there\n",
        "\n"
      ]
    },
    {
      "cell_type": "markdown",
      "metadata": {
        "id": "T-T8fkW7209L"
      },
      "source": [
        "*   **Continuous Random Variable**\n",
        "    1. Length\n",
        "    2. Depth\n",
        "    3. Volume\n",
        "    4. Time\n",
        "    5. Weight\n",
        "\n",
        "\n",
        "\n",
        "\n",
        "\n",
        "\n",
        "\n",
        "\n"
      ]
    },
    {
      "cell_type": "markdown",
      "metadata": {
        "id": "TwPBqA4KmGj4"
      },
      "source": [
        "1.   **ROLE IN STATISTICAL MODELLING**                                           \n",
        "=>  It is used to find accuracy of the model.\n",
        "2.   **ROLE IN MACHINE LEARNING (ML)**                                            \n",
        "=>  Continuous Random Variables are encountered in ML, most notably in the distribution of numerical input and output variables for models and in the distribution of errors made by models. Knowledge of the normal continuous random variable is also required more generally in the density and parameter estimation performed by many machine learning models. \n",
        "3.   **ROLE IN DEEP LEARNING**                                                                       \n",
        "=>  Continous Random Variable is used in deep learning to learn about patterns in the data.\n",
        "4.   **ROLE IN NATURAL LANGUAGE PROCESSING (NLP)**                                                                                                                                                  \n",
        "=>  Suppose there is a sentimental analyser that outputs a sentiment polarity value as a real number in the range (-1,1). The output of this system is an example of a continuous random Variable. \n"
      ]
    },
    {
      "cell_type": "markdown",
      "metadata": {
        "id": "JHDGdoz-6hMm"
      },
      "source": [
        "**EXAMPLE 1**\n",
        "\n",
        "The length of a sales representatives phone call"
      ]
    },
    {
      "cell_type": "code",
      "metadata": {
        "colab": {
          "base_uri": "https://localhost:8080/",
          "height": 282
        },
        "id": "4VoqugQx6xTh",
        "outputId": "cfd11d8a-1c07-4c6c-e845-30105c040e4d"
      },
      "source": [
        "# minimum call length 3\n",
        "#maximum call length 20\n",
        "#number of trials 100\n",
        "#mean value (mu) -- 4\n",
        "#standard deviation - 2\n",
        "\n",
        "def normal_pdf(x, mu = 4, sigma = 2):\n",
        "    return (1./np.sqrt(2*3.14 * sigma**2)) * 2.718**(-(x-mu)**2 / (2. * sigma**2))\n",
        "\n",
        "x_values = np.linspace(3,20,100)\n",
        "y_values = [normal_pdf(x) for x in x_values]\n",
        "plt.plot(x_values, y_values)"
      ],
      "execution_count": null,
      "outputs": [
        {
          "output_type": "execute_result",
          "data": {
            "text/plain": [
              "[<matplotlib.lines.Line2D at 0x7fe42c067fd0>]"
            ]
          },
          "metadata": {},
          "execution_count": 9
        },
        {
          "output_type": "display_data",
          "data": {
            "text/plain": [
              "<Figure size 432x288 with 1 Axes>"
            ],
            "image/png": "[encoded data removed]"
          },
          "metadata": {
            "needs_background": "light"
          }
        }
      ]
    },
    {
      "cell_type": "markdown",
      "metadata": {
        "id": "VyIwWAH565Ws"
      },
      "source": [
        "**EXAMPLE 2**\n",
        "\n",
        "**Uniform Distribution**\n",
        "used to describe probability where every event has equal chances of occuring.\n",
        "\n",
        "E.g. Generation of random numbers.\n",
        "\n",
        "It has three parameters:\n",
        "\n",
        "a - lower bound - default 0 .0.\n",
        "\n",
        "b - upper bound - default 1.0.\n",
        "\n",
        "size - The shape of the returned array."
      ]
    },
    {
      "cell_type": "code",
      "metadata": {
        "colab": {
          "base_uri": "https://localhost:8080/",
          "height": 320
        },
        "id": "FWndEyDA7UMi",
        "outputId": "e6c4712b-dcd6-4e32-8707-160c556d9fc9"
      },
      "source": [
        "#Generate a 100 uniform distribution sample and visualization for the same\n",
        "from numpy import random\n",
        "import matplotlib.pyplot as plt\n",
        "import seaborn as sns\n",
        "sns.distplot(random.uniform(size=100), hist=False)\n",
        "plt.show()"
      ],
      "execution_count": null,
      "outputs": [
        {
          "output_type": "stream",
          "name": "stderr",
          "text": [
            "/usr/local/lib/python3.7/dist-packages/seaborn/distributions.py:2619: FutureWarning: `distplot` is a deprecated function and will be removed in a future version. Please adapt your code to use either `displot` (a figure-level function with similar flexibility) or `kdeplot` (an axes-level function for kernel density plots).\n",
            "  warnings.warn(msg, FutureWarning)\n"
          ]
        },
        {
          "output_type": "display_data",
          "data": {
            "text/plain": [
              "<Figure size 432x288 with 1 Axes>"
            ],
            "image/png": "[encoded data removed]"
          },
          "metadata": {
            "needs_background": "light"
          }
        }
      ]
    },
    {
      "cell_type": "markdown",
      "metadata": {
        "id": "yv3ZTs_f71yg"
      },
      "source": [
        "**EXAMPLE 3**"
      ]
    },
    {
      "cell_type": "code",
      "metadata": {
        "colab": {
          "base_uri": "https://localhost:8080/"
        },
        "id": "epRpHvbR8DNx",
        "outputId": "a435b2cf-72ae-4c02-bf4d-cf62e67a793f"
      },
      "source": [
        "#Generating Random Number\n",
        "import scipy.stats\n",
        "X= scipy.stats.uniform(3,4)\n",
        "X.pdf(3.5)\n",
        "import numpy as np\n",
        "x=np.linspace(2,8,100)\n",
        "x"
      ],
      "execution_count": null,
      "outputs": [
        {
          "output_type": "execute_result",
          "data": {
            "text/plain": [
              "array([2.        , 2.06060606, 2.12121212, 2.18181818, 2.24242424,\n",
              "       2.3030303 , 2.36363636, 2.42424242, 2.48484848, 2.54545455,\n",
              "       2.60606061, 2.66666667, 2.72727273, 2.78787879, 2.84848485,\n",
              "       2.90909091, 2.96969697, 3.03030303, 3.09090909, 3.15151515,\n",
              "       3.21212121, 3.27272727, 3.33333333, 3.39393939, 3.45454545,\n",
              "       3.51515152, 3.57575758, 3.63636364, 3.6969697 , 3.75757576,\n",
              "       3.81818182, 3.87878788, 3.93939394, 4.        , 4.06060606,\n",
              "       4.12121212, 4.18181818, 4.24242424, 4.3030303 , 4.36363636,\n",
              "       4.42424242, 4.48484848, 4.54545455, 4.60606061, 4.66666667,\n",
              "       4.72727273, 4.78787879, 4.84848485, 4.90909091, 4.96969697,\n",
              "       5.03030303, 5.09090909, 5.15151515, 5.21212121, 5.27272727,\n",
              "       5.33333333, 5.39393939, 5.45454545, 5.51515152, 5.57575758,\n",
              "       5.63636364, 5.6969697 , 5.75757576, 5.81818182, 5.87878788,\n",
              "       5.93939394, 6.        , 6.06060606, 6.12121212, 6.18181818,\n",
              "       6.24242424, 6.3030303 , 6.36363636, 6.42424242, 6.48484848,\n",
              "       6.54545455, 6.60606061, 6.66666667, 6.72727273, 6.78787879,\n",
              "       6.84848485, 6.90909091, 6.96969697, 7.03030303, 7.09090909,\n",
              "       7.15151515, 7.21212121, 7.27272727, 7.33333333, 7.39393939,\n",
              "       7.45454545, 7.51515152, 7.57575758, 7.63636364, 7.6969697 ,\n",
              "       7.75757576, 7.81818182, 7.87878788, 7.93939394, 8.        ])"
            ]
          },
          "metadata": {},
          "execution_count": 11
        }
      ]
    },
    {
      "cell_type": "code",
      "metadata": {
        "colab": {
          "base_uri": "https://localhost:8080/",
          "height": 282
        },
        "id": "Sw8OxqgW8H_9",
        "outputId": "cd63c3b3-2fa9-4961-eeb9-c455237a4c21"
      },
      "source": [
        "#Visualization\n",
        "from numpy.random import uniform\n",
        "plt.plot(x,X.pdf(x))\n",
        "# sample=uniform(low=3,high=7,size=100000)\n",
        "# plt.hist(sample,density=True)"
      ],
      "execution_count": null,
      "outputs": [
        {
          "output_type": "execute_result",
          "data": {
            "text/plain": [
              "[<matplotlib.lines.Line2D at 0x7fe42bf42790>]"
            ]
          },
          "metadata": {},
          "execution_count": 12
        },
        {
          "output_type": "display_data",
          "data": {
            "text/plain": [
              "<Figure size 432x288 with 1 Axes>"
            ],
            "image/png": "[encoded data removed]"
          },
          "metadata": {
            "needs_background": "light"
          }
        }
      ]
    },
    {
      "cell_type": "markdown",
      "metadata": {
        "id": "R550N-wO8eUB"
      },
      "source": [
        "**EXAMPLE 4**\n",
        "\n",
        "**Logistic Distribution**\n",
        "\n",
        "Logistic Distribution is used to describe growth.\n",
        "\n",
        "Used extensively in machine learning in logistic regression, neural networks etc.\n",
        "\n",
        "It has three parameters:\n",
        "\n",
        "loc - mean, where the peak is. Default 0.\n",
        "\n",
        "scale - standard deviation, the flatness of distribution. Default 1.\n",
        "\n",
        "size - The shape of the returned array."
      ]
    },
    {
      "cell_type": "code",
      "metadata": {
        "colab": {
          "base_uri": "https://localhost:8080/",
          "height": 320
        },
        "id": "aHHHxlXf89KM",
        "outputId": "764f3cc1-6e23-43d9-a05f-0ab330bceedd"
      },
      "source": [
        "from numpy import random\n",
        "import matplotlib.pyplot as plt\n",
        "import seaborn as sns\n",
        "sns.distplot(random.logistic(size=100), hist=False)\n",
        "plt.show()"
      ],
      "execution_count": null,
      "outputs": [
        {
          "output_type": "stream",
          "name": "stderr",
          "text": [
            "/usr/local/lib/python3.7/dist-packages/seaborn/distributions.py:2619: FutureWarning: `distplot` is a deprecated function and will be removed in a future version. Please adapt your code to use either `displot` (a figure-level function with similar flexibility) or `kdeplot` (an axes-level function for kernel density plots).\n",
            "  warnings.warn(msg, FutureWarning)\n"
          ]
        },
        {
          "output_type": "display_data",
          "data": {
            "text/plain": [
              "<Figure size 432x288 with 1 Axes>"
            ],
            "image/png": "[encoded data removed]"
          },
          "metadata": {
            "needs_background": "light"
          }
        }
      ]
    },
    {
      "cell_type": "markdown",
      "metadata": {
        "id": "qJJ5fiyW9OIB"
      },
      "source": [
        "**EXAMPLE 5**\n",
        "\n",
        "**Exponential Distribution**\n",
        "\n",
        "Exponential distribution is used for describing time till next event e.g. failure/success etc.\n",
        "\n",
        "It has two parameters:\n",
        "\n",
        "scale - inverse of rate ( see lam in poisson distribution ) defaults to 1.0.\n",
        "\n",
        "size - The shape of the returned array."
      ]
    },
    {
      "cell_type": "code",
      "metadata": {
        "colab": {
          "base_uri": "https://localhost:8080/",
          "height": 320
        },
        "id": "ZvxLXj-39VNm",
        "outputId": "35599587-c99f-47ee-8cf0-18daa92a88fd"
      },
      "source": [
        "from numpy import random\n",
        "import matplotlib.pyplot as plt\n",
        "import seaborn as sns\n",
        "sns.distplot(random.exponential(size=100), hist=False)\n",
        "plt.show()"
      ],
      "execution_count": null,
      "outputs": [
        {
          "output_type": "stream",
          "name": "stderr",
          "text": [
            "/usr/local/lib/python3.7/dist-packages/seaborn/distributions.py:2619: FutureWarning: `distplot` is a deprecated function and will be removed in a future version. Please adapt your code to use either `displot` (a figure-level function with similar flexibility) or `kdeplot` (an axes-level function for kernel density plots).\n",
            "  warnings.warn(msg, FutureWarning)\n"
          ]
        },
        {
          "output_type": "display_data",
          "data": {
            "text/plain": [
              "<Figure size 432x288 with 1 Axes>"
            ],
            "image/png": "[encoded data removed]"
          },
          "metadata": {
            "needs_background": "light"
          }
        }
      ]
    },
    {
      "cell_type": "markdown",
      "metadata": {
        "id": "O1WJQ6w29kbS"
      },
      "source": [
        "**EXAMPLE 6**\n",
        "\n",
        "**Chi Square Distribution**\n",
        "\n",
        "Chi Square distribution is used as a basis to verify the hypothesis.\n",
        "\n",
        "It has two parameters:\n",
        "\n",
        "df - (degree of freedom).\n",
        "\n",
        "size - The shape of the returned array."
      ]
    },
    {
      "cell_type": "code",
      "metadata": {
        "colab": {
          "base_uri": "https://localhost:8080/",
          "height": 320
        },
        "id": "FWulwyKr9vem",
        "outputId": "580f1dd1-ac25-42f5-8569-ba056542a27b"
      },
      "source": [
        "#Generate a sample for chi squared distribution with degree of freedom 3 with size 100\n",
        "from numpy import random\n",
        "import matplotlib.pyplot as plt\n",
        "import seaborn as sns\n",
        "sns.distplot(random.chisquare(df=3, size=100), hist=False)\n",
        "plt.show()"
      ],
      "execution_count": null,
      "outputs": [
        {
          "output_type": "stream",
          "name": "stderr",
          "text": [
            "/usr/local/lib/python3.7/dist-packages/seaborn/distributions.py:2619: FutureWarning: `distplot` is a deprecated function and will be removed in a future version. Please adapt your code to use either `displot` (a figure-level function with similar flexibility) or `kdeplot` (an axes-level function for kernel density plots).\n",
            "  warnings.warn(msg, FutureWarning)\n"
          ]
        },
        {
          "output_type": "display_data",
          "data": {
            "text/plain": [
              "<Figure size 432x288 with 1 Axes>"
            ],
            "image/png": "[encoded data removed]"
          },
          "metadata": {
            "needs_background": "light"
          }
        }
      ]
    },
    {
      "cell_type": "markdown",
      "metadata": {
        "id": "9NrHuZ40HZbz"
      },
      "source": [
        "**=======================================================================================**"
      ]
    }
  ]
}