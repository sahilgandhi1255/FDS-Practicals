{
  "nbformat": 4,
  "nbformat_minor": 0,
  "metadata": {
    "colab": {
      "provenance": []
    },
    "kernelspec": {
      "name": "python3",
      "display_name": "Python 3"
    }
  },
  "cells": [
    {
      "cell_type": "markdown",
      "metadata": {
        "id": "view-in-github"
      },
      "source": [
        "<a href=\"https://colab.research.google.com/github/Sadiksha08/FDS-Lab-Work/blob/main/FDS_LAB_Practical_8_Probability_Roll_No_36_To_40.ipynb\" target=\"_parent\"><img src=\"https://colab.research.google.com/assets/colab-badge.svg\" alt=\"Open In Colab\"/></a>"
      ]
    },
    {
      "cell_type": "markdown",
      "metadata": {
        "id": "r_qavwqb0r10"
      },
      "source": [
        "**FDS LAB Assignment:**"
      ]
    },
    {
      "cell_type": "markdown",
      "metadata": {
        "id": "2BYW9GdE05jg"
      },
      "source": [
        "# **Probability**\n",
        "\n",
        "\n",
        "**Definition :** Probability is a measure of the likelihood of an event to occur. Many events cannot be predicted with total certainty. We can predict only the chance of an event to occur i.e. how likely they are to happen, using it. Probability can range in from 0 to 1, where 0 means the event to be an impossible one and 1 indicates a certain event.The probability of all the events in a sample space adds up to 1.\n",
        "\n",
        "**Formula for Probability**\n",
        "\n",
        "The probability formula is defined as the possibility of an event to happen is equal to the ratio of the number of favourable outcomes and the total number of outcomes.\n",
        "\n",
        "**Probability of event to happen P(E) = Number of favourable outcomes/Total Number of outcomes**"
      ]
    },
    {
      "cell_type": "markdown",
      "metadata": {
        "id": "W5uVC8G2SeOF"
      },
      "source": [
        "**1. Types of Events in Probability.**\n",
        "\n",
        "Some of the important probability events are:\n",
        "\n",
        "*Impossible and Certain Events\n",
        "\n",
        "*Simple Events\n",
        "\n",
        "*Compound Events\n",
        "\n",
        "*Independent and Dependent Events\n",
        "\n",
        "*Mutually Exclusive Events\n",
        "\n",
        "*Complementary Events\n"
      ]
    },
    {
      "cell_type": "code",
      "metadata": {
        "id": "L4w8US34Sp1R",
        "colab": {
          "base_uri": "https://localhost:8080/"
        },
        "outputId": "1cfb24e0-8c5f-45a5-8481-87d4bcdfd4ca"
      },
      "source": [
        "1 #Impossible and Certain Events"
      ],
      "execution_count": null,
      "outputs": [
        {
          "output_type": "execute_result",
          "data": {
            "text/plain": [
              "1"
            ]
          },
          "metadata": {},
          "execution_count": 1
        }
      ]
    },
    {
      "cell_type": "markdown",
      "metadata": {
        "id": "lxUuPXPpSz5h"
      },
      "source": [
        "If the probability of occurrence of an event is 0, such an event is called an impossible event and if the probability of occurrence of an event is 1, it is called a sure event. In other words, the empty set 1 is an impossible event and the sample space S is a sure event."
      ]
    },
    {
      "cell_type": "code",
      "metadata": {
        "id": "43XkzRjLTK0h"
      },
      "source": [
        "eg. 1:\n",
        " A spinner has 4 equal sectors colored yellow, blue, green, and red. What is the probability of landing on purple after spinning the spinner?\n",
        "Probability: It is impossible to land on purple since the spinner does not contain this color.\n",
        "\n",
        "P(purple) =0/ = 0\n",
        "\n",
        "eg. 2:\n",
        " A teacher chooses a student at random from a class of 30 girls. What is the probability that the student chosen is a girl?\n",
        "Probability: Since all the students in the class are girls, the teacher is certain to choose a girl.\n",
        "\n",
        "P(girl) = 30/30 = 1\n",
        "\n",
        "eg.3:\n",
        " A single 6-sided die is rolled. What is the probability of rolling a number less than 7?\n",
        "Probability: Rolling a number less than 7 is a certain event since a single die has 6 sides, numbered 1 through 6.\n",
        "\n",
        "P(number < 7) = 6/6 = 1\n",
        "\n",
        "eg. 4:\n",
        " A total of five cards are chosen at random from a standard deck of 52 playing cards. What is the probability of choosing 5 aces?\n",
        "Probability: It is impossible to choose 5 aces since a standard deck of cards has only 4 of a kind. This is an impossible event.\n",
        "\n",
        "P(5 aces) = 0 /52 = 0\n",
        "\n",
        "eg. 5:\n",
        " A glass jar contains 15 red marbles. If a single marble is chosen at random from the jar, what is the probability that it is red?\n",
        "Probability: Choosing a red marble is certain to occur since all 15 marbles in the jar are red. This is a certain event.\n",
        "\n",
        "P(red) = 15/15 = 1"
      ],
      "execution_count": null,
      "outputs": []
    },
    {
      "cell_type": "code",
      "metadata": {
        "id": "Z0-lBMWMTyF7"
      },
      "source": [
        "2 #Simple Events and Compound Events"
      ],
      "execution_count": null,
      "outputs": []
    },
    {
      "cell_type": "markdown",
      "metadata": {
        "id": "9CQSwuigaGHi"
      },
      "source": [
        "Any event consisting of a single point of the sample space is known as a simple event in probability. For example, if S = {56 , 78 , 96 , 54 , 89} and E = {78} then E is a simple event.\n",
        "\n",
        "Contrary to the simple event, if any event consists of more than one single point of the sample space then such an event is called a compound event. Considering the same example again, if S = {56 ,78 ,96 ,54 ,89}, E1 = {56 ,54 }, E2 = {78 ,56 ,89 } then, E1 and E2 represent two compound events."
      ]
    },
    {
      "cell_type": "code",
      "metadata": {
        "id": "FajWU4P1T5oJ"
      },
      "source": [
        "def event_probability(n,s):\n",
        "  return n/s"
      ],
      "execution_count": 1,
      "outputs": []
    },
    {
      "cell_type": "markdown",
      "metadata": {
        "id": "WjoO_zg8U7aa"
      },
      "source": [
        "eg.1"
      ]
    },
    {
      "cell_type": "code",
      "metadata": {
        "colab": {
          "base_uri": "https://localhost:8080/"
        },
        "id": "cmSxWMdHUCwK",
        "outputId": "4110a89d-94a3-4c52-fad8-71673d9c9784"
      },
      "source": [
        "# probability of getting 3 when a die is rolled\n",
        "ns = 6 #n(S) = {1,2,3,4,5,6}\n",
        "na = 1 #n(A) = {3}\n",
        "pa = na/ns # P(A)\n",
        "print(\"probability of getting 3 is:\",pa)"
      ],
      "execution_count": 2,
      "outputs": [
        {
          "output_type": "stream",
          "name": "stdout",
          "text": [
            "probability of getting 3 is: 0.16666666666666666\n"
          ]
        }
      ]
    },
    {
      "cell_type": "markdown",
      "metadata": {
        "id": "-sKyTDsPU_mq"
      },
      "source": [
        "eg.2"
      ]
    },
    {
      "cell_type": "code",
      "metadata": {
        "colab": {
          "base_uri": "https://localhost:8080/"
        },
        "id": "ewHHw8sLU4Jy",
        "outputId": "6bfb9229-658c-44dc-f3af-c39018c3f51a"
      },
      "source": [
        "# probability of getting Heads when a fair coin is tossed\n",
        "ns = 2 #n(S) = {H,T}\n",
        "na = 1 #n(A) = {H}\n",
        "pa = na/ns # P(A)\n",
        "print(\"probability of getting head is:\",pa)"
      ],
      "execution_count": 3,
      "outputs": [
        {
          "output_type": "stream",
          "name": "stdout",
          "text": [
            "probability of getting head is: 0.5\n"
          ]
        }
      ]
    },
    {
      "cell_type": "markdown",
      "metadata": {
        "id": "EzN0oGHfVFBS"
      },
      "source": [
        "eg.3"
      ]
    },
    {
      "cell_type": "code",
      "metadata": {
        "colab": {
          "base_uri": "https://localhost:8080/"
        },
        "id": "ozJWY1BuVG_t",
        "outputId": "7edc5939-eddb-4826-c43b-1fb65aafd569"
      },
      "source": [
        "# probability of atleast getting one head when a coin is tossed thrice\n",
        "ns = 8 #n(S) = {HHH, HHT, HTH, THH, TTH, THT, HTT, TTT}\n",
        "na = 7 #n(A) = {HHH, HHT, HTH, THH, TTH, THT, HTT}\n",
        "pa = na/ns # P(A)\n",
        "print(\"probability of getting atleast one head is:\",pa)"
      ],
      "execution_count": 4,
      "outputs": [
        {
          "output_type": "stream",
          "name": "stdout",
          "text": [
            "probability of getting atleast one head is: 0.875\n"
          ]
        }
      ]
    },
    {
      "cell_type": "markdown",
      "metadata": {
        "id": "Tlpgvg9uVP7p"
      },
      "source": [
        "eg.4"
      ]
    },
    {
      "cell_type": "code",
      "metadata": {
        "colab": {
          "base_uri": "https://localhost:8080/"
        },
        "id": "HZhQT2deVRb7",
        "outputId": "85a8412d-774a-4da7-c049-3adc30555e34"
      },
      "source": [
        "#probabiltiy of not getting 5 when a fair die is rolled\n",
        "ns = 6 #n(S) = {1,2,3,4,5,6}\n",
        "na = 5 #n(A) = {1,2,3,4,6}\n",
        "pa = na/ns # P(A)\n",
        "print(\"probability of not getting 5 is:\",pa)"
      ],
      "execution_count": 5,
      "outputs": [
        {
          "output_type": "stream",
          "name": "stdout",
          "text": [
            "probability of not getting 5 is: 0.8333333333333334\n"
          ]
        }
      ]
    },
    {
      "cell_type": "markdown",
      "metadata": {
        "id": "xyHiIqD4VflB"
      },
      "source": [
        "eg.5"
      ]
    },
    {
      "cell_type": "code",
      "metadata": {
        "colab": {
          "base_uri": "https://localhost:8080/"
        },
        "id": "lL9u2MhTVhHU",
        "outputId": "9efc82f8-7f78-4025-a1a1-8fde3d815ed9"
      },
      "source": [
        "# A glass jar contains 5 red, 3 blue and 2 green jelly beans. If a jelly bean is chosen at random from the jar, what is the probability that it is not blue?\n",
        "ns = 10 #n(S) = {5red,3blue,2green}\n",
        "na = 7 #n(A) = {5red, 2green}\n",
        "pa = na/ns # P(A)\n",
        "print(\"probability of getting not blue jellybean is:\",pa)"
      ],
      "execution_count": 6,
      "outputs": [
        {
          "output_type": "stream",
          "name": "stdout",
          "text": [
            "probability of getting not blue jellybean is: 0.7\n"
          ]
        }
      ]
    },
    {
      "cell_type": "code",
      "metadata": {
        "colab": {
          "base_uri": "https://localhost:8080/"
        },
        "id": "XfeWQW3LWKQZ",
        "outputId": "16e6097b-0ad7-4151-e794-c2c686aeac41"
      },
      "source": [
        "# A number x is chosen at random from the numbers -2, -1, 0 , 1, 2. Then the probability that x2 < 2 is?\n",
        "ns = 5 #n(S) = {-2, -1, 0 , 1, 2}\n",
        "na = 3 #n(A) = {-2, -1, 0}\n",
        "pa = na/ns # P(A)\n",
        "print(\"probability of x2 < 2:\",pa)\n"
      ],
      "execution_count": null,
      "outputs": [
        {
          "output_type": "stream",
          "name": "stdout",
          "text": [
            "probability of x2 < 2: 0.6\n"
          ]
        }
      ]
    },
    {
      "cell_type": "code",
      "metadata": {
        "colab": {
          "base_uri": "https://localhost:8080/"
        },
        "id": "hMdVlOuAWMFp",
        "outputId": "89a1af64-0ae8-4d66-9f23-ba6552e407bc"
      },
      "source": [
        "#A number from 1 to 5 is chosen at random. What is the probability that the number chosen is not odd?\n",
        "ns = 5 #n(S) = {1,2,3,4,5}\n",
        "na = 2 #n(A) = {2,4}\n",
        "pa = na/ns # P(A)\n",
        "print(\"probability of getting not odd number:\",pa)\n"
      ],
      "execution_count": null,
      "outputs": [
        {
          "output_type": "stream",
          "name": "stdout",
          "text": [
            "probability of getting not odd number: 0.4\n"
          ]
        }
      ]
    },
    {
      "cell_type": "code",
      "metadata": {
        "id": "IT2BOPXSVmqS"
      },
      "source": [
        "3 #Independent and Dependent Events"
      ],
      "execution_count": null,
      "outputs": []
    },
    {
      "cell_type": "markdown",
      "metadata": {
        "id": "gyRi6NSKacr6"
      },
      "source": [
        "If the occurrence of any event is completely unaffected by the occurrence of any other event, such events are known as an independent event in probability and the events which are affected by other events are known as dependent events."
      ]
    },
    {
      "cell_type": "markdown",
      "metadata": {
        "id": "M9GObVPtXBRL"
      },
      "source": [
        "eg.1"
      ]
    },
    {
      "cell_type": "code",
      "metadata": {
        "colab": {
          "base_uri": "https://localhost:8080/"
        },
        "id": "7DQKjSHjVscT",
        "outputId": "71f429d8-6588-4cd4-d50d-47c52e1d9777"
      },
      "source": [
        "# If the probability that person A will be alive in 20 years is 0.7 and the probability that person B will be alive in\n",
        "# 20 years is 0.5, what is the probability that they will both be alive in 20 years?\n",
        "\n",
        "#These are independent events, so\n",
        "P = 0.7*0.5\n",
        "print(\"probability that they will be alive after 20 years is:\",P)\n"
      ],
      "execution_count": null,
      "outputs": [
        {
          "output_type": "stream",
          "name": "stdout",
          "text": [
            "probability that they will be alive after 20 years is: 0.35\n"
          ]
        }
      ]
    },
    {
      "cell_type": "markdown",
      "metadata": {
        "id": "0bKT4l2VXDPi"
      },
      "source": [
        "eg.2"
      ]
    },
    {
      "cell_type": "code",
      "metadata": {
        "colab": {
          "base_uri": "https://localhost:8080/"
        },
        "id": "3AhGloRSW5HK",
        "outputId": "530e25fa-01b0-4183-f13e-6dfec5060bbd"
      },
      "source": [
        "#A fair die is tossed twice. Find the probability of getting a 4 or 5 on the first toss and a 1,2, or 3 in the second toss.\n",
        "pa = event_probability(2,6) # probability of getting a 4 or 5 on the first toss\n",
        "pb = event_probability(3,6) # probability of getting 1,2,3 in second toss\n",
        "P = pa*pb \n",
        "print(\"probability of getting a 4 or 5 on the first toss and a 1,2, or 3 in the second toss is:\",P)\n"
      ],
      "execution_count": null,
      "outputs": [
        {
          "output_type": "stream",
          "name": "stdout",
          "text": [
            "probability of getting a 4 or 5 on the first toss and a 1,2, or 3 in the second toss is: 0.16666666666666666\n"
          ]
        }
      ]
    },
    {
      "cell_type": "markdown",
      "metadata": {
        "id": "kge_LnHFXGWB"
      },
      "source": [
        "eg.3"
      ]
    },
    {
      "cell_type": "code",
      "metadata": {
        "colab": {
          "base_uri": "https://localhost:8080/"
        },
        "id": "15IaYxReXKir",
        "outputId": "161c5b1d-9c48-409a-bc67-3b39a6c89a71"
      },
      "source": [
        "# A bag contains 5 white marbles, 3 black marbles and 2 green marbles. In each draw, a marble is drawn from the bag\n",
        "# and not replaced. In three draws, find the probability of obtaining white, black and green in that order.\n",
        "pw = event_probability(5,10)\n",
        "pb = event_probability(3,9)\n",
        "pg = event_probability(2,8)\n",
        "print(\"the probability of obtaining white, black and green in that order is \",(pw*pb*pg))\n"
      ],
      "execution_count": null,
      "outputs": [
        {
          "output_type": "stream",
          "name": "stdout",
          "text": [
            "the probability of obtaining white, black and green in that order is  0.041666666666666664\n"
          ]
        }
      ]
    },
    {
      "cell_type": "code",
      "metadata": {
        "id": "DgcCEo5xXNOC"
      },
      "source": [
        "4 #Mutually Exclusive Events"
      ],
      "execution_count": null,
      "outputs": []
    },
    {
      "cell_type": "markdown",
      "metadata": {
        "id": "yVJGQgxSakep"
      },
      "source": [
        "If the occurrence of one event excludes the occurrence of another event, such events are mutually exclusive events i.e. two events don’t have any common point. For example, if S = {1 , 2 , 3 , 4 , 5 , 6} and E1, E2 are two events such that E1 consists of numbers less than 3 and E2 consists of numbers greater than 4.\n",
        "\n",
        "So, E1 = {1,2} and E2 = {5,6} .\n",
        "\n",
        "Then, E1 and E2 are mutually exclusive."
      ]
    },
    {
      "cell_type": "markdown",
      "metadata": {
        "id": "ZnAL89H7XXLa"
      },
      "source": [
        "eg.1"
      ]
    },
    {
      "cell_type": "code",
      "metadata": {
        "colab": {
          "base_uri": "https://localhost:8080/"
        },
        "id": "1Z8zucryXYxp",
        "outputId": "96ee5e7e-9fad-448a-e43e-a5e692753b23"
      },
      "source": [
        "#What is the probability of a die showing a number 3 or number 5?\n",
        "pa = 1/6 # pa is the probability of getting a number 3\n",
        "\n",
        "pb = 1/6 #pb is the probability of getting a number 5\n",
        "\n",
        "Pab = pa + pb #Pab is the probability of getting 3 or 5\n",
        "print(\"Therefore, the probability of a die showing 3 or 5 is\",Pab)\n"
      ],
      "execution_count": null,
      "outputs": [
        {
          "output_type": "stream",
          "name": "stdout",
          "text": [
            "Therefore, the probability of a die showing 3 or 5 is 0.3333333333333333\n"
          ]
        }
      ]
    },
    {
      "cell_type": "markdown",
      "metadata": {
        "id": "flZbRbokXhsi"
      },
      "source": [
        "eg.2"
      ]
    },
    {
      "cell_type": "code",
      "metadata": {
        "colab": {
          "base_uri": "https://localhost:8080/"
        },
        "id": "Xak93PM7XjvC",
        "outputId": "e0f70922-6635-45ee-fc08-4d316932afd4"
      },
      "source": [
        "# Sample Space\n",
        "cards = 52\n",
        "\n",
        "# Calculate the probability of drawing a heart or a club\n",
        "hearts = 13\n",
        "clubs = 13\n",
        "heart_or_club = event_probability(hearts, cards) + event_probability(clubs, cards)\n",
        "print(heart_or_club )"
      ],
      "execution_count": null,
      "outputs": [
        {
          "output_type": "stream",
          "name": "stdout",
          "text": [
            "0.5\n"
          ]
        }
      ]
    },
    {
      "cell_type": "markdown",
      "metadata": {
        "id": "ZuR0t0-iX_WC"
      },
      "source": [
        "eg.3"
      ]
    },
    {
      "cell_type": "code",
      "metadata": {
        "colab": {
          "base_uri": "https://localhost:8080/"
        },
        "id": "JQha3E80YAsy",
        "outputId": "a0650940-1d34-4232-9718-c5206078d406"
      },
      "source": [
        "# Calculate the probability of drawing an ace, king, or a queen\n",
        "aces = 4\n",
        "kings = 4\n",
        "queens = 4\n",
        "ace_king_or_queen = event_probability(aces, cards) + event_probability(kings, cards) + event_probability(queens, cards)\n",
        "\n",
        "print(heart_or_club)\n",
        "print(ace_king_or_queen)"
      ],
      "execution_count": null,
      "outputs": [
        {
          "output_type": "stream",
          "name": "stdout",
          "text": [
            "0.5\n",
            "0.23076923076923078\n"
          ]
        }
      ]
    },
    {
      "cell_type": "markdown",
      "metadata": {
        "id": "oFsU8ro-YMUi"
      },
      "source": [
        "eg.4"
      ]
    },
    {
      "cell_type": "code",
      "metadata": {
        "colab": {
          "base_uri": "https://localhost:8080/"
        },
        "id": "PxiXmzYTYRv6",
        "outputId": "1d315185-db4f-4a55-f0cf-ad564f858adb"
      },
      "source": [
        "# In a deck of 52 card, the probability of getting king or queen is equal to:\n",
        "queen = 4\n",
        "king = 4\n",
        "king_or_queen = event_probability(queen, cards) + event_probability(king, cards)\n",
        "print(king_or_queen)\n"
      ],
      "execution_count": null,
      "outputs": [
        {
          "output_type": "stream",
          "name": "stdout",
          "text": [
            "0.15384615384615385\n"
          ]
        }
      ]
    },
    {
      "cell_type": "markdown",
      "metadata": {
        "id": "1FWWxZ-YYgTu"
      },
      "source": [
        "\n",
        "\n",
        "eg.5"
      ]
    },
    {
      "cell_type": "code",
      "metadata": {
        "colab": {
          "base_uri": "https://localhost:8080/"
        },
        "id": "aGgj-XHuYilY",
        "outputId": "10c2dc32-46dd-4744-ce08-a0edf129ce60"
      },
      "source": [
        "# Calculate the probability of drawing a heart or an ace\n",
        "hearts = 13\n",
        "aces = 4\n",
        "ace_of_hearts = 1\n",
        "heart_or_ace = event_probability(hearts, cards) + event_probability(aces, cards) - event_probability(ace_of_hearts, cards)\n",
        "print(round(heart_or_ace, 1))"
      ],
      "execution_count": null,
      "outputs": [
        {
          "output_type": "stream",
          "name": "stdout",
          "text": [
            "0.3\n"
          ]
        }
      ]
    },
    {
      "cell_type": "markdown",
      "metadata": {
        "id": "c--I-8ouY0Fq"
      },
      "source": [
        "eg.6"
      ]
    },
    {
      "cell_type": "code",
      "metadata": {
        "colab": {
          "base_uri": "https://localhost:8080/"
        },
        "id": "gxOvDdqWY1_T",
        "outputId": "4e6deb58-0162-4847-bbfd-86aacbeed087"
      },
      "source": [
        "red_cards = 26\n",
        "face_cards = 12\n",
        "red_face_cards = 6\n",
        "red_or_face_cards = event_probability(red_cards, cards) + event_probability(face_cards, cards) - event_probability(red_face_cards, cards)\n",
        "\n",
        "print(round(heart_or_ace, 1))\n",
        "print(round(red_or_face_cards, 1))"
      ],
      "execution_count": null,
      "outputs": [
        {
          "output_type": "stream",
          "name": "stdout",
          "text": [
            "0.3\n",
            "0.6\n"
          ]
        }
      ]
    },
    {
      "cell_type": "code",
      "metadata": {
        "id": "iGu2mHWzY8M6"
      },
      "source": [
        "5 #Complementary Events"
      ],
      "execution_count": null,
      "outputs": []
    },
    {
      "cell_type": "markdown",
      "metadata": {
        "id": "COxN4k8yauMK"
      },
      "source": [
        "For any event E1 there exists another event E1‘ which represents the remaining elements of the sample space S.\n",
        "\n",
        "E1 = S − E1‘\n",
        "\n",
        "If a dice is rolled then the sample space S is given as S = {1 , 2 , 3 , 4 , 5 , 6 }. If event E1 represents all the outcomes which is greater than 4, then E1 = {5, 6} and E1‘ = {1, 2, 3, 4}.\n",
        "\n",
        "Thus E1‘ is the complement of the event E1.\n",
        "\n",
        "Similarly, the complement of E1, E2, E3……….En will be represented as E1‘, E2‘, E3‘……….En‘"
      ]
    },
    {
      "cell_type": "markdown",
      "metadata": {
        "id": "03WMhj85ZE6T"
      },
      "source": [
        "eg.1\n"
      ]
    },
    {
      "cell_type": "code",
      "metadata": {
        "colab": {
          "base_uri": "https://localhost:8080/"
        },
        "id": "J4_3XyLJZGgx",
        "outputId": "55fc6cb3-57b1-428c-f8da-715bf4991194"
      },
      "source": [
        "#probabiltiy of not getting 5 when a fair die is rolled\n",
        "ns = 6 #n(S) = {1,2,3,4,5,6}\n",
        "na = 1 #n(A) = {5}\n",
        "pa = na/ns # P(A)\n",
        "print(\"probabilty of not getting 5 is:\",1-pa)\n"
      ],
      "execution_count": null,
      "outputs": [
        {
          "output_type": "stream",
          "name": "stdout",
          "text": [
            "probabilty of not getting 5 is: 0.8333333333333334\n"
          ]
        }
      ]
    },
    {
      "cell_type": "markdown",
      "metadata": {
        "id": "J5LT4k_yZOcR"
      },
      "source": [
        "eg.2\n"
      ]
    },
    {
      "cell_type": "code",
      "metadata": {
        "colab": {
          "base_uri": "https://localhost:8080/"
        },
        "id": "Ob2CJJ9kZQEq",
        "outputId": "3bdf44f0-f9cb-4027-d99e-829028a73670"
      },
      "source": [
        "\n",
        "# a probability of getting a white balls from a bag of balls is 1/4\n",
        "p = 1/4\n",
        "# What is the probability of not getting a white ball?\n",
        "print(\"Probability of not getting white ball is \",1-p)"
      ],
      "execution_count": null,
      "outputs": [
        {
          "output_type": "stream",
          "name": "stdout",
          "text": [
            "Probability of not getting white ball is  0.75\n"
          ]
        }
      ]
    },
    {
      "cell_type": "markdown",
      "metadata": {
        "id": "Bh9amROeZUsL"
      },
      "source": [
        "eg.3\n"
      ]
    },
    {
      "cell_type": "code",
      "metadata": {
        "colab": {
          "base_uri": "https://localhost:8080/"
        },
        "id": "6YPC0Bx1ZWjx",
        "outputId": "fb0e03fe-a83d-43a6-a815-86ac0f5f33ff"
      },
      "source": [
        "# A number is chosen at random from a set of whole numbers from 1 to 50.\n",
        "# Calculate the probability that the chosen number is not a perfect square.\n",
        "n = 50 # Sample space\n",
        "a = 7 #{1,4,9,16,25,36,49}\n",
        "p = event_probability(a,n)\n",
        "print(\"the probability that the chosen number is not a perfect square is\",1-p)\n"
      ],
      "execution_count": null,
      "outputs": [
        {
          "output_type": "stream",
          "name": "stdout",
          "text": [
            "the probability that the chosen number is not a perfect square is 0.86\n"
          ]
        }
      ]
    },
    {
      "cell_type": "markdown",
      "metadata": {
        "id": "f90wybtEu-4t"
      },
      "source": [
        "**2. Rules of Probability**"
      ]
    },
    {
      "cell_type": "markdown",
      "metadata": {
        "id": "InqGiXAeQavL"
      },
      "source": [
        "Basic Rules of Probability\n",
        "\n",
        "1.The chance that some event happens given all events that could happen in that category.\n",
        "\n",
        "Probabilities denote the chance that something happens, not the guarantee 0≤p(x)≤1 or 0%≤p(x)≤100%\n",
        "\n",
        "For any set of associated but separate events, ∑ip(xi)=1\n",
        "\n",
        "For related events A and B, the probablity that they happen together is p(A∩B)=p(A)⋅p(B)\n",
        "\n",
        "The probability that either one of them happens is p(A∪B)=p(A)+p(B)−p(A∩B)"
      ]
    },
    {
      "cell_type": "markdown",
      "metadata": {
        "id": "rc-2usn2UEI7"
      },
      "source": [
        "Complementary rule for even"
      ]
    },
    {
      "cell_type": "code",
      "metadata": {
        "colab": {
          "base_uri": "https://localhost:8080/"
        },
        "id": "vgLAAtgmorq5",
        "outputId": "6aeba1f2-4598-44b2-b80e-2894aa834dc3"
      },
      "source": [
        "import math \n",
        "def findProb(l, r): \n",
        "      \n",
        "    # Count of perfect squares  \n",
        "    countOfPS = (math.floor(math.sqrt(r)) - \n",
        "                  math.ceil(math.sqrt(l)) + 1) \n",
        "      \n",
        "    # Total numbers in range l to r  \n",
        "    total = r - l + 1\n",
        "  \n",
        "    # Calculating probability  \n",
        "    prob = countOfPS / total \n",
        "      \n",
        "    return prob  \n",
        "      \n",
        "# Driver code  \n",
        "if __name__=='__main__': \n",
        "      \n",
        "    L = 16\n",
        "    R = 25\n",
        "      \n",
        "    print(findProb(L, R))"
      ],
      "execution_count": null,
      "outputs": [
        {
          "output_type": "stream",
          "name": "stdout",
          "text": [
            "0.2\n"
          ]
        }
      ]
    },
    {
      "cell_type": "markdown",
      "metadata": {
        "id": "j28S2qNsqUie"
      },
      "source": [
        "Complementary rule for odds"
      ]
    },
    {
      "cell_type": "code",
      "metadata": {
        "colab": {
          "base_uri": "https://localhost:8080/"
        },
        "id": "sqjxb1uSqUyV",
        "outputId": "fbc34501-c99d-4e58-c392-f2e208e5ba33"
      },
      "source": [
        "MAX=21\n",
        "\n",
        "fact=[0]*MAX\n",
        "\n",
        "# Returns probability of \n",
        "# getting at least k \n",
        "# heads in n tosses. \n",
        "def probability(k, n): \n",
        "\tans = 0\n",
        "\tfor i in range(k,n+1): \n",
        "\n",
        "\t\t# Probability of getting exactly i \n",
        "\t\t# heads out of n heads \n",
        "\t\tans += fact[n] / (fact[i] * fact[n - i]) \n",
        "\n",
        "\t# Note: 1 << n = pow(2, n) \n",
        "\tans = ans / (1 << n) \n",
        "\treturn ans \n",
        "\n",
        "def precompute(): \n",
        "\t\n",
        "\t# Preprocess all factorial \n",
        "\t# only upto 19, \n",
        "\t# as after that it \n",
        "\t# will overflow \n",
        "\tfact[0] = 1\n",
        "\tfact[1] = 1\n",
        "\n",
        "\tfor i in range(2,20): \n",
        "\t\tfact[i] = fact[i - 1] * i \n",
        "\n",
        "# Driver code \n",
        "if __name__=='__main__': \n",
        "\tprecompute() \n",
        "\n",
        "\t# Probability of getting 2 \n",
        "\t# head out of 3 coins \n",
        "\tprint(probability(2, 3)) \n",
        "\n",
        "\t# Probability of getting \n",
        "\t# 3 head out of 6 coins \n",
        "\tprint(probability(3, 6)) \n",
        "\n",
        "\t# Probability of getting \n",
        "\t# 12 head out of 18 coins \n",
        "\tprint(probability(12, 18)) \n",
        "\t\n",
        "\n"
      ],
      "execution_count": null,
      "outputs": [
        {
          "output_type": "stream",
          "name": "stdout",
          "text": [
            "0.5\n",
            "0.65625\n",
            "0.1189422607421875\n"
          ]
        }
      ]
    },
    {
      "cell_type": "markdown",
      "metadata": {
        "id": "E1xeWs9gvCA7"
      },
      "source": [
        "Multiplication rule:\n",
        "\n",
        "P(A and B) = P(A) * P(B), "
      ]
    },
    {
      "cell_type": "code",
      "metadata": {
        "colab": {
          "base_uri": "https://localhost:8080/"
        },
        "id": "kcC6x7M_vDxe",
        "outputId": "786ca4ae-5cfa-4d9b-de83-317b34240b5c"
      },
      "source": [
        "\n",
        "import numpy \n",
        "import numpy as np\n",
        " \n",
        "temps = [31, 32, 32, 31, 28, 29, 31, 38, 32, 31, 30, 29, 30, 31, 26] \n",
        " \n",
        "num_items = len(temps) \n",
        "product = 1. \n",
        " \n",
        "for temperature in temps: \n",
        "    product *= temperature \n",
        "     \n",
        "geometric_mean = product**(1./num_items) \n",
        " \n",
        "print(geometric_mean)   # == 30.634\n",
        "\n",
        "import numpy as np\n",
        "\n",
        "# create user preferences\n",
        "user_pref = np.array([5, 1, 3])\n",
        "\n",
        "# create a random movie matrix of 10,000 movies\n",
        "movies = np.random.randint(5,size=(3,1000))+1\n",
        "\n",
        "# Note that the randint will make random integers from 0-4\n",
        "# so I added a 1 at the end to increase the scale from 1-5\n",
        "\n",
        "print(user_pref.shape) # (1, 3)\n",
        "\n",
        "print(movies.shape)    # (3, 1000)\n",
        "\n",
        "# np.dot does both dot products and matrix multiplication\n",
        "recs = np.dot(user_pref, movies)\n",
        "\n",
        "import time\n",
        "\n",
        "for i in (10000, 100000, 1000000, 10000000, 100000000):\n",
        "    movies = np.random.randint(5,size=(3,i))+1\n",
        "    now = time.time()\n",
        "    np.dot(user_pref, movies)\n",
        "    print (time.time() - now), \"seconds to run\", i, \"movies\""
      ],
      "execution_count": null,
      "outputs": [
        {
          "output_type": "stream",
          "name": "stdout",
          "text": [
            "30.63473484374659\n",
            "(3,)\n",
            "(3, 1000)\n",
            "0.0002281665802001953\n",
            "0.0015299320220947266\n",
            "0.011967658996582031\n",
            "0.13154101371765137\n",
            "1.314371109008789\n"
          ]
        }
      ]
    },
    {
      "cell_type": "markdown",
      "metadata": {
        "id": "cdcxcTmsPMzq"
      },
      "source": [
        "Addition rule\n",
        "\n",
        "P\n",
        "(\n",
        "A\n",
        "∪\n",
        "B\n",
        ")\n",
        "=\n",
        "P\n",
        "(\n",
        "A\n",
        ")\n",
        "+\n",
        "P\n",
        "(\n",
        "B\n",
        ")\n",
        "−\n",
        "P\n",
        "(\n",
        "A\n",
        "∩\n",
        "B\n",
        ")"
      ]
    },
    {
      "cell_type": "code",
      "metadata": {
        "colab": {
          "base_uri": "https://localhost:8080/"
        },
        "id": "6xbIyalDO-_c",
        "outputId": "45cf3b5c-e681-4137-c35f-ce13653bfffa"
      },
      "source": [
        "\n",
        "def event_probability(event_outcomes, sample_space):\n",
        "    probability = (event_outcomes / sample_space) * 100\n",
        "    return round(probability, 1)\n",
        "\n",
        "# Sample Space\n",
        "cards = 52\n",
        "\n",
        "# Determine the probability of drawing a heart\n",
        "hearts = 13\n",
        "heart_probability = event_probability(hearts, cards)\n",
        "\n",
        "# Determine the probability of drawing a face card\n",
        "face_cards = 12\n",
        "face_card_probability = event_probability(face_cards, cards)\n",
        "\n",
        "# Determine the probability of drawing the queen of hearts\n",
        "queen_of_hearts = 1\n",
        "queen_of_hearts_probability = event_probability(queen_of_hearts, cards)\n",
        "\n",
        "# Print each probability\n",
        "print(str(heart_probability) )\n",
        "print(str(face_card_probability))\n",
        "print(str(queen_of_hearts_probability))"
      ],
      "execution_count": null,
      "outputs": [
        {
          "output_type": "stream",
          "name": "stdout",
          "text": [
            "25.0\n",
            "23.1\n",
            "1.9\n"
          ]
        }
      ]
    },
    {
      "cell_type": "markdown",
      "metadata": {
        "id": "j9Tn-zIyP1Wm"
      },
      "source": [
        "Conditional Probability"
      ]
    },
    {
      "cell_type": "code",
      "metadata": {
        "colab": {
          "base_uri": "https://localhost:8080/"
        },
        "id": "jmdJeK6vRlp6",
        "outputId": "e5f61d74-991e-4ecf-8195-084aa3454aae"
      },
      "source": [
        "import numpy as np\n",
        "def coinFlip(p):    \n",
        "    #perform the binomial distribution (returns 0 or 1)    \n",
        "    result = np.random.binomial(1,p)\n",
        "#return flip to be added to numpy array    \n",
        "    return result\n",
        "'''Main Area'''\n",
        "#probability of heads vs. tails. This can be changed.\n",
        "probability = .5\n",
        "#num of flips required. This can be changed.\n",
        "n = 10\n",
        "#initiate array\n",
        "fullResults = np.arange(n)\n",
        "#perform desired numbered of flips at required probability set above\n",
        "for i in range(0, n):    \n",
        "    fullResults[i] = coinFlip(probability)    \n",
        "    i+=1\n",
        "#print results\n",
        "print(\"probability is set to \", probability)\n",
        "print(\"Tails = 0, Heads = 1: \", fullResults)\n",
        "#Total up heads and tails for easy user experience \n",
        "print(\"Head Count: \", np.count_nonzero(fullResults == 1))\n",
        "print(\"Tail Count: \", np.count_nonzero(fullResults == 0))"
      ],
      "execution_count": 7,
      "outputs": [
        {
          "output_type": "stream",
          "name": "stdout",
          "text": [
            "probability is set to  0.5\n",
            "Tails = 0, Heads = 1:  [1 1 1 1 1 1 1 1 0 1]\n",
            "Head Count:  9\n",
            "Tail Count:  1\n"
          ]
        }
      ]
    },
    {
      "cell_type": "markdown",
      "metadata": {
        "id": "6wSruof4URPA"
      },
      "source": [
        "P(A∪B)=P(A)+P(B)−P(A∩B)"
      ]
    },
    {
      "cell_type": "code",
      "metadata": {
        "colab": {
          "base_uri": "https://localhost:8080/"
        },
        "id": "Z-oRAuNFTOFn",
        "outputId": "22b9a184-4654-419b-dbb1-521d9690fe0f"
      },
      "source": [
        "# Sample Space\n",
        "cards = 52\n",
        "hole_cards = 2\n",
        "# Your opponent provided you information... use it!\n",
        "opponents_hole_cards = 2 \n",
        "\n",
        "turn_community_cards = 4\n",
        "cards = cards - (hole_cards + opponents_hole_cards + turn_community_cards)\n",
        "\n",
        "# Outcomes\n",
        "diamonds = 13\n",
        "diamonds_drawn = 4\n",
        "\n",
        "# You can't count the two diamonds that won't help you win\n",
        "diamond_non_outs = 2 \n",
        "\n",
        "outs = diamonds - diamonds_drawn - diamond_non_outs\n",
        "\n",
        "# Determine win probability\n",
        "win_probability = outs / cards\n",
        "\n",
        "# Determine expected value\n",
        "pot = 60\n",
        "ev = pot * win_probability\n",
        "\n",
        "# Print ev and appropriate decision\n",
        "call_amount = 20\n",
        "if ev >= 20:\n",
        "    print(round(ev, 2), 'Call')\n",
        "else:\n",
        "    print(round(ev, 2), 'Fold')"
      ],
      "execution_count": null,
      "outputs": [
        {
          "output_type": "stream",
          "name": "stdout",
          "text": [
            "9.55 Fold\n"
          ]
        }
      ]
    },
    {
      "cell_type": "markdown",
      "metadata": {
        "id": "rmQl8GkHwa07"
      },
      "source": [
        "**3. Permutations and Combinations**"
      ]
    },
    {
      "cell_type": "code",
      "metadata": {
        "colab": {
          "base_uri": "https://localhost:8080/"
        },
        "id": "BwKkrw8YCHe4",
        "outputId": "a6970153-cb8e-4414-ca12-1740f476f2fe"
      },
      "source": [
        "                                                          #Permutation and Combination\n",
        "\n",
        "#------------------------------------------------------------------ Permutation ------------------------------------------------------------------------------\n",
        "#What is Permutation?\n",
        "#Permutation is the act of arranging the members of a set into a sequence or order, or, if the set is already ordered, rearranging (reordering) its elements.\n",
        "#The formula for Permutation (non-repetitive) is :\n",
        "#P (n, r) =n! /(n-r)!  where n is the total no of element in a set and r is the no of elements taken from a given set.\n",
        "#The formula for Permutation (repetitive) is:\n",
        "#P (n, r) =n^r\n",
        "\n",
        "#--------------------------------------------------NON- REPITATIVE FORMULA FOR PERMUTATION---------------------------------------------------------------------\n",
        "\n",
        "import math\n",
        "#n=int (input (\"Enter the size of set : \"))\n",
        "#r=int (input (\"Enter the size of elements taken from the set : \"))\n",
        "\n",
        "def per(n,r):\n",
        "  return (math.factorial(n)/(math.factorial(n-r)))\n",
        "\n",
        "#------------------------------------------------------ REPITATIVE FORMULA FOR PERMUTATION---------------------------------------------------------------------\n",
        "\n",
        "#a=int (input (\"Enter the size of set : \"))\n",
        "#b=int (input (\"Enter the size of elements taken from the set : \"))\n",
        "\n",
        "def per_with_rep(n,r):\n",
        "  return n**r\n",
        "\n",
        "\n",
        "#example 1 :\n",
        "\n",
        "#To find the number of permutations of pocket Aces from a pack of cards such that you only pick 2 cards\n",
        "\n",
        "#With no repitation.\n",
        "\n",
        "#There are four Aces in a deck of cards, and these are all the different combinations of pocket Aces\n",
        "\n",
        "#/1.Ace Hearts / Ace Diamonds\n",
        "#2.Ace Hearts / Ace Clubs\n",
        "#3.Ace Hearts / Ace Spades\n",
        "#4.Ace Diamonds / Ace Clubs\n",
        "#5.Ace Diamonds / Ace Spades\n",
        "#6.Ace Clubs / Ace Spades\n",
        "\n",
        "#Here n = 4 as only 4 ace cards are there in a pack is 52 and r = 2 as we have to pick 2 cards\n",
        "n = 4\n",
        "r = 2\n",
        "print(\"\\nNumber of Ace cards in a Pack : \",n)\n",
        "print(\"\\nNumber of cards to be withdrawn : \",r)\n",
        "print(\"\\nPermuation is \",per(n,r))\n",
        "\n",
        "# Example 2 :\n",
        "\n",
        "#what is the possible permutation of having a 4-digit pin number from 10 single digit number i.e from 0 to 9 such that it is not repitative.\n",
        "\n",
        "#Here n = 10 and r = 4\n",
        "\n",
        "n = 10\n",
        "r = 4\n",
        "print(\"\\nTotal number of digits : \",n)\n",
        "print(\"\\nNumber of Digits for a pin to be created: \",r)\n",
        "print(\"\\nPermuation is \",per(n,r))\n",
        "\n",
        "# Example 3 :\n",
        "\n",
        "#what is the possible permutation of having a 4-digit pin number from 10 single digit number i.e from 0 to 9 such that it is repitative.\n",
        "\n",
        "#Here n = 10 and r = 4 \n",
        "\n",
        "n = 10\n",
        "r = 4\n",
        "print(\"\\nTotal number of digits : \",n)\n",
        "print(\"\\nNumber of Digits for a pin to be created: \",r)\n",
        "print(\"\\nPermuation with repitation is \",per_with_rep(n,r))\n",
        "\n",
        "#Example 4 :\n",
        "\n",
        "#You have a website on which users can register. They need to provide a password that needs to be exactly 8 characters long and it should be a cbination of characters and numbers such that the characters and numbers cannot repeat. We first need to determine how many characters and digits there are in the English alphabet:\n",
        "#the number of letters: 26\n",
        "#the number of digits: 10\n",
        "#Which is 36 in total. So, n = 36. r would then be 8, because the password needs to be 8 characters long\n",
        "\n",
        "n = 36\n",
        "r = 8\n",
        "print(\"\\nTotal number of digits : \",n)\n",
        "print(\"\\nLength of password : \",r)\n",
        "print(\"\\nPermuation is \",per(n,r))\n",
        "\n",
        "#Example 5 :\n",
        "\n",
        "#You have a website on which users can register. They need to provide a password that needs to be exactly 8 characters long and it should be a cbination of characters and numbers such that the characters and numbers can repeat. We first need to determine how many characters and digits there are in the English alphabet:\n",
        "#the number of letters: 26\n",
        "#the number of digits: 10\n",
        "#Which is 36 in total. So, n = 36. r would then be 8, because the password needs to be 8 characters long\n",
        "\n",
        "n = 36\n",
        "r = 8\n",
        "print(\"\\nTotal number of digits : \",n)\n",
        "print(\"\\nLength of password : \",r)\n",
        "print(\"\\nPermuation with repitation is \",per_with_rep(n,r))\n",
        "\n",
        "#-------------------------------------------------------------------------Combinations--------------------------------------------------------------------\n",
        "\n",
        "#What is Combination ?\n",
        "#A combination is a selection of items from a collection, such that (unlike permutations) the order of selection does not matter.\n",
        "#The formula for Combination (non-repetitive) is :\n",
        "#C(n,r)=n!/(r!(n-r)!)\n",
        "\n",
        "#The formula for Combination (repetitive) is :\n",
        "#C(n,r)=(n+r -1)!/(r!(n-1)!)\n",
        "\n",
        "#--------------------------------------------------NON- REPITATIVE FORMULA FOR COMBINATION---------------------------------------------------------------------\n",
        "\n",
        "#n=int(input(\"Enter the size of set : \"))\n",
        "#r=int(input(\"Enter the size of elements taken from the set : \"))\n",
        "\n",
        "def com(n,r):\n",
        "  return (math.factorial(n)/(math.factorial(r)*(math.factorial(n-r))))\n",
        "\n",
        "#------------------------------------------------------ REPITATIVE FORMULA FOR COMBINATION---------------------------------------------------------------------\n",
        "\n",
        "#a=int(input(\"Enter the size of set : \"))\n",
        "#b=int(input(\"Enter the size of elements taken from the set : \"))\n",
        "\n",
        "def com_with_rep(n,r):\n",
        "  return ((math.factorial(n+r-1))/(math.factorial(r)*(math.factorial(n-1))))\n",
        "\n",
        "# Example 1 \n",
        "\n",
        "#To find the number of permutations of pocket Aces from a pack of cards such that you only pick 2 cards\n",
        "\n",
        "#In a pack of card, no card is repetated so we will bw using the non repitative formula for combinations.\n",
        "\n",
        "#in this example,n = 52 as the no of cards in a pack is 52 and r = 2 as only 2 cards have to be withdrawn\n",
        "\n",
        "n=52\n",
        "r=2\n",
        "print(\"\\nTotal number of cards in a pack : \",n)\n",
        "print(\"\\nNumber of cards to be withdrawn : \",r)\n",
        "print(\"\\nCombination is \",com(n,r)) \n",
        "\n",
        "#example 2 :\n",
        "\n",
        "#On how many ways can you choose 11 people from a group of 110 for a football team?\n",
        "\n",
        "#here n= 110 and r = 11\n",
        "\n",
        "n=110\n",
        "r=11\n",
        "print(\"\\nTotal number of groups : \",n)\n",
        "print(\"\\nNumber of people to be chosen : \",r)\n",
        "print(\"\\nCombination is \",com(n,r)) \n",
        "\n",
        "#Example 3 :\n",
        "\n",
        "#You’re making a sandwich and you’re only allowed to use 4 ingredients out of 10 possible. However, the ingredients don’t have to be unique i.e the ingredients can be repitated.\n",
        "\n",
        "#As the ingrediants can be repitated, we wiil be using reitated formula of combination.\n",
        "\n",
        "#here n= 10 as it is the total no of ingredients available and r = 4 as it is the no of ingredients used.\n",
        "\n",
        "n=10\n",
        "r=4\n",
        "print(\"\\nTotal no of ingredients : \",n)\n",
        "print(\"\\nTotal no of ingredients to be taken : \",r)\n",
        "print(\"\\nCombination with repitation is \",com_with_rep(n,r))\n",
        "\n",
        "#Example 4 :\n",
        "\n",
        "#You’re making a sandwich and you’re only allowed to use 4 ingredients out of 10 possible. However, the ingredients have to be unique i.e the ingredients cannot be repitated.\n",
        "\n",
        "#As the ingrediants cannot be repitated, we wiil be using non repitated formula of combination.\n",
        "\n",
        "#here n= 10 as it is the total no of ingredients available and r = 4 as it is the no of ingredients used.\n",
        "\n",
        "n=10\n",
        "r=4\n",
        "print(\"\\nTotal no of ingredients : \",n)\n",
        "print(\"\\nTotal no of ingredients to be taken : \",r)\n",
        "print(\"\\nCombination is \",com(n,r))\n",
        "\n",
        "#Example 5 :\n",
        "\n",
        "#find all combinations containing exactly 2 letters from the word \"ABCDE\" such that its a unquie cobination i.e the letters should not be repetated\n",
        "\n",
        "#here n= 5 as the length of word \"ABCDE\" is 5 and r = 2 as we have to create combination with 2 letters of the word\n",
        "\n",
        "#The possible combinations are :\n",
        "\n",
        "#A B\n",
        "#A C\n",
        "#A D\n",
        "#A E\n",
        "#B C\n",
        "#B D\n",
        "#B E\n",
        "#C D\n",
        "#C E\n",
        "#D E\n",
        "\n",
        "n=5\n",
        "r=2\n",
        "print(\"\\nThe length of word 'ABCDE' : \",n)\n",
        "print(\"\\nNumber of letters taken from the word : \",r)\n",
        "print(\"\\nPossible Combination are \",com(n,r))\n",
        "\n"
      ],
      "execution_count": null,
      "outputs": [
        {
          "output_type": "stream",
          "name": "stdout",
          "text": [
            "\n",
            "Number of Ace cards in a Pack :  4\n",
            "\n",
            "Number of cards to be withdrawn :  2\n",
            "\n",
            "Permuation is  12.0\n",
            "\n",
            "Total number of digits :  10\n",
            "\n",
            "Number of Digits for a pin to be created:  4\n",
            "\n",
            "Permuation is  5040.0\n",
            "\n",
            "Total number of digits :  10\n",
            "\n",
            "Number of Digits for a pin to be created:  4\n",
            "\n",
            "Permuation with repitation is  10000\n",
            "\n",
            "Total number of digits :  36\n",
            "\n",
            "Length of password :  8\n",
            "\n",
            "Permuation is  1220096908800.0\n",
            "\n",
            "Total number of digits :  36\n",
            "\n",
            "Length of password :  8\n",
            "\n",
            "Permuation with repitation is  2821109907456\n",
            "\n",
            "Total number of cards in a pack :  52\n",
            "\n",
            "Number of cards to be withdrawn :  2\n",
            "\n",
            "Combination is  1326.0\n",
            "\n",
            "Total number of groups :  110\n",
            "\n",
            "Number of people to be chosen :  11\n",
            "\n",
            "Combination is  426342151127100.0\n",
            "\n",
            "Total no of ingredients :  10\n",
            "\n",
            "Total no of ingredients to be taken :  4\n",
            "\n",
            "Combination with repitation is  715.0\n",
            "\n",
            "Total no of ingredients :  10\n",
            "\n",
            "Total no of ingredients to be taken :  4\n",
            "\n",
            "Combination is  210.0\n",
            "\n",
            "The length of word 'ABCDE' :  5\n",
            "\n",
            "Number of letters taken from the word :  2\n",
            "\n",
            "Possible Combination are  10.0\n"
          ]
        }
      ]
    },
    {
      "cell_type": "markdown",
      "metadata": {
        "id": "FhZX1icyw-G_"
      },
      "source": [
        "**4. Probability Likelihood**"
      ]
    },
    {
      "cell_type": "markdown",
      "metadata": {
        "id": "RKSY2Gicy0Sv"
      },
      "source": [
        "Probability corresponds to finding the chance of something given a sample distribution of the data, while on the other hand, Likelihood refers to finding the best distribution of the data given a particular value of some feature or some situation in the data.\n",
        "\n",
        "Maximum likelihood estimation(MLE) is a method of estimating the parametersof a statistical model given observations, by finding the parameter values that maximize the likelihood of making the observations given the parameters. MLE can be seen as a special case of the maximum a posteriori estimation (MAP) that assumes a uniform prior distribution of the parameters, or as a variant of the MAP that ignores the prior and which therefore is unregularized.\n",
        "\n",
        "\n",
        "A statistical method for estimating population parameters (such as the mean and variance) from sample data that selects as estimates those parameter values maximizing the probability of obtaining the observed data is called MLE.\n",
        "\n",
        "The maximum likelihood estimation is a method that determines values for parameters of the model. It is the statistical method of estimating the parameters of the probability distribution by maximizing the likelihood function. The point in which the parameter value that maximizes the likelihood function is called the maximum likelihood estimate. \n"
      ]
    },
    {
      "cell_type": "code",
      "metadata": {
        "colab": {
          "base_uri": "https://localhost:8080/"
        },
        "id": "P2Nhu8MNRMkK",
        "outputId": "50ba2a41-7bd8-47f3-d228-42b3c43ad946"
      },
      "source": [
        "pip install numdifftools"
      ],
      "execution_count": null,
      "outputs": [
        {
          "output_type": "stream",
          "name": "stdout",
          "text": [
            "Looking in indexes: https://pypi.org/simple, https://us-python.pkg.dev/colab-wheels/public/simple/\n",
            "Collecting numdifftools\n",
            "  Downloading numdifftools-0.9.40-py2.py3-none-any.whl (99 kB)\n",
            "\u001b[K     |████████████████████████████████| 99 kB 3.2 MB/s \n",
            "\u001b[?25hRequirement already satisfied: scipy>=0.8 in /usr/local/lib/python3.7/dist-packages (from numdifftools) (1.7.3)\n",
            "Collecting algopy>=0.4\n",
            "  Downloading algopy-0.5.7.zip (189 kB)\n",
            "\u001b[K     |████████████████████████████████| 189 kB 29.4 MB/s \n",
            "\u001b[?25hRequirement already satisfied: numpy>=1.9 in /usr/local/lib/python3.7/dist-packages (from numdifftools) (1.21.6)\n",
            "Requirement already satisfied: statsmodels>=0.6 in /usr/local/lib/python3.7/dist-packages (from numdifftools) (0.12.2)\n",
            "Requirement already satisfied: pandas>=0.21 in /usr/local/lib/python3.7/dist-packages (from statsmodels>=0.6->numdifftools) (1.3.5)\n",
            "Requirement already satisfied: patsy>=0.5 in /usr/local/lib/python3.7/dist-packages (from statsmodels>=0.6->numdifftools) (0.5.3)\n",
            "Requirement already satisfied: pytz>=2017.3 in /usr/local/lib/python3.7/dist-packages (from pandas>=0.21->statsmodels>=0.6->numdifftools) (2022.5)\n",
            "Requirement already satisfied: python-dateutil>=2.7.3 in /usr/local/lib/python3.7/dist-packages (from pandas>=0.21->statsmodels>=0.6->numdifftools) (2.8.2)\n",
            "Requirement already satisfied: six in /usr/local/lib/python3.7/dist-packages (from patsy>=0.5->statsmodels>=0.6->numdifftools) (1.15.0)\n",
            "Building wheels for collected packages: algopy\n",
            "  Building wheel for algopy (setup.py) ... \u001b[?25l\u001b[?25hdone\n",
            "  Created wheel for algopy: filename=algopy-0.5.7-py3-none-any.whl size=107608 sha256=c9d522852732f9a83fb9e65d374a59c86812af31faf57e0ba9cf8f57ce797d78\n",
            "  Stored in directory: /root/.cache/pip/wheels/a8/fd/06/21dc6aba9f680fdbde386c06b1a8a1cf3d9a5f6bd96e31dcd4\n",
            "Successfully built algopy\n",
            "Installing collected packages: algopy, numdifftools\n",
            "Successfully installed algopy-0.5.7 numdifftools-0.9.40\n"
          ]
        }
      ]
    },
    {
      "cell_type": "code",
      "metadata": {
        "id": "m5kGDFZmQ9yf"
      },
      "source": [
        "#import pymc3 as pm3\n",
        "import numpy as np\n",
        "import numdifftools as ndt\n",
        "import pandas as pd\n",
        "from scipy.stats import norm\n",
        "import statsmodels.api as sm\n",
        "from statsmodels.base.model import GenericLikelihoodModel\n",
        "from scipy.optimize import minimize\n",
        "import random\n",
        "import math\n",
        "import matplotlib.pylab as plt\n",
        "%matplotlib inline\n"
      ],
      "execution_count": null,
      "outputs": []
    },
    {
      "cell_type": "markdown",
      "metadata": {
        "id": "PvHHD7xHa-oi"
      },
      "source": [
        "eg.1"
      ]
    },
    {
      "cell_type": "code",
      "metadata": {
        "id": "uKv9HoLgHok0"
      },
      "source": [
        "def normal_pdf(x, mu = 1, sigma = 1):\n",
        "    return (1./np.sqrt(2*3.14 * sigma**2)) * 2.718**(-(x-mu)**2 / (2. * sigma**2))"
      ],
      "execution_count": null,
      "outputs": []
    },
    {
      "cell_type": "code",
      "metadata": {
        "colab": {
          "base_uri": "https://localhost:8080/",
          "height": 282
        },
        "id": "iEP9hKTeHstQ",
        "outputId": "f8805bd9-fa6d-4ace-fe05-e829d9bac5f9"
      },
      "source": [
        "\n",
        "x_values = np.linspace(-10,10,100)\n",
        "y_values = [normal_pdf(x) for x in x_values]\n",
        "plt.plot(x_values, y_values)\n",
        "\n",
        "\n",
        "x_values = np.linspace(-10,10,100)\n",
        "y_values = [normal_pdf(x, sigma = 5) for x in x_values]\n",
        "plt.plot(x_values, y_values)\n",
        "\n",
        "y_values = [normal_pdf(x, mu = -5, sigma = 5) for x in x_values]\n",
        "plt.plot(x_values, y_values)"
      ],
      "execution_count": null,
      "outputs": [
        {
          "output_type": "execute_result",
          "data": {
            "text/plain": [
              "[<matplotlib.lines.Line2D at 0x7f24de158ed0>]"
            ]
          },
          "metadata": {},
          "execution_count": 35
        },
        {
          "output_type": "display_data",
          "data": {
            "text/plain": [
              "<Figure size 432x288 with 1 Axes>"
            ],
            "image/png": "[encoded data removed]"
          },
          "metadata": {
            "needs_background": "light"
          }
        }
      ]
    },
    {
      "cell_type": "markdown",
      "metadata": {
        "id": "2q-T4zRza7fP"
      },
      "source": [
        "eg.2"
      ]
    },
    {
      "cell_type": "code",
      "metadata": {
        "id": "bFo57BWHSdUz"
      },
      "source": [
        "def normal_pdf(x, mu = 2, sigma = 1):\n",
        "    return (1./np.sqrt(2*3.14 * sigma**2)) * 2.718**(-(x-mu)**2 / (2. * sigma**2))"
      ],
      "execution_count": null,
      "outputs": []
    },
    {
      "cell_type": "code",
      "metadata": {
        "colab": {
          "base_uri": "https://localhost:8080/",
          "height": 282
        },
        "id": "13NCsz1nR2cK",
        "outputId": "e477eff1-452a-4ffc-f0ed-ab8722d4828a"
      },
      "source": [
        "x_values = np.linspace(-20,20,150)\n",
        "y_values = [normal_pdf(x) for x in x_values]\n",
        "plt.plot(x_values, y_values)\n",
        "\n",
        "\n",
        "x_values = np.linspace(-10,10,100)\n",
        "y_values = [normal_pdf(x, sigma = 5) for x in x_values]\n",
        "plt.plot(x_values, y_values)\n",
        "\n",
        "y_values = [normal_pdf(x, mu = -5, sigma = 5) for x in x_values]\n",
        "plt.plot(x_values, y_values)"
      ],
      "execution_count": null,
      "outputs": [
        {
          "output_type": "execute_result",
          "data": {
            "text/plain": [
              "[<matplotlib.lines.Line2D at 0x7f24ddc55f50>]"
            ]
          },
          "metadata": {},
          "execution_count": 37
        },
        {
          "output_type": "display_data",
          "data": {
            "text/plain": [
              "<Figure size 432x288 with 1 Axes>"
            ],
            "image/png": "[encoded data removed]"
          },
          "metadata": {
            "needs_background": "light"
          }
        }
      ]
    },
    {
      "cell_type": "markdown",
      "metadata": {
        "id": "Flmmb_eTbHw2"
      },
      "source": [
        "eg.3"
      ]
    },
    {
      "cell_type": "code",
      "metadata": {
        "id": "_35d1uKobGlw"
      },
      "source": [
        "def normal_pdf(x, mu = 1, sigma = 1):\n",
        "    return (1./np.sqrt(2*3.14 * sigma**2)) * 2.718**(-(x-mu)**2 / (2. * sigma**2))"
      ],
      "execution_count": null,
      "outputs": []
    },
    {
      "cell_type": "code",
      "metadata": {
        "colab": {
          "base_uri": "https://localhost:8080/",
          "height": 282
        },
        "id": "jkDvAZXmbr_X",
        "outputId": "8f297cc8-eb95-4915-c6c3-f8ce108d0609"
      },
      "source": [
        "x_values = np.linspace(-15,15,125)\n",
        "y_values = [normal_pdf(x) for x in x_values]\n",
        "plt.plot(x_values, y_values)\n",
        "\n",
        "\n",
        "x_values = np.linspace(-10,10,100)\n",
        "y_values = [normal_pdf(x, sigma = 5) for x in x_values]\n",
        "plt.plot(x_values, y_values)\n",
        "\n",
        "y_values = [normal_pdf(x, mu = -5, sigma = 5) for x in x_values]\n",
        "plt.plot(x_values, y_values)"
      ],
      "execution_count": null,
      "outputs": [
        {
          "output_type": "execute_result",
          "data": {
            "text/plain": [
              "[<matplotlib.lines.Line2D at 0x7f24ddbe9610>]"
            ]
          },
          "metadata": {},
          "execution_count": 39
        },
        {
          "output_type": "display_data",
          "data": {
            "text/plain": [
              "<Figure size 432x288 with 1 Axes>"
            ],
            "image/png": "[encoded data removed]"
          },
          "metadata": {
            "needs_background": "light"
          }
        }
      ]
    },
    {
      "cell_type": "markdown",
      "metadata": {
        "id": "EXYDGtFdcwVw"
      },
      "source": [
        "eg.4"
      ]
    },
    {
      "cell_type": "code",
      "metadata": {
        "id": "-nuo5DBtdyTp"
      },
      "source": [
        "import math\n",
        "import numpy as np\n",
        "from scipy.stats import binom\n",
        "\n",
        "import statsmodels.api as sm\n",
        "import matplotlib.pyplot as plt\n",
        "\n",
        "%matplotlib inline\n"
      ],
      "execution_count": null,
      "outputs": []
    },
    {
      "cell_type": "code",
      "metadata": {
        "colab": {
          "base_uri": "https://localhost:8080/",
          "height": 195
        },
        "id": "mHmIFW0nfHTo",
        "outputId": "7e6cbe05-cf70-442f-9aae-5f09f48b3ac8"
      },
      "source": [
        "x = np.linspace(0, 10, 11)\n",
        "y = [0] * len(x)\n",
        "\n",
        "fig, ax = plt.subplots(1, 3,sharex=True,sharey=True)\n",
        "fig.set_size_inches(20, 5)\n",
        "# \n",
        "\n",
        "# --------------------------------------------------------------------------------\n",
        "# First\n",
        "# 5 heads out of 10\n",
        "# --------------------------------------------------------------------------------\n",
        "first = []\n",
        "for i in range(11):\n",
        "    first.append(binom.pmf(n=10,k=i,p=0.5))\n",
        "\n",
        "ax[0].grid(\n",
        "    color='lightblue',\n",
        "    linestyle='--',\n",
        "    linewidth=0.5\n",
        ")    \n",
        "ax[0].plot(\n",
        "    [5],\n",
        "    [0],\n",
        "    linestyle=\"None\",\n",
        "    marker='o',\n",
        "    markersize=10,\n",
        "    color='r'\n",
        ")\n",
        "ax[0].vlines(x=x, ymin=0, ymax=first, colors='b', linestyles='--', lw=2)\n",
        "ax[0].set_title('Initial 5 out of 10 toss')\n",
        "\n",
        "# --------------------------------------------------------------------------------\n",
        "# First + Second likelifood overlay\n",
        "# Likelifood for having had 8 heads out of 10\n",
        "# --------------------------------------------------------------------------------\n",
        "ax[1].grid(\n",
        "    color='lightblue',\n",
        "    linestyle='--',\n",
        "    linewidth=0.5\n",
        ")\n",
        "ax[1].plot(\n",
        "    [5, 8],\n",
        "    [0 ,0],\n",
        "    linestyle=\"None\",\n",
        "    marker='o',\n",
        "    markersize=10,\n",
        "    color='r'\n",
        ")\n",
        "likelihood = []\n",
        "for i in range(11):\n",
        "    likelihood.append(binom.pmf(n=10,k=i,p=0.8))\n",
        "\n",
        "ax[1].vlines(x=x, ymin=0, ymax=likelihood, colors='r', linestyles='-', lw=2)\n",
        "ax[1].vlines(x=x, ymin=0, ymax=first, colors='b', linestyles='--', lw=2)\n",
        "ax[1].set_title('8 out of 10 toss observed')\n",
        "\n",
        "second = np.multiply(first, likelihood)\n",
        "second = second / np.sum(second)\n",
        "\n",
        "# --------------------------------------------------------------------------------\\\n",
        "# Posterior\n",
        "# --------------------------------------------------------------------------------\n",
        "ax[2].grid(\n",
        "    color='lightblue',\n",
        "    linestyle='--',\n",
        "    linewidth=0.5\n",
        ")\n",
        "ax[2].plot(\n",
        "    [5, 8],\n",
        "    [0 ,0],\n",
        "    linestyle=\"None\",\n",
        "    marker='o',\n",
        "    markersize=10,\n",
        "    color='r'\n",
        ")\n",
        "ax[2].vlines(x=x, ymin=0, ymax=second, colors='k', linestyles='-', lw=1)\n",
        "ax[2].set_title('5 and 8 out of 10 toss')\n",
        "\n",
        "plt.show()"
      ],
      "execution_count": null,
      "outputs": [
        {
          "output_type": "display_data",
          "data": {
            "text/plain": [
              "<Figure size 1440x360 with 3 Axes>"
            ],
            "image/png": "[encoded data removed]"
          },
          "metadata": {
            "needs_background": "light"
          }
        }
      ]
    },
    {
      "cell_type": "markdown",
      "metadata": {
        "id": "WjgJxdEffxFQ"
      },
      "source": [
        "eg.5"
      ]
    },
    {
      "cell_type": "code",
      "metadata": {
        "id": "XhEVcsJRfyhB"
      },
      "source": [
        "def normal_pdf(x, mu = 2, sigma = 1):\n",
        "    return (1./np.sqrt(2*3.14 * sigma**2)) * 2.718**(-(x-mu)**2 / (2. * sigma**2))"
      ],
      "execution_count": null,
      "outputs": []
    },
    {
      "cell_type": "code",
      "metadata": {
        "colab": {
          "base_uri": "https://localhost:8080/",
          "height": 282
        },
        "id": "blzilz2MgBn3",
        "outputId": "3a373d96-13aa-401a-eb51-c0a2c3fd0aea"
      },
      "source": [
        "x_values = np.linspace(-30,30,200)\n",
        "y_values = [normal_pdf(x) for x in x_values]\n",
        "plt.plot(x_values, y_values)\n",
        "\n",
        "\n",
        "x_values = np.linspace(-10,10,100)\n",
        "y_values = [normal_pdf(x, sigma = 5) for x in x_values]\n",
        "plt.plot(x_values, y_values)\n",
        "\n",
        "y_values = [normal_pdf(x, mu = -5, sigma = 5) for x in x_values]\n",
        "plt.plot(x_values, y_values)"
      ],
      "execution_count": null,
      "outputs": [
        {
          "output_type": "execute_result",
          "data": {
            "text/plain": [
              "[<matplotlib.lines.Line2D at 0x7f24dda17dd0>]"
            ]
          },
          "metadata": {},
          "execution_count": 43
        },
        {
          "output_type": "display_data",
          "data": {
            "text/plain": [
              "<Figure size 432x288 with 1 Axes>"
            ],
            "image/png": "[encoded data removed]"
          },
          "metadata": {
            "needs_background": "light"
          }
        }
      ]
    },
    {
      "cell_type": "markdown",
      "metadata": {
        "id": "bxJTZuQksj2v"
      },
      "source": [
        "**5. Probability Expectation**"
      ]
    },
    {
      "cell_type": "markdown",
      "metadata": {
        "id": "jW-ez9qOFgkO"
      },
      "source": [
        "**Expectation**\n",
        "\n",
        "  The expected value of an experiment is the probability-weighted average of all possible values. It is defined mathematically as the following:\n",
        "\n",
        "  [Math Processing Error]\n",
        "\n",
        "  The law of large numbers states that the average result from a series of trails will converge to the expected value. Roll the die to see convergence to its expected value. change the theoretical probability of the die to see how that changes the average and expected value."
      ]
    },
    {
      "cell_type": "markdown",
      "metadata": {
        "id": "MS0XYmFGFG7T"
      },
      "source": [
        "**Expectation**\n",
        "\n",
        "If you have a collection of numbers a1,a2,...,aN, their average is a single \n",
        "number that describes the whole collection. Now, consider a random variable X. \n",
        "We would like to define its average, or as it is called in probability, its expected value or mean. \n",
        "The expected value is defined as the weighted average of the values in the range."
      ]
    },
    {
      "cell_type": "markdown",
      "metadata": {
        "id": "qw2EvdKcAlIr"
      },
      "source": [
        "Expected value (= mean=average):\n",
        "\n",
        "Definition \n",
        "\n",
        "Let X be a discrete random variable with range RX={x1,x2,x3,...} (finite or countably infinite). The expected value of X, denoted by EX is defined as\n",
        "\n",
        "EX= ∑xk P(X=xk)=∑xk PX(xk)    where xk∈RX\n",
        "\n",
        "consider a discrete random variable with range RX={x1,x2,x3,...}. This random variable is a result of random experiment. Suppose that we repeat this experiment a very large number of times N, and that the trials are independent. Let N1 be the number of times we observe x1, N2 be the number of times we observe x2, ...., Nk be the number of times we observe xk, and so on. Since P(X=xk)=PX(xk), we expect that\n",
        "\n",
        "PX(x1)≈N1/N,\n",
        "\n",
        "PX(x2)≈N2/N,\n",
        "\n",
        "...\n",
        "\n",
        "PX(xk)≈Nk/N,\n",
        "\n",
        "...\n",
        "\n",
        "In other words, we have Nk≈N PX(xk). Now, if we take the average of the observed values of X, we obtain\n",
        "\n",
        "Average \t= N1x1+N2x2+N3x3+.../N\n",
        "\n",
        "          ≈ x1NPX(x1)+x2NPX(x2)+x3NPX(x3)+.../N\n",
        "          = x1 PX(x1)+x2 PX(x2)+x3 PX(x3)+...\n",
        "          = EX.\n",
        "\n",
        "Thus, the intuition behind EX is that if you repeat the random experiment independently N times and take the average of the observed data, the average gets closer and closer to EX as N gets larger and larger. We sometimes denote EX by μX.\n",
        "\n",
        "  Different notations for expected value of X: EX=E[X]=E(X)=μX.\n",
        "                  "
      ]
    },
    {
      "cell_type": "markdown",
      "metadata": {
        "id": "9OpzvB-9JYdL"
      },
      "source": [
        "**Example 1**\n",
        "\n",
        "Expectation or expected value of any group of numbers in probability is the long-run average value of repetitions of the experiment it represents. For example, the expected value in rolling a six-sided die is 3.5, because the average of all the numbers that come up in an extremely large number of rolls is close to 3.5. Less roughly, the law of large numbers states that the arithmetic mean of the values almost surely converges to the expected value as the number of repetitions approaches infinity. The expected value is also known as the expectation, mathematical expectation, EV, or first moment.\n",
        "Given an array, the task is to calculate the expected value of the array."
      ]
    },
    {
      "cell_type": "code",
      "metadata": {
        "id": "iMsorL0l_4KU",
        "colab": {
          "base_uri": "https://localhost:8080/"
        },
        "outputId": "f19abf77-3a32-4eac-e3fc-8e2251751bcb"
      },
      "source": [
        "# Example 1 : Find the Expected value of Rolling a dice \n",
        "\n",
        "# Function to calculate expectation \n",
        "def calc_Expectation(a, n): \n",
        "\t\n",
        "\t# variable prb is for probability \n",
        "\t# of each element which is same for \n",
        "\t# each element \n",
        "\tprb = 1 / n \n",
        "\t\n",
        "\t# calculating expectation overall \n",
        "\tsum = 0\n",
        "\tfor i in range(0, n): \n",
        "\t\tsum += (a[i] * prb) \n",
        "\t\t\n",
        "\t# returning expectation as sum \n",
        "\treturn float(sum) \n",
        "\n",
        "\n",
        "# Driver program \n",
        "n = 6; \n",
        "a = [ 1.0, 2.0, 3.0,4.0, 5.0, 6.0 ] \n",
        "\n",
        "# Function for calculating expectation or expected value\n",
        "expected_value = calc_Expectation(a, n) \n",
        "\n",
        "# Display expectation of given array \n",
        "print( \"Expectation of array E(X) is : \", expected_value ) "
      ],
      "execution_count": null,
      "outputs": [
        {
          "output_type": "stream",
          "name": "stdout",
          "text": [
            "Expectation of array E(X) is :  3.5\n"
          ]
        }
      ]
    },
    {
      "cell_type": "markdown",
      "metadata": {
        "id": "SicrV6XYyOCK"
      },
      "source": [
        "**Method 2**\n",
        "\n",
        "**Finding Expected Value**"
      ]
    },
    {
      "cell_type": "code",
      "metadata": {
        "colab": {
          "base_uri": "https://localhost:8080/"
        },
        "id": "goKRA2K4yHAl",
        "outputId": "21aed8a2-a721-4d77-f7f9-97d1c8f0cc5e"
      },
      "source": [
        "import random\n",
        "def DiceRoll():\n",
        "  return random.randint(1,6)  # here we are selecting the integer value from range. \n",
        "\n",
        "trials=[]\n",
        "noOfTrials=100\n",
        "for t in range(noOfTrials):\n",
        "  trials.append(DiceRoll())\n",
        "\n",
        "avgs = sum(trials)/float(noOfTrials)\n",
        "avgs"
      ],
      "execution_count": null,
      "outputs": [
        {
          "output_type": "execute_result",
          "data": {
            "text/plain": [
              "3.51"
            ]
          },
          "metadata": {},
          "execution_count": 45
        }
      ]
    },
    {
      "cell_type": "code",
      "metadata": {
        "id": "K5rV8Fqv1Xkq",
        "colab": {
          "base_uri": "https://localhost:8080/"
        },
        "outputId": "024c0950-d5e6-48b5-9785-d6dcf1a2cd89"
      },
      "source": [
        "nTrials=range(100,10000,10) # here we are repeating the experiment for large number of times\n",
        "avgs=[]\n",
        "for nt in nTrials:\n",
        "  trials=[]\n",
        "  for t in range(1,nt):\n",
        "    trials.append(DiceRoll())\n",
        "  avgs.append(sum(trials)/float(nt))\n",
        "avgs\n"
      ],
      "execution_count": null,
      "outputs": [
        {
          "output_type": "execute_result",
          "data": {
            "text/plain": [
              "[3.39,\n",
              " 3.8363636363636364,\n",
              " 3.533333333333333,\n",
              " 3.4846153846153847,\n",
              " 3.592857142857143,\n",
              " 3.44,\n",
              " 3.425,\n",
              " 3.411764705882353,\n",
              " 3.3555555555555556,\n",
              " 3.4947368421052634,\n",
              " 3.545,\n",
              " 3.447619047619048,\n",
              " 3.609090909090909,\n",
              " 3.373913043478261,\n",
              " 3.4916666666666667,\n",
              " 3.468,\n",
              " 3.526923076923077,\n",
              " 3.3518518518518516,\n",
              " 3.3964285714285714,\n",
              " 3.486206896551724,\n",
              " 3.41,\n",
              " 3.3161290322580643,\n",
              " 3.634375,\n",
              " 3.484848484848485,\n",
              " 3.3970588235294117,\n",
              " 3.5428571428571427,\n",
              " 3.65,\n",
              " 3.4594594594594597,\n",
              " 3.542105263157895,\n",
              " 3.617948717948718,\n",
              " 3.6525,\n",
              " 3.451219512195122,\n",
              " 3.5642857142857145,\n",
              " 3.5930232558139537,\n",
              " 3.5022727272727274,\n",
              " 3.3644444444444446,\n",
              " 3.4869565217391303,\n",
              " 3.393617021276596,\n",
              " 3.40625,\n",
              " 3.4918367346938775,\n",
              " 3.424,\n",
              " 3.6333333333333333,\n",
              " 3.503846153846154,\n",
              " 3.390566037735849,\n",
              " 3.411111111111111,\n",
              " 3.4672727272727273,\n",
              " 3.507142857142857,\n",
              " 3.612280701754386,\n",
              " 3.4155172413793102,\n",
              " 3.4203389830508475,\n",
              " 3.375,\n",
              " 3.4491803278688526,\n",
              " 3.359677419354839,\n",
              " 3.580952380952381,\n",
              " 3.4203125,\n",
              " 3.436923076923077,\n",
              " 3.477272727272727,\n",
              " 3.37910447761194,\n",
              " 3.5647058823529414,\n",
              " 3.5,\n",
              " 3.48,\n",
              " 3.543661971830986,\n",
              " 3.376388888888889,\n",
              " 3.4767123287671233,\n",
              " 3.5337837837837838,\n",
              " 3.5573333333333332,\n",
              " 3.455263157894737,\n",
              " 3.505194805194805,\n",
              " 3.4384615384615387,\n",
              " 3.570886075949367,\n",
              " 3.53,\n",
              " 3.4975308641975307,\n",
              " 3.4109756097560977,\n",
              " 3.5783132530120483,\n",
              " 3.538095238095238,\n",
              " 3.456470588235294,\n",
              " 3.5325581395348835,\n",
              " 3.5206896551724136,\n",
              " 3.5295454545454548,\n",
              " 3.479775280898876,\n",
              " 3.5155555555555558,\n",
              " 3.5076923076923077,\n",
              " 3.5456521739130435,\n",
              " 3.453763440860215,\n",
              " 3.470212765957447,\n",
              " 3.5305263157894737,\n",
              " 3.3916666666666666,\n",
              " 3.463917525773196,\n",
              " 3.533673469387755,\n",
              " 3.493939393939394,\n",
              " 3.521,\n",
              " 3.586138613861386,\n",
              " 3.5176470588235293,\n",
              " 3.458252427184466,\n",
              " 3.589423076923077,\n",
              " 3.486666666666667,\n",
              " 3.4952830188679247,\n",
              " 3.522429906542056,\n",
              " 3.5435185185185185,\n",
              " 3.593577981651376,\n",
              " 3.4154545454545455,\n",
              " 3.5702702702702704,\n",
              " 3.523214285714286,\n",
              " 3.4415929203539823,\n",
              " 3.5429824561403507,\n",
              " 3.4930434782608697,\n",
              " 3.428448275862069,\n",
              " 3.523931623931624,\n",
              " 3.48135593220339,\n",
              " 3.4983193277310924,\n",
              " 3.5125,\n",
              " 3.4834710743801653,\n",
              " 3.4811475409836063,\n",
              " 3.46260162601626,\n",
              " 3.5403225806451615,\n",
              " 3.4224,\n",
              " 3.5023809523809524,\n",
              " 3.483464566929134,\n",
              " 3.4515625,\n",
              " 3.433333333333333,\n",
              " 3.5492307692307694,\n",
              " 3.533587786259542,\n",
              " 3.4757575757575756,\n",
              " 3.4789473684210526,\n",
              " 3.4365671641791047,\n",
              " 3.52,\n",
              " 3.475735294117647,\n",
              " 3.5145985401459856,\n",
              " 3.601449275362319,\n",
              " 3.5546762589928056,\n",
              " 3.505,\n",
              " 3.523404255319149,\n",
              " 3.6147887323943664,\n",
              " 3.451748251748252,\n",
              " 3.5243055555555554,\n",
              " 3.486896551724138,\n",
              " 3.5,\n",
              " 3.5564625850340135,\n",
              " 3.4993243243243244,\n",
              " 3.497315436241611,\n",
              " 3.5606666666666666,\n",
              " 3.5251655629139074,\n",
              " 3.5657894736842106,\n",
              " 3.526797385620915,\n",
              " 3.477922077922078,\n",
              " 3.4664516129032257,\n",
              " 3.4224358974358973,\n",
              " 3.5280254777070064,\n",
              " 3.5132911392405064,\n",
              " 3.5075471698113208,\n",
              " 3.5775,\n",
              " 3.512422360248447,\n",
              " 3.5901234567901232,\n",
              " 3.457055214723926,\n",
              " 3.4567073170731706,\n",
              " 3.5024242424242424,\n",
              " 3.524698795180723,\n",
              " 3.532934131736527,\n",
              " 3.511904761904762,\n",
              " 3.5053254437869823,\n",
              " 3.496470588235294,\n",
              " 3.495906432748538,\n",
              " 3.516279069767442,\n",
              " 3.4734104046242775,\n",
              " 3.5557471264367817,\n",
              " 3.4988571428571427,\n",
              " 3.4232954545454546,\n",
              " 3.4604519774011298,\n",
              " 3.506179775280899,\n",
              " 3.464804469273743,\n",
              " 3.5216666666666665,\n",
              " 3.453038674033149,\n",
              " 3.473076923076923,\n",
              " 3.569945355191257,\n",
              " 3.492391304347826,\n",
              " 3.3967567567567567,\n",
              " 3.4951612903225806,\n",
              " 3.521390374331551,\n",
              " 3.4819148936170214,\n",
              " 3.5,\n",
              " 3.4742105263157894,\n",
              " 3.451832460732984,\n",
              " 3.5536458333333334,\n",
              " 3.5295336787564766,\n",
              " 3.547422680412371,\n",
              " 3.4574358974358974,\n",
              " 3.5081632653061225,\n",
              " 3.5213197969543146,\n",
              " 3.5318181818181817,\n",
              " 3.4914572864321607,\n",
              " 3.499,\n",
              " 3.4572139303482587,\n",
              " 3.550990099009901,\n",
              " 3.5428571428571427,\n",
              " 3.5377450980392156,\n",
              " 3.479512195121951,\n",
              " 3.4970873786407766,\n",
              " 3.490821256038647,\n",
              " 3.4442307692307694,\n",
              " 3.5157894736842104,\n",
              " 3.5276190476190474,\n",
              " 3.509004739336493,\n",
              " 3.529245283018868,\n",
              " 3.5061032863849766,\n",
              " 3.4738317757009347,\n",
              " 3.4711627906976745,\n",
              " 3.428240740740741,\n",
              " 3.455299539170507,\n",
              " 3.427064220183486,\n",
              " 3.4844748858447487,\n",
              " 3.586818181818182,\n",
              " 3.4529411764705884,\n",
              " 3.5198198198198196,\n",
              " 3.511659192825112,\n",
              " 3.5879464285714286,\n",
              " 3.536,\n",
              " 3.45929203539823,\n",
              " 3.5004405286343614,\n",
              " 3.457894736842105,\n",
              " 3.530131004366812,\n",
              " 3.5208695652173914,\n",
              " 3.521212121212121,\n",
              " 3.5060344827586207,\n",
              " 3.478969957081545,\n",
              " 3.4623931623931625,\n",
              " 3.492340425531915,\n",
              " 3.5466101694915255,\n",
              " 3.4805907172995783,\n",
              " 3.4634453781512606,\n",
              " 3.500418410041841,\n",
              " 3.4470833333333335,\n",
              " 3.483817427385892,\n",
              " 3.506198347107438,\n",
              " 3.462962962962963,\n",
              " 3.5741803278688526,\n",
              " 3.5126530612244897,\n",
              " 3.521951219512195,\n",
              " 3.4753036437246965,\n",
              " 3.47741935483871,\n",
              " 3.521686746987952,\n",
              " 3.4684,\n",
              " 3.4804780876494026,\n",
              " 3.4392857142857145,\n",
              " 3.489723320158103,\n",
              " 3.473228346456693,\n",
              " 3.576078431372549,\n",
              " 3.4953125,\n",
              " 3.5357976653696497,\n",
              " 3.51046511627907,\n",
              " 3.4945945945945946,\n",
              " 3.4973076923076922,\n",
              " 3.5172413793103448,\n",
              " 3.4755725190839692,\n",
              " 3.4608365019011407,\n",
              " 3.537878787878788,\n",
              " 3.492830188679245,\n",
              " 3.4037593984962404,\n",
              " 3.5164794007490636,\n",
              " 3.464179104477612,\n",
              " 3.536802973977695,\n",
              " 3.5588888888888888,\n",
              " 3.4767527675276755,\n",
              " 3.5113970588235293,\n",
              " 3.545054945054945,\n",
              " 3.4704379562043797,\n",
              " 3.5745454545454547,\n",
              " 3.5195652173913046,\n",
              " 3.4696750902527076,\n",
              " 3.468705035971223,\n",
              " 3.532616487455197,\n",
              " 3.5403571428571428,\n",
              " 3.482918149466192,\n",
              " 3.4652482269503544,\n",
              " 3.4717314487632507,\n",
              " 3.3883802816901407,\n",
              " 3.5073684210526315,\n",
              " 3.5104895104895104,\n",
              " 3.516376306620209,\n",
              " 3.4760416666666667,\n",
              " 3.536332179930796,\n",
              " 3.4748275862068967,\n",
              " 3.4900343642611684,\n",
              " 3.492808219178082,\n",
              " 3.4569965870307167,\n",
              " 3.5098639455782314,\n",
              " 3.4949152542372883,\n",
              " 3.499662162162162,\n",
              " 3.5410774410774413,\n",
              " 3.471476510067114,\n",
              " 3.4762541806020066,\n",
              " 3.5376666666666665,\n",
              " 3.482392026578073,\n",
              " 3.493377483443709,\n",
              " 3.4914191419141916,\n",
              " 3.492763157894737,\n",
              " 3.53672131147541,\n",
              " 3.4823529411764707,\n",
              " 3.526058631921824,\n",
              " 3.5055194805194807,\n",
              " 3.4996763754045306,\n",
              " 3.5493548387096774,\n",
              " 3.4710610932475885,\n",
              " 3.4701923076923076,\n",
              " 3.4654952076677317,\n",
              " 3.471656050955414,\n",
              " 3.5526984126984127,\n",
              " 3.4860759493670885,\n",
              " 3.497476340694006,\n",
              " 3.4974842767295597,\n",
              " 3.503448275862069,\n",
              " 3.52875,\n",
              " 3.504361370716511,\n",
              " 3.555590062111801,\n",
              " 3.4941176470588236,\n",
              " 3.426851851851852,\n",
              " 3.484,\n",
              " 3.496932515337423,\n",
              " 3.5174311926605504,\n",
              " 3.4875,\n",
              " 3.470820668693009,\n",
              " 3.5072727272727273,\n",
              " 3.5253776435045316,\n",
              " 3.5069277108433736,\n",
              " 3.4993993993993993,\n",
              " 3.507185628742515,\n",
              " 3.5325373134328357,\n",
              " 3.4842261904761904,\n",
              " 3.5323442136498517,\n",
              " 3.467751479289941,\n",
              " 3.479646017699115,\n",
              " 3.466470588235294,\n",
              " 3.4897360703812317,\n",
              " 3.5514619883040934,\n",
              " 3.4769679300291547,\n",
              " 3.4892441860465118,\n",
              " 3.519710144927536,\n",
              " 3.48757225433526,\n",
              " 3.4979827089337174,\n",
              " 3.511206896551724,\n",
              " 3.4739255014326647,\n",
              " 3.478285714285714,\n",
              " 3.5552706552706552,\n",
              " 3.4576704545454544,\n",
              " 3.496883852691218,\n",
              " 3.503672316384181,\n",
              " 3.488169014084507,\n",
              " 3.4837078651685394,\n",
              " 3.499159663865546,\n",
              " 3.4768156424581007,\n",
              " 3.551532033426184,\n",
              " 3.558611111111111,\n",
              " 3.491135734072022,\n",
              " 3.5422651933701657,\n",
              " 3.484022038567493,\n",
              " 3.476923076923077,\n",
              " 3.4802739726027396,\n",
              " 3.5131147540983605,\n",
              " 3.5106267029972753,\n",
              " 3.5057065217391306,\n",
              " 3.484552845528455,\n",
              " 3.5145945945945947,\n",
              " 3.524258760107817,\n",
              " 3.460483870967742,\n",
              " 3.4924932975871315,\n",
              " 3.467379679144385,\n",
              " 3.5205333333333333,\n",
              " 3.5215425531914892,\n",
              " 3.481432360742706,\n",
              " 3.4923280423280425,\n",
              " 3.5266490765171503,\n",
              " 3.498684210526316,\n",
              " 3.495800524934383,\n",
              " 3.5107329842931936,\n",
              " 3.481201044386423,\n",
              " 3.527083333333333,\n",
              " 3.5176623376623377,\n",
              " 3.5215025906735753,\n",
              " 3.469767441860465,\n",
              " 3.4971649484536083,\n",
              " 3.5133676092544985,\n",
              " 3.5330769230769232,\n",
              " 3.5104859335038365,\n",
              " 3.484438775510204,\n",
              " 3.489567430025445,\n",
              " 3.4723350253807106,\n",
              " 3.519493670886076,\n",
              " 3.5055555555555555,\n",
              " 3.4846347607052897,\n",
              " 3.4849246231155777,\n",
              " 3.53734335839599,\n",
              " 3.472,\n",
              " 3.479800498753117,\n",
              " 3.488059701492537,\n",
              " 3.5121588089330027,\n",
              " 3.4665841584158414,\n",
              " 3.505432098765432,\n",
              " 3.5002463054187194,\n",
              " 3.5285012285012285,\n",
              " 3.506862745098039,\n",
              " 3.490709046454768,\n",
              " 3.476829268292683,\n",
              " 3.4739659367396594,\n",
              " 3.4774271844660194,\n",
              " 3.5619854721549635,\n",
              " 3.4768115942028985,\n",
              " 3.533253012048193,\n",
              " 3.518269230769231,\n",
              " 3.529496402877698,\n",
              " 3.4983253588516745,\n",
              " 3.4737470167064437,\n",
              " 3.4761904761904763,\n",
              " 3.4847980997624703,\n",
              " 3.49739336492891,\n",
              " 3.492434988179669,\n",
              " 3.4773584905660377,\n",
              " 3.4752941176470586,\n",
              " 3.4779342723004696,\n",
              " 3.4697892271662765,\n",
              " 3.516121495327103,\n",
              " 3.4962703962703965,\n",
              " 3.4951162790697676,\n",
              " 3.4589327146171693,\n",
              " 3.4895833333333335,\n",
              " 3.5011547344110854,\n",
              " 3.5297235023041473,\n",
              " 3.466896551724138,\n",
              " 3.497018348623853,\n",
              " 3.5439359267734556,\n",
              " 3.4844748858447487,\n",
              " 3.4676537585421414,\n",
              " 3.521590909090909,\n",
              " 3.4961451247165534,\n",
              " 3.42262443438914,\n",
              " 3.488487584650113,\n",
              " 3.4326576576576575,\n",
              " 3.4714606741573033,\n",
              " 3.5071748878923765,\n",
              " 3.498657718120805,\n",
              " 3.505580357142857,\n",
              " 3.506904231625835,\n",
              " 3.537333333333333,\n",
              " 3.4674057649667405,\n",
              " 3.4924778761061948,\n",
              " 3.4944812362030904,\n",
              " 3.5099118942731278,\n",
              " 3.5294505494505493,\n",
              " 3.4949561403508773,\n",
              " 3.497155361050328,\n",
              " 3.541048034934498,\n",
              " 3.4522875816993466,\n",
              " 3.5182608695652173,\n",
              " 3.5234273318872016,\n",
              " 3.4761904761904763,\n",
              " 3.5295896328293734,\n",
              " 3.497844827586207,\n",
              " 3.5529032258064515,\n",
              " 3.506223175965665,\n",
              " 3.518843683083512,\n",
              " 3.4963675213675214,\n",
              " 3.4857142857142858,\n",
              " 3.5153191489361704,\n",
              " 3.5016985138004246,\n",
              " 3.486440677966102,\n",
              " 3.471247357293869,\n",
              " 3.481645569620253,\n",
              " 3.5591578947368423,\n",
              " 3.4831932773109244,\n",
              " 3.5035639412997903,\n",
              " 3.484100418410042,\n",
              " 3.5012526096033403,\n",
              " 3.4791666666666665,\n",
              " 3.5016632016632014,\n",
              " 3.4979253112033195,\n",
              " 3.5217391304347827,\n",
              " 3.5018595041322316,\n",
              " 3.474020618556701,\n",
              " 3.5271604938271603,\n",
              " 3.488911704312115,\n",
              " 3.5174180327868854,\n",
              " 3.525357873210634,\n",
              " 3.5048979591836735,\n",
              " 3.5122199592668024,\n",
              " 3.4727642276422763,\n",
              " 3.4462474645030428,\n",
              " 3.5228744939271257,\n",
              " 3.45959595959596,\n",
              " 3.493951612903226,\n",
              " 3.475050301810865,\n",
              " 3.487751004016064,\n",
              " 3.5420841683366735,\n",
              " 3.5228,\n",
              " 3.4796407185628744,\n",
              " 3.5175298804780875,\n",
              " 3.5049701789264414,\n",
              " 3.470833333333333,\n",
              " 3.506138613861386,\n",
              " 3.4717391304347824,\n",
              " 3.520118343195266,\n",
              " 3.5253937007874017,\n",
              " 3.5159135559921415,\n",
              " 3.4688235294117646,\n",
              " 3.5211350293542076,\n",
              " 3.52109375,\n",
              " 3.4941520467836256,\n",
              " 3.500194552529183,\n",
              " 3.518252427184466,\n",
              " 3.469186046511628,\n",
              " 3.5187620889748548,\n",
              " 3.5555984555984557,\n",
              " 3.483622350674374,\n",
              " 3.5090384615384616,\n",
              " 3.471017274472169,\n",
              " 3.4636015325670497,\n",
              " 3.469980879541109,\n",
              " 3.4912213740458014,\n",
              " 3.516952380952381,\n",
              " 3.49106463878327,\n",
              " 3.486337760910816,\n",
              " 3.5017045454545452,\n",
              " 3.4601134215500946,\n",
              " 3.516981132075472,\n",
              " 3.4983050847457626,\n",
              " 3.5387218045112783,\n",
              " 3.50375234521576,\n",
              " 3.4745318352059926,\n",
              " 3.5125233644859812,\n",
              " 3.512873134328358,\n",
              " 3.5163873370577283,\n",
              " 3.5105947955390335,\n",
              " 3.4838589981447123,\n",
              " 3.5055555555555555,\n",
              " 3.5260628465804067,\n",
              " 3.487269372693727,\n",
              " 3.5219152854511973,\n",
              " 3.461580882352941,\n",
              " 3.46954128440367,\n",
              " 3.536263736263736,\n",
              " 3.49963436928702,\n",
              " 3.495802919708029,\n",
              " 3.451912568306011,\n",
              " 3.5281818181818183,\n",
              " 3.4894736842105263,\n",
              " 3.5210144927536233,\n",
              " 3.476130198915009,\n",
              " 3.517509025270758,\n",
              " 3.505945945945946,\n",
              " 3.512589928057554,\n",
              " 3.500359066427289,\n",
              " 3.4836917562724015,\n",
              " 3.5320214669051877,\n",
              " 3.4689285714285716,\n",
              " 3.4964349376114083,\n",
              " 3.5234875444839857,\n",
              " 3.5269982238010655,\n",
              " 3.4627659574468086,\n",
              " 3.514867256637168,\n",
              " 3.51678445229682,\n",
              " 3.4876543209876543,\n",
              " 3.519718309859155,\n",
              " 3.49701230228471,\n",
              " 3.4996491228070177,\n",
              " 3.5038528896672503,\n",
              " 3.5115384615384615,\n",
              " 3.4970331588132635,\n",
              " 3.4963414634146344,\n",
              " 3.5415652173913044,\n",
              " 3.5194444444444444,\n",
              " 3.4991334488734833,\n",
              " 3.536332179930796,\n",
              " 3.514507772020725,\n",
              " 3.511206896551724,\n",
              " 3.503958691910499,\n",
              " 3.515292096219931,\n",
              " 3.518867924528302,\n",
              " 3.467808219178082,\n",
              " 3.4524786324786323,\n",
              " 3.5274744027303755,\n",
              " 3.485008517887564,\n",
              " 3.5556122448979592,\n",
              " 3.5074702886247877,\n",
              " 3.5027118644067796,\n",
              " 3.500846023688663,\n",
              " 3.5037162162162163,\n",
              " 3.494435075885329,\n",
              " 3.53013468013468,\n",
              " 3.498487394957983,\n",
              " 3.5223154362416107,\n",
              " 3.499664991624791,\n",
              " 3.5357859531772577,\n",
              " 3.485642737896494,\n",
              " 3.5256666666666665,\n",
              " 3.5224625623960066,\n",
              " 3.51046511627907,\n",
              " 3.481592039800995,\n",
              " 3.45182119205298,\n",
              " 3.484793388429752,\n",
              " 3.471122112211221,\n",
              " 3.490444810543657,\n",
              " 3.5189144736842106,\n",
              " 3.480623973727422,\n",
              " 3.5052459016393445,\n",
              " 3.5004909983633388,\n",
              " 3.500653594771242,\n",
              " 3.5153344208809134,\n",
              " 3.4846905537459283,\n",
              " 3.4567479674796746,\n",
              " 3.462987012987013,\n",
              " 3.504538087520259,\n",
              " 3.5006472491909384,\n",
              " 3.494668820678514,\n",
              " 3.471451612903226,\n",
              " 3.5006441223832527,\n",
              " 3.503054662379421,\n",
              " 3.526645264847512,\n",
              " 3.4934294871794873,\n",
              " 3.51872,\n",
              " 3.506549520766773,\n",
              " 3.5116427432216906,\n",
              " 3.5186305732484078,\n",
              " 3.4656597774244835,\n",
              " 3.5201587301587303,\n",
              " 3.501743264659271,\n",
              " 3.506012658227848,\n",
              " 3.483886255924171,\n",
              " 3.5001577287066246,\n",
              " 3.457007874015748,\n",
              " 3.47185534591195,\n",
              " 3.4778649921507063,\n",
              " 3.536363636363636,\n",
              " 3.505164319248826,\n",
              " 3.46765625,\n",
              " 3.49594383775351,\n",
              " 3.514330218068536,\n",
              " 3.534059097978227,\n",
              " 3.516304347826087,\n",
              " 3.508527131782946,\n",
              " 3.5027863777089783,\n",
              " 3.501545595054096,\n",
              " 3.466666666666667,\n",
              " 3.516949152542373,\n",
              " 3.470307692307692,\n",
              " 3.500768049155146,\n",
              " 3.480828220858896,\n",
              " 3.5130168453292496,\n",
              " 3.471406727828746,\n",
              " 3.5163358778625953,\n",
              " 3.5214939024390244,\n",
              " 3.520091324200913,\n",
              " 3.5451367781155017,\n",
              " 3.4996965098634294,\n",
              " 3.4887878787878788,\n",
              " 3.495158850226929,\n",
              " 3.5264350453172204,\n",
              " 3.5126696832579185,\n",
              " 3.4799698795180722,\n",
              " 3.513533834586466,\n",
              " 3.5291291291291293,\n",
              " 3.4691154422788606,\n",
              " 3.4950598802395207,\n",
              " 3.5343796711509716,\n",
              " 3.4613432835820896,\n",
              " 3.468107302533532,\n",
              " 3.510267857142857,\n",
              " 3.472511144130758,\n",
              " 3.5063798219584568,\n",
              " 3.502962962962963,\n",
              " 3.5047337278106507,\n",
              " 3.477400295420975,\n",
              " 3.526991150442478,\n",
              " 3.4754050073637703,\n",
              " 3.4698529411764705,\n",
              " 3.4674008810572685,\n",
              " 3.4617302052785925,\n",
              " 3.4543191800878477,\n",
              " 3.479385964912281,\n",
              " 3.4865693430656934,\n",
              " 3.5061224489795917,\n",
              " 3.5519650655021833,\n",
              " 3.5292151162790697,\n",
              " 3.464731494920174,\n",
              " 3.5491304347826085,\n",
              " 3.5024602026049205,\n",
              " 3.4770231213872833,\n",
              " 3.506782106782107,\n",
              " 3.5014409221902016,\n",
              " 3.5258992805755396,\n",
              " 3.4935344827586206,\n",
              " 3.460832137733142,\n",
              " 3.499140401146132,\n",
              " 3.499856938483548,\n",
              " 3.4834285714285715,\n",
              " 3.5128388017118404,\n",
              " 3.5195156695156693,\n",
              " 3.4918918918918918,\n",
              " 3.464630681818182,\n",
              " 3.47290780141844,\n",
              " 3.4390934844192635,\n",
              " 3.5024045261669023,\n",
              " 3.5083333333333333,\n",
              " 3.5086036671368124,\n",
              " 3.482112676056338,\n",
              " 3.5116736990154713,\n",
              " 3.5110955056179773,\n",
              " 3.5333800841514726,\n",
              " 3.5015406162464986,\n",
              " 3.5595804195804197,\n",
              " 3.479608938547486,\n",
              " 3.5267782426778242,\n",
              " 3.511281337047354,\n",
              " 3.4735744089012517,\n",
              " 3.463888888888889,\n",
              " 3.4902912621359223,\n",
              " 3.4926592797783935,\n",
              " 3.4857538035961273,\n",
              " 3.4734806629834254,\n",
              " 3.4713103448275864,\n",
              " 3.5084022038567495,\n",
              " 3.5163686382393395,\n",
              " 3.5,\n",
              " 3.500137174211248,\n",
              " 3.489178082191781,\n",
              " 3.468809849521204,\n",
              " 3.4960382513661203,\n",
              " 3.515961800818554,\n",
              " 3.520299727520436,\n",
              " 3.5276190476190474,\n",
              " 3.4925271739130435,\n",
              " 3.4691994572591587,\n",
              " 3.482791327913279,\n",
              " 3.4866035182679296,\n",
              " 3.474864864864865,\n",
              " 3.4946018893387314,\n",
              " 3.521967654986523,\n",
              " 3.4909825033647377,\n",
              " 3.4943548387096772,\n",
              " 3.499060402684564,\n",
              " 3.4986595174262733,\n",
              " 3.504283801874163,\n",
              " 3.5030748663101603,\n",
              " 3.519225634178905,\n",
              " 3.4592,\n",
              " 3.507723035952064,\n",
              " 3.4710106382978725,\n",
              " 3.4844621513944225,\n",
              " 3.5027851458885944,\n",
              " 3.4928476821192054,\n",
              " 3.4866402116402115,\n",
              " 3.5306472919418757,\n",
              " 3.4630606860158313,\n",
              " 3.502635046113307,\n",
              " 3.5035526315789474,\n",
              " 3.5060446780551904,\n",
              " 3.5296587926509186,\n",
              " 3.4916120576671035,\n",
              " 3.4782722513089004,\n",
              " 3.4698039215686274,\n",
              " 3.523107049608355,\n",
              " 3.536897001303781,\n",
              " 3.48984375,\n",
              " 3.519765929778934,\n",
              " 3.4883116883116885,\n",
              " 3.512581063553826,\n",
              " 3.482642487046632,\n",
              " 3.500646830530401,\n",
              " 3.5093023255813955,\n",
              " 3.523225806451613,\n",
              " 3.450644329896907,\n",
              " 3.4760617760617762,\n",
              " 3.5298200514138816,\n",
              " 3.476379974326059,\n",
              " 3.4778205128205126,\n",
              " 3.506530089628681,\n",
              " 3.5497442455242965,\n",
              " 3.447765006385696,\n",
              " 3.468877551020408,\n",
              " 3.4740127388535034,\n",
              " 3.4983460559796438,\n",
              " 3.4872935196950445,\n",
              " 3.4939086294416244,\n",
              " 3.482256020278834,\n",
              " 3.502911392405063,\n",
              " 3.493046776232617,\n",
              " 3.484848484848485,\n",
              " 3.4958385876418663,\n",
              " 3.487909319899244,\n",
              " 3.4880503144654087,\n",
              " 3.5295226130653266,\n",
              " 3.4992471769134252,\n",
              " 3.488345864661654,\n",
              " 3.481101376720901,\n",
              " 3.492625,\n",
              " 3.465543071161049,\n",
              " 3.5194513715710722,\n",
              " 3.50373599003736,\n",
              " 3.50273631840796,\n",
              " 3.5024844720496895,\n",
              " 3.5017369727047147,\n",
              " 3.4744733581164806,\n",
              " 3.515470297029703,\n",
              " 3.500741656365884,\n",
              " 3.5002469135802468,\n",
              " 3.518988902589396,\n",
              " 3.5051724137931033,\n",
              " 3.4932349323493237,\n",
              " 3.494840294840295,\n",
              " 3.494233128834356,\n",
              " 3.5090686274509806,\n",
              " 3.510893512851897,\n",
              " 3.491809290953545,\n",
              " 3.5207570207570207,\n",
              " 3.497439024390244,\n",
              " 3.4809987819732036,\n",
              " 3.4579075425790755,\n",
              " 3.472782503037667,\n",
              " 3.463106796116505,\n",
              " 3.4723636363636365,\n",
              " 3.5142857142857142,\n",
              " 3.5252720677146314,\n",
              " 3.48756038647343,\n",
              " 3.5041013268998795,\n",
              " 3.5221686746987952,\n",
              " 3.5150421179302045,\n",
              " 3.5013221153846152,\n",
              " 3.5387755102040814,\n",
              " 3.4869304556354916,\n",
              " 3.5064670658682635,\n",
              " 3.5279904306220096,\n",
              " 3.4902031063321384,\n",
              " 3.477326968973747,\n",
              " 3.5184743742550655,\n",
              " 3.517857142857143,\n",
              " 3.4877526753864445,\n",
              " 3.492517814726841,\n",
              " 3.5067615658362987,\n",
              " 3.499526066350711,\n",
              " 3.505680473372781,\n",
              " 3.472931442080378,\n",
              " 3.4626918536009446,\n",
              " 3.517570754716981,\n",
              " 3.4538280329799766,\n",
              " 3.4818823529411764,\n",
              " 3.4784958871915395,\n",
              " 3.483568075117371,\n",
              " 3.476905041031653,\n",
              " 3.492271662763466,\n",
              " 3.5039766081871346,\n",
              " 3.5136682242990656,\n",
              " 3.5096849474912486,\n",
              " 3.515967365967366,\n",
              " 3.5145518044237485,\n",
              " 3.4952325581395347,\n",
              " 3.4770034843205573,\n",
              " 3.5126450116009282,\n",
              " 3.525260718424102,\n",
              " 3.51087962962963,\n",
              " 3.506936416184971,\n",
              " 3.5105080831408775,\n",
              " 3.491926182237601,\n",
              " 3.489746543778802,\n",
              " 3.486536248561565,\n",
              " 3.4767816091954025,\n",
              " 3.4996555683122845,\n",
              " 3.4997706422018346,\n",
              " 3.491408934707904,\n",
              " 3.497711670480549,\n",
              " 3.4994285714285716,\n",
              " 3.5067351598173517,\n",
              " 3.5157354618015964,\n",
              " 3.4878132118451024,\n",
              " 3.484869169510808,\n",
              " 3.4988636363636365,\n",
              " 3.4994324631101024,\n",
              " 3.507482993197279,\n",
              " 3.504416761041903,\n",
              " 3.4934389140271493,\n",
              " 3.5127683615819207,\n",
              " 3.4873589164785552,\n",
              " 3.519391206313416,\n",
              " 3.496846846846847,\n",
              " 3.4877390326209223,\n",
              " 3.445056179775281,\n",
              " 3.491470258136925,\n",
              " 3.5073991031390133,\n",
              " 3.510974244120941,\n",
              " 3.4895973154362414,\n",
              " 3.477541899441341,\n",
              " 3.5145089285714284,\n",
              " 3.4798216276477145,\n",
              " 3.4719376391982184,\n",
              " 3.535706340378198,\n",
              " 3.4724444444444442,\n",
              " 3.5075471698113208,\n",
              " 3.519179600886918,\n",
              " 3.4830564784053157,\n",
              " 3.502765486725664,\n",
              " 3.4919337016574588,\n",
              " 3.4747240618101545,\n",
              " 3.514994487320838,\n",
              " 3.51068281938326,\n",
              " 3.479097909790979,\n",
              " 3.500769230769231,\n",
              " 3.4838638858397366,\n",
              " 3.5160087719298247,\n",
              " 3.4903614457831327,\n",
              " 3.4868708971553612,\n",
              " 3.5046994535519125,\n",
              " 3.4722707423580785,\n",
              " 3.5242093784078516,\n",
              " 3.516557734204793,\n",
              " 3.4982589771490753,\n",
              " 3.501413043478261,\n",
              " 3.4870792616720956,\n",
              " 3.496095444685466,\n",
              " 3.5105092091007584,\n",
              " 3.464069264069264,\n",
              " 3.5125405405405403,\n",
              " 3.4697624190064795,\n",
              " 3.5380798274002156,\n",
              " 3.4915948275862068,\n",
              " 3.5194833153928955,\n",
              " 3.497311827956989,\n",
              " 3.5180451127819548,\n",
              " 3.506223175965665,\n",
              " 3.454448017148982,\n",
              " 3.514132762312634,\n",
              " 3.4758288770053474,\n",
              " 3.4903846153846154,\n",
              " 3.5385272145144078,\n",
              " 3.500213219616205,\n",
              " 3.478381256656017,\n",
              " 3.4885106382978726,\n",
              " 3.4924548352816154,\n",
              " 3.465605095541401,\n",
              " 3.4886532343584307,\n",
              " 3.486652542372881,\n",
              " 3.4985185185185186,\n",
              " 3.539323467230444,\n",
              " 3.48532206969377,\n",
              " 3.529535864978903,\n",
              " 3.491359325605901,\n",
              " 3.5008421052631578,\n",
              " 3.4839116719242904,\n",
              " 3.4944327731092435,\n",
              " 3.507030430220357,\n",
              " 3.499266247379455,\n",
              " 3.4821989528795814,\n",
              " 3.48744769874477,\n",
              " 3.486206896551724,\n",
              " 3.4883089770354907,\n",
              " 3.521272158498436,\n",
              " 3.4688541666666666,\n",
              " 3.470239334027055,\n",
              " 3.4896049896049894,\n",
              " 3.5168224299065423,\n",
              " 3.4606846473029047,\n",
              " 3.5155440414507773,\n",
              " 3.4926501035196686,\n",
              " 3.481695966907963,\n",
              " 3.4859504132231405,\n",
              " 3.5282765737874096,\n",
              " 3.520721649484536,\n",
              " 3.486508753861998,\n",
              " 3.50761316872428,\n",
              " 3.539465570400822,\n",
              " 3.5217659137577,\n",
              " 3.4965128205128204,\n",
              " 3.4701844262295083,\n",
              " 3.5119754350051178,\n",
              " 3.5069529652351736,\n",
              " 3.4820224719101125,\n",
              " 3.472857142857143,\n",
              " 3.4958205912334352,\n",
              " 3.519144602851324,\n",
              " 3.4961342828077315,\n",
              " 3.46890243902439,\n",
              " 3.5056852791878175,\n",
              " 3.485395537525355,\n",
              " 3.482472137791287,\n",
              " 3.520344129554656,\n",
              " 3.478665318503539,\n",
              " 3.5046464646464646,\n",
              " 3.4989909182643792,\n",
              " 3.5336693548387097,\n",
              " 3.4685800604229606,\n",
              " 3.513682092555332,\n",
              " 3.506532663316583,\n",
              " 3.4964859437751006,\n",
              " 3.491173520561685,\n",
              " 3.495390781563126,\n",
              " 3.4863863863863864]"
            ]
          },
          "metadata": {},
          "execution_count": 46
        }
      ]
    },
    {
      "cell_type": "markdown",
      "metadata": {
        "id": "2aqoYq5d2qS7"
      },
      "source": [
        "Above we are repeating the experiments large number of times Now we analyze the result using plot."
      ]
    },
    {
      "cell_type": "code",
      "metadata": {
        "colab": {
          "base_uri": "https://localhost:8080/",
          "height": 296
        },
        "id": "8KlRT-Li3NkI",
        "outputId": "31aa4eb7-0185-4241-a1ca-6b6950df50bc"
      },
      "source": [
        "import matplotlib.pyplot as plt\n",
        "plt.plot(nTrials,avgs)\n",
        "plt.xlabel('No. of Trials')\n",
        "plt.ylabel('Avgs')"
      ],
      "execution_count": null,
      "outputs": [
        {
          "output_type": "execute_result",
          "data": {
            "text/plain": [
              "Text(0, 0.5, 'Avgs')"
            ]
          },
          "metadata": {},
          "execution_count": 47
        },
        {
          "output_type": "display_data",
          "data": {
            "text/plain": [
              "<Figure size 432x288 with 1 Axes>"
            ],
            "image/png": "[encoded data removed]"
          },
          "metadata": {
            "needs_background": "light"
          }
        }
      ]
    },
    {
      "cell_type": "markdown",
      "metadata": {
        "id": "qccGjjT74SLL"
      },
      "source": [
        "Above plot represents the average dice rolls. Here we can see that when we are having 0 number of trials or trials in between o to 100 the values are more flexible there or the values are moving from 3.2 to 3.8 average values and when we are moving towards 2000, 4000 you can see the sample mean or expected value , here sample mean actually we are taking the average or actually we are calculating the sample mean , so we can see in the plot that sampling mean moving towards the expected value. So we can see for 10000 the maximum number of times the value is 3.5. So above the average value is 3.45 for when we are doing it for 100 times. And from graph we are getting the average value as 3.5. \n"
      ]
    },
    {
      "cell_type": "markdown",
      "metadata": {
        "id": "F5Sus6flE1b-"
      },
      "source": [
        "We can define that if we roll the dice for 10000 times then the Average or expected dice roll is 3.5 or approximately equal to 3.5."
      ]
    },
    {
      "cell_type": "markdown",
      "metadata": {
        "id": "iD7FrRbmE4qW"
      },
      "source": [
        "**Example 2**\n",
        "\n",
        "The game that will be used in this example is No Limit Texas Hold’em. Played with a standard 52 card deck, Texas Hold’em is the most popular of all the poker variations. Each player tries to make the best five-card hand possible by combining their two cards with the five community cards dealt throughout the hand.\n",
        "\n",
        "\n",
        "The player to the left of the dealer button starts the action and play moves clockwise around the table. The betting is typically started when the player to the left of the dealer button posts a small blind, and the next player to the left posts a big blind. Betting action takes place on multiple streets: preflop, flop, turn, and the river.\n",
        "\n",
        "\n",
        "Here are a few terms we should understand:\n",
        "\n",
        "\n",
        "**Button** - The Button is a circular disk that gets passed around the table clockwise after each hand. In a home game, the person who has the Button deals the hand dealing the first card to the player on their left. At a casino, the Button identifies who is supposed to be the dealer, but the actual dealer is provided by the casino.\n",
        "\n",
        "**The Blinds** - The Blinds are forced bets by the two players to the left of the Button. They are called “Blinds” because the two players have to bet blind, in that they have to bet before they get to see their cards.\n",
        "\n",
        "**Streets** - Each round that cards are dealt is referred to as a street.\n",
        "Pre-Flop - This is the first betting round. Each player is dealt two cards, and the blinds start the betting action. No community cards have been dealt yet.\n",
        "\n",
        "**Flop** - This is the second betting round. In this round, three community cards are dealt face up in the middle of the table, followed by a round of betting.\n",
        "\n",
        "**Turn** - In this round, only one community card is dealt, followed by the third round of betting.\n",
        "\n",
        "**The River** - The final community card is dealt, followed by the last round of betting.\n",
        "\n",
        "**Showdown** - After the River is dealt and all betting action has taken place, any remaining players Show their cards to see who has the best hand.\n",
        "\n",
        "**Check** - If it’s a player's turn to act, and no previous bets have been made during that round of betting, the player can Check which means to choose not to bet, and allow the next player to take their turn.\n",
        "\n",
        "**Bet or Raise** - Betting or Raising means to increase the size of the wager during a betting round. The first player to put money in the pot each round is making a Bet. If another player increases the size of the bet that round, they are making a Raise.\n",
        "\n",
        "**Call** - If it’s a player’s turn to act and a bet has already been made during that round, the player can match the previous bet which is known as Calling the bet.\n",
        "\n",
        "**Fold** -If it’s a player’s turn to act and a bet has already been made during that round, the player can give up and Fold their hand. This player is no longer involved in the hand and losses any money they have put in the pot."
      ]
    },
    {
      "cell_type": "markdown",
      "metadata": {
        "id": "0vXn2ujmS_tC"
      },
      "source": [
        "When playing a game such as poker, we're fairly concerned with questions such as \"how much do I gain - or lose - on average, if I repeatedly play this game?\". We can imagine that this is no different for poker, especially when we're a professional poker player!\n",
        "\n",
        "Now, if the possible outcomes of the game and their associated probabilities can be described by a random variable, then we can answer the above question by computing its expected value, which is equal to a weighted average of the outcomes where each outcome is weighted by its probability.\n",
        "\n",
        "Or, in other words, we simply multiply the Total Value times the probability of winning to get our Expected Value:\n",
        "\n",
        "ExpectedValue=TotalValue×Probability\n",
        "\n",
        "What is the expected value if there is $$100 (Total Value) in the pot, and your probability of winning the pot is 0.75?\n",
        "\n",
        "ExpectedValue = $100 * 0.75\n",
        "\n"
      ]
    },
    {
      "cell_type": "code",
      "metadata": {
        "colab": {
          "base_uri": "https://localhost:8080/"
        },
        "id": "S10Zv9naU0mD",
        "outputId": "05a62175-a672-4bb4-ef00-09e69479689c"
      },
      "source": [
        "# Initialize `pot` and `probability` variables\n",
        "pot = 100\n",
        "probability = 0.75\n",
        "\n",
        "# Determine expected value\n",
        "expected_value = pot * probability\n",
        "print(expected_value)"
      ],
      "execution_count": null,
      "outputs": [
        {
          "output_type": "stream",
          "name": "stdout",
          "text": [
            "75.0\n"
          ]
        }
      ]
    },
    {
      "cell_type": "markdown",
      "metadata": {
        "id": "jWkaJcFEVJO0"
      },
      "source": [
        "We're expected value is $$75.Expected value is an important concept in poker. Now let's see how to use expected values to our advantage.\n",
        "\n",
        "Example :\n",
        "\n",
        "Your Hand: ('A', '♢'), ('Q', '♢')\n",
        "\n",
        "Opponents Hand :  (2, '♡'), (2, '♣')\n",
        "\n",
        "Community Cards : ('J', '♣'), (9, '♢'), (4, '♢'), (2, '♠')\n",
        "\n",
        "Total Pot = $60\n",
        "\n",
        "Opponents Bet = $20\n",
        "\n",
        "\n",
        "Your opponent has decided to be helpful and show you his cards, and has a set of 2s. To win the hand on the River, you must hit any Diamond except a Jack or 2. The Jack or 2 of Diamonds would give your opponent a better hand, a full house and four of a kind respectively. You have to call $20 to stay in the hand, and if you win the hand you win $60. If your expected value is greater than $20 you should call the bet, and if not you should fold.\n",
        "\n"
      ]
    },
    {
      "cell_type": "code",
      "metadata": {
        "colab": {
          "base_uri": "https://localhost:8080/"
        },
        "id": "KPQ6oQtiu9mG",
        "outputId": "410f0144-cb22-4ed1-ab8d-cd4a2a4cbe72"
      },
      "source": [
        "# Figure out if you should call the bet:\n",
        "\n",
        "# Sample Space\n",
        "cards = 52\n",
        "hole_cards = 2\n",
        "# Your opponent provided you information... use it!\n",
        "opponents_hole_cards = 2 \n",
        "\n",
        "turn_community_cards = 4\n",
        "cards = cards - (hole_cards + opponents_hole_cards + turn_community_cards)\n",
        "\n",
        "# Outcomes\n",
        "diamonds = 13\n",
        "diamonds_drawn = 4\n",
        "\n",
        "# You can't count the two diamonds that won't help you win\n",
        "diamond_non_outs = 2 \n",
        "\n",
        "outs = diamonds - diamonds_drawn - diamond_non_outs\n",
        "\n",
        "# Determine win probability\n",
        "win_probability = outs / cards\n",
        "\n",
        "# Determine expected value\n",
        "pot = 60\n",
        "ev = pot * win_probability\n",
        "\n",
        "# Print ev and appropriate decision\n",
        "call_amount = 20\n",
        "if ev >= 20:\n",
        "    print(round(ev, 2), 'Call')\n",
        "else:\n",
        "    print(round(ev, 2), 'Fold')"
      ],
      "execution_count": null,
      "outputs": [
        {
          "output_type": "stream",
          "name": "stdout",
          "text": [
            "9.55 Fold\n"
          ]
        }
      ]
    },
    {
      "cell_type": "markdown",
      "metadata": {
        "id": "ehA6gE-evLzv"
      },
      "source": [
        "Your expected value is only $$9.55, which is less than the $20 you would need to risk to get that reward, so you must fold."
      ]
    },
    {
      "cell_type": "markdown",
      "metadata": {
        "id": "Yq_CG_iPT67D"
      },
      "source": [
        "**Example 3:**"
      ]
    },
    {
      "cell_type": "markdown",
      "metadata": {
        "id": "WCPD-y0BXyVI"
      },
      "source": [
        "There is a brand of cereal that comes with a single coupon with the purchase of each box. There are a 5 different types of coupons. The probability of getting any one of the 5 coupons with each cereal box purchase is uniform. The objective is to collect all 5 unique coupon types.\n",
        "\n",
        "Now the questions begs, what is the expected number of boxes of cereal you will need to purchase to collect all 5 unique coupons?"
      ]
    },
    {
      "cell_type": "markdown",
      "metadata": {
        "id": "PX7xVwfWY0vY"
      },
      "source": [
        "**solution:**\n",
        "\n",
        "We will first solve this problem analytically, and then simulate the problem computationally to verify our findings.\n",
        "\n",
        "Observations:\n",
        "\n",
        "1. Each cereal box purchased is independent of the last box (or boxes) purchased.\n",
        "\n",
        "2. The probability of getting any of the 5 coupon types in a given box is the same.\n",
        "\n",
        "Geometric Random Variables:\n",
        "A Geometric random variable is a discrete random variable with a one-parameter distribution as detailed below:\n",
        "\n",
        "Let's say we have an ever growing sequence of independent Bernoulli trials, each with probability of success p. A geometric random variable X is the number of Bernoulli trails X = x to get to the first success in the sequence.\n",
        "\n",
        "The probability mass function of X ~ Geometric(p) is:\n",
        "\n",
        "fx(x:p) = p(1-p)^x-1 for x € {1,2,.......,∞} and 0< p ≤ 1\n"
      ]
    },
    {
      "cell_type": "markdown",
      "metadata": {
        "id": "RzUkge3XddPk"
      },
      "source": [
        "\n",
        "Note, that we can view our coupon collecting problem as the sum of the expected value of five geometric random variables, each with different success parameters p:\n",
        "\n",
        "1st coupons Purchasing:\n",
        "\n",
        "Prior to purchasing our first box of cereal, we don't yet have any coupons. Therefore, with our first box purchased we are guaranteed to collect a unique coupon we don't yet have with probability 1.\n",
        "\n",
        "X1 ~ Geometric(p = 5/5)\n",
        "\n",
        "2nd Unique coupon, after 1st unique coupon has been collected:\n",
        "\n",
        "Having collected our 1st unique coupon,we know want a second. Note that this will also be a geometric random variable, but with different of success p. Because we have already collected one of the unique coupons, with each box purchased there is a 1/5 probability of getting that same coupon type, and a 4/5 probability of obtaining a new unique coupon we don't yet have.\n",
        "\n",
        "X2 ~ Geometric(p = 4/5)\n",
        "\n",
        "Continued Series:\n",
        "\n",
        "X3 ~ Geometric(p = 3/5)\n",
        "\n",
        "X4 ~ Geometric(p = 2/5)\n",
        "\n",
        "X5 ~ Geometric(p = 1/5)\n",
        "\n",
        "Note, that the expected value of a geometric random variable is 1/p:\n",
        "\n",
        "\n",
        "X ~ Geometric(p) , E[X] = 1/P\n",
        "\n",
        "Therefore , **Expected number of boxes purchased** \n",
        "\n",
        "=  E[X1] +  E[X2] + E[X3] +  E[X4] +  E[X5]\n",
        "\n",
        "=  E[1/(5/5)] +  E[1/(4/5)] + E[1/(3/5)] +  E[1/(2/5)] +  E[1/(1/5)]\n",
        "\n",
        "≈  11.4167\n",
        "\n",
        "**Conclusion** : Therefore, rounding up to the nearest integer, the expected number of boxes we will need to purchase to collect all 5 unique coupons is 12 boxes.\n"
      ]
    },
    {
      "cell_type": "code",
      "metadata": {
        "colab": {
          "base_uri": "https://localhost:8080/"
        },
        "id": "osfJhttIUAuD",
        "outputId": "a2c1b91a-075a-4787-dcd7-1ceb933f90cf"
      },
      "source": [
        "# Now stimulating the above example in python over 10000 iterations.\n",
        "\n",
        "import numpy as np\n",
        "import pandas as pd\n",
        "import matplotlib.pyplot as plt\n",
        "import warnings\n",
        "warnings.filterwarnings('ignore') \n",
        "## specify number of coupons, and the probability of getting a coupon\n",
        "num_coupons=5\n",
        "expected_number_of_trials = 0\n",
        "for i in range(num_coupons, 0, -1):\n",
        "    expected_number_of_trials = expected_number_of_trials + (1/(i/num_coupons))\n",
        "iterations = 10000\n",
        "df = pd.DataFrame()\n",
        "df['iteration'] = range(1,iterations+1)\n",
        "df['average_num_trials_required'] = None\n",
        "for i in range(0, iterations):\n",
        "    full_set = set(range(0,num_coupons))\n",
        "    current_set = set([])\n",
        "    total_number_of_coupons_collected = 0\n",
        "    while(current_set != full_set):\n",
        "        total_number_of_coupons_collected = total_number_of_coupons_collected+1\n",
        "        random_coupon = np.asscalar(np.random.randint(low=0, high=num_coupons, size=1))\n",
        "        update_set = list(current_set)\n",
        "        update_set.append(random_coupon)\n",
        "        current_set = set(update_set)\n",
        "        del random_coupon, update_set\n",
        "    \n",
        "    if(i+1 == 1):\n",
        "        df.loc[df['iteration']==i+1, 'average_num_trials_required'] = total_number_of_coupons_collected\n",
        "    else:\n",
        "        df.loc[df['iteration']==i+1, 'average_num_trials_required'] = float(((df.loc[df['iteration']==i, 'average_num_trials_required']*i) + total_number_of_coupons_collected)/(i+1))\n",
        "\n",
        "average_num_trials_required = df['average_num_trials_required'][i]\n",
        "\n",
        "print(\"Average or Expected number of trials Requried:\", average_num_trials_required)\n",
        "#print(\"Average or Expected number of trials Requried:\", df['average_num_trials_required'][i])"
      ],
      "execution_count": null,
      "outputs": [
        {
          "output_type": "stream",
          "name": "stdout",
          "text": [
            "Average or Expected number of trials Requried: 11.445000000000016\n"
          ]
        }
      ]
    },
    {
      "cell_type": "markdown",
      "metadata": {
        "id": "EO65msj8rZ77"
      },
      "source": [
        "**Conclusion :**\n",
        "\n",
        "As shown above, over 10,000 iterations, the sample average or expected value of the number of boxes needed to be purchased to collect all 5 unique coupons was approximately 11.4533. This result coincides with our solution above.\n",
        "\n"
      ]
    },
    {
      "cell_type": "markdown",
      "metadata": {
        "id": "_r9dj8dDr12B"
      },
      "source": [
        "**Example 4:**"
      ]
    },
    {
      "cell_type": "markdown",
      "metadata": {
        "id": "wEi2Pmgl41aO"
      },
      "source": [
        "**Binomial Distribution:**\n",
        "\n",
        "A random variable X that has a binomial distribution represents the number of successes in a sequence of n independent yes/no trials, each of which yields success with probability p.\n",
        "E(X) = np, Var(X) = np(1−p)\n",
        "E(X) is the expected value or mean of the distribution.\n",
        "\n",
        "Example of binomial distribution: What is the probability of getting 2 heads out of 10 flips of a fair coin? \n",
        "In this experiment the probability of getting a head is 0.3,  this means that on an average you can expect 3 coin flips to be heads. I define all the possible values the coin flip can take, k = np.arange(0,11), you can observe zero head, one head all the way upto ten heads. I am using stats.binom.pmf  to calculate the probability mass function for each observation. It returns a list of 11 elements, these elements represent the probability associated with each observation."
      ]
    },
    {
      "cell_type": "code",
      "metadata": {
        "colab": {
          "base_uri": "https://localhost:8080/"
        },
        "id": "UOykh0kIUAzL",
        "outputId": "7d20a67c-111a-4d61-cf07-c40d07a71100"
      },
      "source": [
        "import numpy as np\n",
        "from scipy.special import erfinv\n",
        "from scipy.stats import binom\n",
        "import statistics\n",
        "import matplotlib.pyplot as plt\n",
        "import seaborn as sns\n",
        "\n",
        "n = 10\n",
        "p = 0.3\n",
        "k = np.arange(0,21)\n",
        "binomial = binom.pmf(k, n, p)\n",
        "binomial"
      ],
      "execution_count": null,
      "outputs": [
        {
          "output_type": "execute_result",
          "data": {
            "text/plain": [
              "array([2.82475249e-02, 1.21060821e-01, 2.33474441e-01, 2.66827932e-01,\n",
              "       2.00120949e-01, 1.02919345e-01, 3.67569090e-02, 9.00169200e-03,\n",
              "       1.44670050e-03, 1.37781000e-04, 5.90490000e-06, 0.00000000e+00,\n",
              "       0.00000000e+00, 0.00000000e+00, 0.00000000e+00, 0.00000000e+00,\n",
              "       0.00000000e+00, 0.00000000e+00, 0.00000000e+00, 0.00000000e+00,\n",
              "       0.00000000e+00])"
            ]
          },
          "metadata": {},
          "execution_count": 51
        }
      ]
    },
    {
      "cell_type": "code",
      "metadata": {
        "colab": {
          "base_uri": "https://localhost:8080/",
          "height": 297
        },
        "id": "23s0YSo1UA1f",
        "outputId": "5cff20d7-0a6b-4bd2-9369-71bce777b010"
      },
      "source": [
        "import matplotlib.pyplot as plt\n",
        "plt.plot(k, binomial, 'o-')\n",
        "plt.title('Binomial: n=%i, p=%.2f' % (n,p),fontsize=15)\n",
        "plt.xlabel('Number of Successes')\n",
        "plt.ylabel('Probability of Successes', fontsize=15)\n",
        "plt.show()"
      ],
      "execution_count": null,
      "outputs": [
        {
          "output_type": "display_data",
          "data": {
            "text/plain": [
              "<Figure size 432x288 with 1 Axes>"
            ],
            "image/png": "[encoded data removed]"
          },
          "metadata": {
            "needs_background": "light"
          }
        }
      ]
    },
    {
      "cell_type": "markdown",
      "metadata": {
        "id": "GwVyQd2o9PVf"
      },
      "source": [
        "We can simulate a binomial random variable using .rvs. The parameter size specifies how many simulations we want to do. I ask Python to return 10000 binomial random variables with parameters n and p. I am printing the mean and standard deviation of these 10000 random variables. Then I am going to plot the histogram of all the random variables that I simulated."
      ]
    },
    {
      "cell_type": "code",
      "metadata": {
        "colab": {
          "base_uri": "https://localhost:8080/",
          "height": 314
        },
        "id": "8IMt_kIjUA3-",
        "outputId": "51d41923-1126-4513-f412-95231cf52ac3"
      },
      "source": [
        "binom_sim = data = binom.rvs(n=10,p=0.3,size=10000)\n",
        "print(\"Mean: %g\" % np.mean(binom_sim))\n",
        "print(\"SD: %g\" % np.std(binom_sim, ddof=1)) \n",
        "plt.hist(binom_sim, bins = 10, density=True, color = \"blue\")  # normed\n",
        "plt.xlabel('x')\n",
        "plt.ylabel('density')\n",
        "plt.show()"
      ],
      "execution_count": null,
      "outputs": [
        {
          "output_type": "stream",
          "name": "stdout",
          "text": [
            "Mean: 2.9794\n",
            "SD: 1.44194\n"
          ]
        },
        {
          "output_type": "display_data",
          "data": {
            "text/plain": [
              "<Figure size 432x288 with 1 Axes>"
            ],
            "image/png": "[encoded data removed]"
          },
          "metadata": {
            "needs_background": "light"
          }
        }
      ]
    },
    {
      "cell_type": "markdown",
      "metadata": {
        "id": "kDquTcYD_7BA"
      },
      "source": [
        "**Example 5:**"
      ]
    },
    {
      "cell_type": "markdown",
      "metadata": {
        "id": "T_7SF4k9_--T"
      },
      "source": [
        "**Poisson Distribution**\n",
        "\n",
        "A random variable X that has a Poisson distribution represents the number of events occurring in a fixed time interval with a rate parameters λ. λ tells you the rate at which the number of events occur.  The average and variance is λ.\n",
        "\n",
        "P(X=k) = (λ^k) * (e^-λ) / k!\n",
        "\n",
        "E(X) = λ, Var(X) = λ"
      ]
    },
    {
      "cell_type": "code",
      "metadata": {
        "colab": {
          "base_uri": "https://localhost:8080/"
        },
        "id": "UlVlIYRF83Ac",
        "outputId": "1a54ad91-a136-4dcb-cefa-a8be0476020c"
      },
      "source": [
        "import numpy as np\n",
        "from scipy.stats import poisson\n",
        "import statistics\n",
        "import matplotlib.pyplot as plt\n",
        "import seaborn as sns\n",
        "\n",
        "rate = 2\n",
        "n = np.arange(0,10)\n",
        "y = poisson.pmf(n, rate)\n",
        "y"
      ],
      "execution_count": null,
      "outputs": [
        {
          "output_type": "execute_result",
          "data": {
            "text/plain": [
              "array([1.35335283e-01, 2.70670566e-01, 2.70670566e-01, 1.80447044e-01,\n",
              "       9.02235222e-02, 3.60894089e-02, 1.20298030e-02, 3.43708656e-03,\n",
              "       8.59271640e-04, 1.90949253e-04])"
            ]
          },
          "metadata": {},
          "execution_count": 54
        }
      ]
    },
    {
      "cell_type": "code",
      "metadata": {
        "colab": {
          "base_uri": "https://localhost:8080/",
          "height": 296
        },
        "id": "URztmFUw83Cl",
        "outputId": "65180389-df11-4fbe-a36e-c0c3ba7548c3"
      },
      "source": [
        "plt.plot(n, y, 'o-')\n",
        "plt.title('Poisson: $\\lambda$ =%i' % rate)\n",
        "plt.xlabel('Number of accidents')\n",
        "plt.ylabel('Probability of number of accidents')\n",
        "plt.show()"
      ],
      "execution_count": null,
      "outputs": [
        {
          "output_type": "display_data",
          "data": {
            "text/plain": [
              "<Figure size 432x288 with 1 Axes>"
            ],
            "image/png": "[encoded data removed]"
          },
          "metadata": {
            "needs_background": "light"
          }
        }
      ]
    },
    {
      "cell_type": "markdown",
      "metadata": {
        "id": "ocPWv_nNEURR"
      },
      "source": [
        "We can notice that the  number of accidents peaks around the mean. On an average we can expect lambda number of events. Trying different values of lambda and n,  then see how shape of the distribution changes.\n",
        "Now I am going to simulate 1000 random variables from a Poisson distribution.\n"
      ]
    },
    {
      "cell_type": "code",
      "metadata": {
        "colab": {
          "base_uri": "https://localhost:8080/",
          "height": 330
        },
        "id": "-c3PsGTm83Eu",
        "outputId": "8bd8bd55-bb28-47e3-afa1-80d5285ecc26"
      },
      "source": [
        "data = poisson.rvs(mu=2, loc = 0, size = 1000)\n",
        "print(\"Mean: %g\" % np.mean(data))\n",
        "print(\"SD: %g\" % np.std(data, ddof=1))\n",
        "plt.figure()\n",
        "plt.hist(data, bins=9, density = True)\n",
        "plt.xlim(0,10)\n",
        "plt.xlabel('Number of accidents')\n",
        "plt.title('Stimulating Poisson Random Variables')\n",
        "plt.show()"
      ],
      "execution_count": null,
      "outputs": [
        {
          "output_type": "stream",
          "name": "stdout",
          "text": [
            "Mean: 1.967\n",
            "SD: 1.49805\n"
          ]
        },
        {
          "output_type": "display_data",
          "data": {
            "text/plain": [
              "<Figure size 432x288 with 1 Axes>"
            ],
            "image/png": "[encoded data removed]"
          },
          "metadata": {
            "needs_background": "light"
          }
        }
      ]
    },
    {
      "cell_type": "markdown",
      "metadata": {
        "id": "B1_kCiLgzV3-"
      },
      "source": [
        "**6. Probability Estimation**"
      ]
    },
    {
      "cell_type": "markdown",
      "metadata": {
        "id": "v2htSJQSjnh0"
      },
      "source": [
        "Estimation refers to the process by which one makes inferences about a population, based on information obtained from a sample. A point estimate, for example, is the single number most likely to express the value of the property. An interval estimate defines a range within which the value of the property can be expected (with a specified degree of confidence) to fall."
      ]
    },
    {
      "cell_type": "code",
      "metadata": {
        "id": "pqwpOFUPr-B4"
      },
      "source": [
        "from matplotlib import pyplot\n",
        "from numpy.random import normal\n",
        "from numpy import mean\n",
        "from numpy import std\n",
        "from scipy.stats import norm"
      ],
      "execution_count": null,
      "outputs": []
    },
    {
      "cell_type": "code",
      "metadata": {
        "id": "3N-IwXPSr-B6"
      },
      "source": [
        "sample = normal(loc=50, scale=5, size=1000)\n"
      ],
      "execution_count": null,
      "outputs": []
    },
    {
      "cell_type": "code",
      "metadata": {
        "id": "VEAg5-REr-B7",
        "outputId": "a5da37c9-08bc-4d84-82b1-57472b587dce",
        "colab": {
          "base_uri": "https://localhost:8080/"
        }
      },
      "source": [
        "sample_mean = mean(sample)\n",
        "sample_std = std(sample)\n",
        "print('Mean=%.3f, Standard Deviation=%.3f' % (sample_mean, sample_std))"
      ],
      "execution_count": null,
      "outputs": [
        {
          "output_type": "stream",
          "name": "stdout",
          "text": [
            "Mean=50.038, Standard Deviation=5.146\n"
          ]
        }
      ]
    },
    {
      "cell_type": "code",
      "metadata": {
        "id": "agKRZ1hAr-B-"
      },
      "source": [
        "dist = norm(sample_mean, sample_std)"
      ],
      "execution_count": null,
      "outputs": []
    },
    {
      "cell_type": "code",
      "metadata": {
        "id": "VzK_smu6r-CA"
      },
      "source": [
        "values = [value for value in range(30, 70)]\n",
        "probabilities = [dist.pdf(value) for value in values]"
      ],
      "execution_count": null,
      "outputs": []
    },
    {
      "cell_type": "code",
      "metadata": {
        "id": "QgVA8vK5r-CA",
        "outputId": "32aa3965-d103-43ab-97fe-d1436de6418f",
        "colab": {
          "base_uri": "https://localhost:8080/",
          "height": 282
        }
      },
      "source": [
        "pyplot.hist(sample, bins=10, density=True)\n",
        "pyplot.plot(values, probabilities)"
      ],
      "execution_count": null,
      "outputs": [
        {
          "output_type": "execute_result",
          "data": {
            "text/plain": [
              "[<matplotlib.lines.Line2D at 0x7f24dcc607d0>]"
            ]
          },
          "metadata": {},
          "execution_count": 62
        },
        {
          "output_type": "display_data",
          "data": {
            "text/plain": [
              "<Figure size 432x288 with 1 Axes>"
            ],
            "image/png": "[encoded data removed]"
          },
          "metadata": {
            "needs_background": "light"
          }
        }
      ]
    },
    {
      "cell_type": "code",
      "metadata": {
        "id": "3GyTXuzlr-CC",
        "outputId": "f6e45f72-8600-4314-bc89-69c242824618",
        "colab": {
          "base_uri": "https://localhost:8080/",
          "height": 282
        }
      },
      "source": [
        "# code of parametric probability estimation\n",
        "# Code 1\n",
        "sample = normal(loc=50, scale=5, size=1000)\n",
        "# calculate parameters\n",
        "sample_mean = mean(sample)\n",
        "sample_std = std(sample)\n",
        "print('Mean=%.3f, Standard Deviation=%.3f' % (sample_mean, sample_std))\n",
        "# define the distribution\n",
        "dist = norm(sample_mean, sample_std)\n",
        "# sample probabilities for a range of outcomes\n",
        "values = [value for value in range(30, 70)]\n",
        "probabilities = [dist.pdf(value) for value in values]\n",
        "# plot the histogram and pdf\n",
        "pyplot.hist(sample, bins=10, density=True)\n",
        "pyplot.plot(values, probabilities)\n",
        "pyplot.show()"
      ],
      "execution_count": null,
      "outputs": [
        {
          "output_type": "stream",
          "name": "stdout",
          "text": [
            "Mean=50.011, Standard Deviation=4.939\n"
          ]
        },
        {
          "output_type": "display_data",
          "data": {
            "text/plain": [
              "<Figure size 432x288 with 1 Axes>"
            ],
            "image/png": "[encoded data removed]"
          },
          "metadata": {
            "needs_background": "light"
          }
        }
      ]
    },
    {
      "cell_type": "markdown",
      "metadata": {
        "id": "SpbDRZBhr-CE"
      },
      "source": [
        "Running the code first generates the data sample, then estimates the parameters of the normal probability distribution.\n",
        "\n",
        "Note that your results will differ given the random nature of the data sample. Try running the example a few times.\n",
        "\n",
        "In this case, we can see that the mean and standard deviation have some noise and are slightly different from the expected values of 50 and 5 respectively. The noise is minor and the distribution is expected to still be a good fit."
      ]
    },
    {
      "cell_type": "code",
      "metadata": {
        "id": "HEBuWj-lr-CF"
      },
      "source": [
        "sample = normal(loc=100, scale=10, size=1000)\n"
      ],
      "execution_count": null,
      "outputs": []
    },
    {
      "cell_type": "code",
      "metadata": {
        "id": "fVZegzhOr-CG",
        "outputId": "a5fada68-e20b-46d2-c6d2-14f6f6c6ce39",
        "colab": {
          "base_uri": "https://localhost:8080/"
        }
      },
      "source": [
        "sample_mean = mean(sample)\n",
        "sample_std = std(sample)\n",
        "print('Mean=%.3f, Standard Deviation=%.3f' % (sample_mean, sample_std))"
      ],
      "execution_count": null,
      "outputs": [
        {
          "output_type": "stream",
          "name": "stdout",
          "text": [
            "Mean=100.509, Standard Deviation=9.912\n"
          ]
        }
      ]
    },
    {
      "cell_type": "code",
      "metadata": {
        "id": "_vZdsiayr-CI"
      },
      "source": [
        "dist = norm(sample_mean, sample_std)"
      ],
      "execution_count": null,
      "outputs": []
    },
    {
      "cell_type": "code",
      "metadata": {
        "id": "FRvOOY5Tr-CI"
      },
      "source": [
        "values = [value for value in range(30, 200)]\n",
        "probabilities = [dist.pdf(value) for value in values]"
      ],
      "execution_count": null,
      "outputs": []
    },
    {
      "cell_type": "code",
      "metadata": {
        "id": "e4hm6O9Hr-CJ",
        "outputId": "0b05a413-4210-4c66-bad6-b458c65f1643",
        "colab": {
          "base_uri": "https://localhost:8080/",
          "height": 282
        }
      },
      "source": [
        "pyplot.hist(sample, bins=10, density=True)\n",
        "pyplot.plot(values, probabilities)"
      ],
      "execution_count": null,
      "outputs": [
        {
          "output_type": "execute_result",
          "data": {
            "text/plain": [
              "[<matplotlib.lines.Line2D at 0x7f24dcb0b810>]"
            ]
          },
          "metadata": {},
          "execution_count": 68
        },
        {
          "output_type": "display_data",
          "data": {
            "text/plain": [
              "<Figure size 432x288 with 1 Axes>"
            ],
            "image/png": "[encoded data removed]"
          },
          "metadata": {
            "needs_background": "light"
          }
        }
      ]
    },
    {
      "cell_type": "code",
      "metadata": {
        "scrolled": true,
        "id": "NKW7H0nTr-CK",
        "outputId": "e71dfae4-d75f-4018-9cda-17097182072b",
        "colab": {
          "base_uri": "https://localhost:8080/",
          "height": 282
        }
      },
      "source": [
        "# code of parametric probability estimation\n",
        "# Code 2\n",
        "sample = normal(loc=100, scale=10, size=1000)\n",
        "# calculate parameters\n",
        "sample_mean = mean(sample)\n",
        "sample_std = std(sample)\n",
        "print('Mean=%.3f, Standard Deviation=%.3f' % (sample_mean, sample_std))\n",
        "# define the distribution\n",
        "dist = norm(sample_mean, sample_std)\n",
        "# sample probabilities for a range of outcomes\n",
        "values = [value for value in range(30, 200)]\n",
        "probabilities = [dist.pdf(value) for value in values]\n",
        "# plot the histogram and pdf\n",
        "pyplot.hist(sample, bins=10, density=True)\n",
        "pyplot.plot(values, probabilities)\n",
        "pyplot.show()"
      ],
      "execution_count": null,
      "outputs": [
        {
          "output_type": "stream",
          "name": "stdout",
          "text": [
            "Mean=100.049, Standard Deviation=9.812\n"
          ]
        },
        {
          "output_type": "display_data",
          "data": {
            "text/plain": [
              "<Figure size 432x288 with 1 Axes>"
            ],
            "image/png": "[encoded data removed]"
          },
          "metadata": {
            "needs_background": "light"
          }
        }
      ]
    },
    {
      "cell_type": "markdown",
      "metadata": {
        "id": "qBMCPZh_r-CM"
      },
      "source": [
        "Running the code first generates the data sample, then estimates the parameters of the normal probability distribution.\n",
        "\n",
        "Note that your results will differ given the random nature of the data sample. Try running the example a few times.\n",
        "\n",
        "In this case, we can see that the mean and standard deviation have some noise and are slightly different from the expected values of 100 and 10 respectively. The noise is minor and the distribution is expected to still be a good fit."
      ]
    },
    {
      "cell_type": "code",
      "metadata": {
        "id": "P-gT5Jekr-CN",
        "outputId": "466ba205-c769-4e1f-fb05-40b0bd66e842",
        "colab": {
          "base_uri": "https://localhost:8080/"
        }
      },
      "source": [
        "sample = normal(loc=200, scale=50, size=1000)\n",
        "sample_mean = mean(sample)\n",
        "sample_std = std(sample)\n",
        "print('Mean=%.3f, Standard Deviation=%.3f' % (sample_mean, sample_std))\n",
        "dist = norm(sample_mean, sample_std)\n",
        "values = [value for value in range(30, 500)]\n",
        "probabilities = [dist.pdf(value) for value in values]"
      ],
      "execution_count": null,
      "outputs": [
        {
          "output_type": "stream",
          "name": "stdout",
          "text": [
            "Mean=199.799, Standard Deviation=50.094\n"
          ]
        }
      ]
    },
    {
      "cell_type": "code",
      "metadata": {
        "id": "XhE8WQe4r-CP",
        "outputId": "dc123f54-ca14-4274-9321-012a99cbcf8b",
        "colab": {
          "base_uri": "https://localhost:8080/",
          "height": 282
        }
      },
      "source": [
        "pyplot.hist(sample, bins=10, density=True)\n",
        "pyplot.plot(values, probabilities)"
      ],
      "execution_count": null,
      "outputs": [
        {
          "output_type": "execute_result",
          "data": {
            "text/plain": [
              "[<matplotlib.lines.Line2D at 0x7f24dcb3f790>]"
            ]
          },
          "metadata": {},
          "execution_count": 71
        },
        {
          "output_type": "display_data",
          "data": {
            "text/plain": [
              "<Figure size 432x288 with 1 Axes>"
            ],
            "image/png": "[encoded data removed]"
          },
          "metadata": {
            "needs_background": "light"
          }
        }
      ]
    },
    {
      "cell_type": "code",
      "metadata": {
        "id": "xmfNd8I3r-CQ",
        "outputId": "67a598ef-a08c-4928-dc54-83e70817fb12",
        "colab": {
          "base_uri": "https://localhost:8080/",
          "height": 282
        }
      },
      "source": [
        "# code of parametric probability estimation\n",
        "# Code 3\n",
        "sample = normal(loc=200, scale=50, size=1000)\n",
        "# calculate parameters\n",
        "sample_mean = mean(sample)\n",
        "sample_std = std(sample)\n",
        "print('Mean=%.3f, Standard Deviation=%.3f' % (sample_mean, sample_std))\n",
        "# define the distribution\n",
        "dist = norm(sample_mean, sample_std)\n",
        "# sample probabilities for a range of outcomes\n",
        "values = [value for value in range(30, 500)]\n",
        "probabilities = [dist.pdf(value) for value in values]\n",
        "# plot the histogram and pdf\n",
        "pyplot.hist(sample, bins=10, density=True)\n",
        "pyplot.plot(values, probabilities)\n",
        "pyplot.show()"
      ],
      "execution_count": null,
      "outputs": [
        {
          "output_type": "stream",
          "name": "stdout",
          "text": [
            "Mean=199.440, Standard Deviation=48.513\n"
          ]
        },
        {
          "output_type": "display_data",
          "data": {
            "text/plain": [
              "<Figure size 432x288 with 1 Axes>"
            ],
            "image/png": "[encoded data removed]"
          },
          "metadata": {
            "needs_background": "light"
          }
        }
      ]
    },
    {
      "cell_type": "markdown",
      "metadata": {
        "id": "-fnKj8Edr-CR"
      },
      "source": [
        "Running the code first generates the data sample, then estimates the parameters of the normal probability distribution.\n",
        "\n",
        "Note that your results will differ given the random nature of the data sample. Try running the example a few times.\n",
        "\n",
        "In this case, we can see that the mean and standard deviation have some noise and are slightly different from the expected values of 200 and 50 respectively. The noise is minor and the distribution is expected to still be a good fit."
      ]
    },
    {
      "cell_type": "code",
      "metadata": {
        "id": "ZD-He0ucr-CT",
        "outputId": "80978560-d8a6-469a-cdfa-818af103fc61",
        "colab": {
          "base_uri": "https://localhost:8080/",
          "height": 304
        }
      },
      "source": [
        "sample = normal(loc=250, scale=70, size=1000)\n",
        "sample_mean = mean(sample)\n",
        "sample_std = std(sample)\n",
        "print('Mean=%.3f, Standard Deviation=%.3f' % (sample_mean, sample_std))\n",
        "dist = norm(sample_mean, sample_std)\n",
        "values = [value for value in range(30, 600)]\n",
        "probabilities = [dist.pdf(value) for value in values]\n",
        "pyplot.hist(sample, bins=10, density=True)\n",
        "pyplot.plot(values, probabilities)"
      ],
      "execution_count": null,
      "outputs": [
        {
          "output_type": "stream",
          "name": "stdout",
          "text": [
            "Mean=252.063, Standard Deviation=69.727\n"
          ]
        },
        {
          "output_type": "execute_result",
          "data": {
            "text/plain": [
              "[<matplotlib.lines.Line2D at 0x7f24dcd7a450>]"
            ]
          },
          "metadata": {},
          "execution_count": 73
        },
        {
          "output_type": "display_data",
          "data": {
            "text/plain": [
              "<Figure size 432x288 with 1 Axes>"
            ],
            "image/png": "[encoded data removed]"
          },
          "metadata": {
            "needs_background": "light"
          }
        }
      ]
    },
    {
      "cell_type": "code",
      "metadata": {
        "id": "P0wsxfzZr-CU",
        "outputId": "6df8032d-dc2b-4c2f-cd3d-76d6b181f7e5",
        "colab": {
          "base_uri": "https://localhost:8080/",
          "height": 282
        }
      },
      "source": [
        "# code of parametric probability estimation\n",
        "# Code 4\n",
        "sample = normal(loc=250, scale=70, size=1000)\n",
        "# calculate parameters\n",
        "sample_mean = mean(sample)\n",
        "sample_std = std(sample)\n",
        "print('Mean=%.3f, Standard Deviation=%.3f' % (sample_mean, sample_std))\n",
        "# define the distribution\n",
        "dist = norm(sample_mean, sample_std)\n",
        "# sample probabilities for a range of outcomes\n",
        "values = [value for value in range(30, 600)]\n",
        "probabilities = [dist.pdf(value) for value in values]\n",
        "# plot the histogram and pdf\n",
        "pyplot.hist(sample, bins=10, density=True)\n",
        "pyplot.plot(values, probabilities)\n",
        "pyplot.show()"
      ],
      "execution_count": null,
      "outputs": [
        {
          "output_type": "stream",
          "name": "stdout",
          "text": [
            "Mean=252.212, Standard Deviation=71.361\n"
          ]
        },
        {
          "output_type": "display_data",
          "data": {
            "text/plain": [
              "<Figure size 432x288 with 1 Axes>"
            ],
            "image/png": "[encoded data removed]"
          },
          "metadata": {
            "needs_background": "light"
          }
        }
      ]
    },
    {
      "cell_type": "markdown",
      "metadata": {
        "id": "9OfCHBzpr-CW"
      },
      "source": [
        "Running the code first generates the data sample, then estimates the parameters of the normal probability distribution.\n",
        "\n",
        "Note that your results will differ given the random nature of the data sample. Try running the example a few times.\n",
        "\n",
        "In this case, we can see that the mean and standard deviation have some noise and are slightly different from the expected values of 250 and 70 respectively. The noise is minor and the distribution is expected to still be a good fit."
      ]
    },
    {
      "cell_type": "code",
      "metadata": {
        "id": "HLvBmAiAr-CX",
        "outputId": "5644aba3-aa76-40e7-9d1d-6e42d857e45f",
        "colab": {
          "base_uri": "https://localhost:8080/",
          "height": 300
        }
      },
      "source": [
        "sample = normal(loc=300, scale=90, size=1000)\n",
        "sample_mean = mean(sample)\n",
        "sample_std = std(sample)\n",
        "print('Mean=%.3f, Standard Deviation=%.3f' % (sample_mean, sample_std))\n",
        "dist = norm(sample_mean, sample_std)\n",
        "values = [value for value in range(30, 800)]\n",
        "probabilities = [dist.pdf(value) for value in values]\n",
        "pyplot.hist(sample, bins=10, density=True)\n",
        "pyplot.plot(values, probabilities)"
      ],
      "execution_count": null,
      "outputs": [
        {
          "output_type": "stream",
          "name": "stdout",
          "text": [
            "Mean=297.560, Standard Deviation=92.413\n"
          ]
        },
        {
          "output_type": "execute_result",
          "data": {
            "text/plain": [
              "[<matplotlib.lines.Line2D at 0x7f24dcbf9b90>]"
            ]
          },
          "metadata": {},
          "execution_count": 75
        },
        {
          "output_type": "display_data",
          "data": {
            "text/plain": [
              "<Figure size 432x288 with 1 Axes>"
            ],
            "image/png": "[encoded data removed]"
          },
          "metadata": {
            "needs_background": "light"
          }
        }
      ]
    },
    {
      "cell_type": "code",
      "metadata": {
        "id": "3hmP16rVr-Cb",
        "outputId": "e17d264c-3dbe-492e-b7c5-e56464dfcb7e",
        "colab": {
          "base_uri": "https://localhost:8080/",
          "height": 282
        }
      },
      "source": [
        "# code of parametric probability estimation\n",
        "# Code 5\n",
        "sample = normal(loc=300, scale=90, size=1000)\n",
        "# calculate parameters\n",
        "sample_mean = mean(sample)\n",
        "sample_std = std(sample)\n",
        "print('Mean=%.3f, Standard Deviation=%.3f' % (sample_mean, sample_std))\n",
        "# define the distribution\n",
        "dist = norm(sample_mean, sample_std)\n",
        "# sample probabilities for a range of outcomes\n",
        "values = [value for value in range(30, 800)]\n",
        "probabilities = [dist.pdf(value) for value in values]\n",
        "# plot the histogram and pdf\n",
        "pyplot.hist(sample, bins=10, density=True)\n",
        "pyplot.plot(values, probabilities)\n",
        "pyplot.show()"
      ],
      "execution_count": null,
      "outputs": [
        {
          "output_type": "stream",
          "name": "stdout",
          "text": [
            "Mean=297.928, Standard Deviation=93.770\n"
          ]
        },
        {
          "output_type": "display_data",
          "data": {
            "text/plain": [
              "<Figure size 432x288 with 1 Axes>"
            ],
            "image/png": "[encoded data removed]"
          },
          "metadata": {
            "needs_background": "light"
          }
        }
      ]
    },
    {
      "cell_type": "markdown",
      "metadata": {
        "id": "FgPNiuAGr-Cc"
      },
      "source": [
        "Running the code first generates the data sample, then estimates the parameters of the normal probability distribution.\n",
        "\n",
        "Note that your results will differ given the random nature of the data sample. Try running the example a few times.\n",
        "\n",
        "In this case, we can see that the mean and standard deviation have some noise and are slightly different from the expected values of 250 and 70 respectively. The noise is minor and the distribution is expected to still be a good fit."
      ]
    }
  ]
}