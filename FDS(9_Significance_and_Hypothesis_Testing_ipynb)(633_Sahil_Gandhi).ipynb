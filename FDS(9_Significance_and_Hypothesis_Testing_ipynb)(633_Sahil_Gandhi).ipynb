{
  "nbformat": 4,
  "nbformat_minor": 0,
  "metadata": {
    "kernelspec": {
      "display_name": "Python 3",
      "language": "python",
      "name": "python3"
    },
    "language_info": {
      "codemirror_mode": {
        "name": "ipython",
        "version": 3
      },
      "file_extension": ".py",
      "mimetype": "text/x-python",
      "name": "python",
      "nbconvert_exporter": "python",
      "pygments_lexer": "ipython3",
      "version": "3.8.3"
    },
    "colab": {
      "provenance": []
    }
  },
  "cells": [
    {
      "cell_type": "markdown",
      "metadata": {
        "id": "view-in-github"
      },
      "source": [
        "<a href=\"https://colab.research.google.com/github/Sadiksha08/FDS-Lab-Work/blob/main/FDS_LAB_Practical_9_Significance_and_Hypothesis_Testing.ipynb\" target=\"_parent\"><img src=\"https://colab.research.google.com/assets/colab-badge.svg\" alt=\"Open In Colab\"/></a>"
      ]
    },
    {
      "cell_type": "markdown",
      "metadata": {
        "id": "W-1HIQyiYbQy"
      },
      "source": [
        "# **Significance and Hypothesis Testing**"
      ]
    },
    {
      "cell_type": "code",
      "metadata": {
        "id": "fwcP4o_GYVLY"
      },
      "source": [
        "import pandas as pd\n",
        "import numpy as np\n",
        "import matplotlib.pyplot as plt\n",
        "import seaborn as sns\n",
        "import scipy.stats as stats\n",
        "from scipy.stats import ttest_1samp\n",
        "from statsmodels.stats.power import tt_ind_solve_power"
      ],
      "execution_count": null,
      "outputs": []
    },
    {
      "cell_type": "code",
      "metadata": {
        "id": "RtUH4ttRYVLj",
        "outputId": "8134ab85-7aa0-418a-b650-08507f49a859"
      },
      "source": [
        "df=pd.read_excel('C:/Users/SADIKSHA SINGH/Desktop/result.xlsx')\n",
        "df"
      ],
      "execution_count": null,
      "outputs": [
        {
          "output_type": "execute_result",
          "data": {
            "text/html": [
              "<div>\n",
              "<style scoped>\n",
              "    .dataframe tbody tr th:only-of-type {\n",
              "        vertical-align: middle;\n",
              "    }\n",
              "\n",
              "    .dataframe tbody tr th {\n",
              "        vertical-align: top;\n",
              "    }\n",
              "\n",
              "    .dataframe thead th {\n",
              "        text-align: right;\n",
              "    }\n",
              "</style>\n",
              "<table border=\"1\" class=\"dataframe\">\n",
              "  <thead>\n",
              "    <tr style=\"text-align: right;\">\n",
              "      <th></th>\n",
              "      <th>Roll no.</th>\n",
              "      <th>Name</th>\n",
              "      <th>Subj1</th>\n",
              "      <th>Subj2</th>\n",
              "      <th>subj3</th>\n",
              "      <th>total</th>\n",
              "      <th>result</th>\n",
              "    </tr>\n",
              "  </thead>\n",
              "  <tbody>\n",
              "    <tr>\n",
              "      <th>0</th>\n",
              "      <td>101</td>\n",
              "      <td>Manoj</td>\n",
              "      <td>45</td>\n",
              "      <td>45</td>\n",
              "      <td>45</td>\n",
              "      <td>135</td>\n",
              "      <td>P</td>\n",
              "    </tr>\n",
              "    <tr>\n",
              "      <th>1</th>\n",
              "      <td>102</td>\n",
              "      <td>Manish</td>\n",
              "      <td>35</td>\n",
              "      <td>45</td>\n",
              "      <td>42</td>\n",
              "      <td>122</td>\n",
              "      <td>P</td>\n",
              "    </tr>\n",
              "    <tr>\n",
              "      <th>2</th>\n",
              "      <td>103</td>\n",
              "      <td>shubham</td>\n",
              "      <td>29</td>\n",
              "      <td>26</td>\n",
              "      <td>30</td>\n",
              "      <td>85</td>\n",
              "      <td>P</td>\n",
              "    </tr>\n",
              "    <tr>\n",
              "      <th>3</th>\n",
              "      <td>104</td>\n",
              "      <td>shivam</td>\n",
              "      <td>38</td>\n",
              "      <td>35</td>\n",
              "      <td>29</td>\n",
              "      <td>102</td>\n",
              "      <td>P</td>\n",
              "    </tr>\n",
              "    <tr>\n",
              "      <th>4</th>\n",
              "      <td>105</td>\n",
              "      <td>aakash</td>\n",
              "      <td>41</td>\n",
              "      <td>40</td>\n",
              "      <td>34</td>\n",
              "      <td>115</td>\n",
              "      <td>P</td>\n",
              "    </tr>\n",
              "    <tr>\n",
              "      <th>5</th>\n",
              "      <td>106</td>\n",
              "      <td>ritwik</td>\n",
              "      <td>46</td>\n",
              "      <td>62</td>\n",
              "      <td>41</td>\n",
              "      <td>149</td>\n",
              "      <td>P</td>\n",
              "    </tr>\n",
              "    <tr>\n",
              "      <th>6</th>\n",
              "      <td>107</td>\n",
              "      <td>saurabh</td>\n",
              "      <td>29</td>\n",
              "      <td>48</td>\n",
              "      <td>27</td>\n",
              "      <td>104</td>\n",
              "      <td>P</td>\n",
              "    </tr>\n",
              "    <tr>\n",
              "      <th>7</th>\n",
              "      <td>108</td>\n",
              "      <td>nilesh</td>\n",
              "      <td>43</td>\n",
              "      <td>33</td>\n",
              "      <td>33</td>\n",
              "      <td>109</td>\n",
              "      <td>P</td>\n",
              "    </tr>\n",
              "    <tr>\n",
              "      <th>8</th>\n",
              "      <td>109</td>\n",
              "      <td>prakash</td>\n",
              "      <td>37</td>\n",
              "      <td>30</td>\n",
              "      <td>38</td>\n",
              "      <td>105</td>\n",
              "      <td>P</td>\n",
              "    </tr>\n",
              "    <tr>\n",
              "      <th>9</th>\n",
              "      <td>110</td>\n",
              "      <td>vikrant</td>\n",
              "      <td>33</td>\n",
              "      <td>31</td>\n",
              "      <td>41</td>\n",
              "      <td>105</td>\n",
              "      <td>P</td>\n",
              "    </tr>\n",
              "  </tbody>\n",
              "</table>\n",
              "</div>"
            ],
            "text/plain": [
              "   Roll no.     Name  Subj1  Subj2  subj3  total result\n",
              "0       101   Manoj      45     45     45    135      P\n",
              "1       102   Manish     35     45     42    122      P\n",
              "2       103  shubham     29     26     30     85      P\n",
              "3       104   shivam     38     35     29    102      P\n",
              "4       105   aakash     41     40     34    115      P\n",
              "5       106   ritwik     46     62     41    149      P\n",
              "6       107  saurabh     29     48     27    104      P\n",
              "7       108   nilesh     43     33     33    109      P\n",
              "8       109  prakash     37     30     38    105      P\n",
              "9       110  vikrant     33     31     41    105      P"
            ]
          },
          "metadata": {
            "tags": []
          },
          "execution_count": 48
        }
      ]
    },
    {
      "cell_type": "code",
      "metadata": {
        "id": "ldAe7HWGYVLm",
        "outputId": "2db7bca1-035b-4912-e48f-f1164fb7f119"
      },
      "source": [
        "df.describe()"
      ],
      "execution_count": null,
      "outputs": [
        {
          "output_type": "execute_result",
          "data": {
            "text/html": [
              "<div>\n",
              "<style scoped>\n",
              "    .dataframe tbody tr th:only-of-type {\n",
              "        vertical-align: middle;\n",
              "    }\n",
              "\n",
              "    .dataframe tbody tr th {\n",
              "        vertical-align: top;\n",
              "    }\n",
              "\n",
              "    .dataframe thead th {\n",
              "        text-align: right;\n",
              "    }\n",
              "</style>\n",
              "<table border=\"1\" class=\"dataframe\">\n",
              "  <thead>\n",
              "    <tr style=\"text-align: right;\">\n",
              "      <th></th>\n",
              "      <th>Roll no.</th>\n",
              "      <th>Subj1</th>\n",
              "      <th>Subj2</th>\n",
              "      <th>subj3</th>\n",
              "      <th>total</th>\n",
              "    </tr>\n",
              "  </thead>\n",
              "  <tbody>\n",
              "    <tr>\n",
              "      <th>count</th>\n",
              "      <td>10.00000</td>\n",
              "      <td>10.000000</td>\n",
              "      <td>10.000000</td>\n",
              "      <td>10.000000</td>\n",
              "      <td>10.000000</td>\n",
              "    </tr>\n",
              "    <tr>\n",
              "      <th>mean</th>\n",
              "      <td>105.50000</td>\n",
              "      <td>37.600000</td>\n",
              "      <td>39.500000</td>\n",
              "      <td>36.000000</td>\n",
              "      <td>113.100000</td>\n",
              "    </tr>\n",
              "    <tr>\n",
              "      <th>std</th>\n",
              "      <td>3.02765</td>\n",
              "      <td>6.168018</td>\n",
              "      <td>10.783217</td>\n",
              "      <td>6.236096</td>\n",
              "      <td>18.241893</td>\n",
              "    </tr>\n",
              "    <tr>\n",
              "      <th>min</th>\n",
              "      <td>101.00000</td>\n",
              "      <td>29.000000</td>\n",
              "      <td>26.000000</td>\n",
              "      <td>27.000000</td>\n",
              "      <td>85.000000</td>\n",
              "    </tr>\n",
              "    <tr>\n",
              "      <th>25%</th>\n",
              "      <td>103.25000</td>\n",
              "      <td>33.500000</td>\n",
              "      <td>31.500000</td>\n",
              "      <td>30.750000</td>\n",
              "      <td>104.250000</td>\n",
              "    </tr>\n",
              "    <tr>\n",
              "      <th>50%</th>\n",
              "      <td>105.50000</td>\n",
              "      <td>37.500000</td>\n",
              "      <td>37.500000</td>\n",
              "      <td>36.000000</td>\n",
              "      <td>107.000000</td>\n",
              "    </tr>\n",
              "    <tr>\n",
              "      <th>75%</th>\n",
              "      <td>107.75000</td>\n",
              "      <td>42.500000</td>\n",
              "      <td>45.000000</td>\n",
              "      <td>41.000000</td>\n",
              "      <td>120.250000</td>\n",
              "    </tr>\n",
              "    <tr>\n",
              "      <th>max</th>\n",
              "      <td>110.00000</td>\n",
              "      <td>46.000000</td>\n",
              "      <td>62.000000</td>\n",
              "      <td>45.000000</td>\n",
              "      <td>149.000000</td>\n",
              "    </tr>\n",
              "  </tbody>\n",
              "</table>\n",
              "</div>"
            ],
            "text/plain": [
              "        Roll no.      Subj1      Subj2      subj3       total\n",
              "count   10.00000  10.000000  10.000000  10.000000   10.000000\n",
              "mean   105.50000  37.600000  39.500000  36.000000  113.100000\n",
              "std      3.02765   6.168018  10.783217   6.236096   18.241893\n",
              "min    101.00000  29.000000  26.000000  27.000000   85.000000\n",
              "25%    103.25000  33.500000  31.500000  30.750000  104.250000\n",
              "50%    105.50000  37.500000  37.500000  36.000000  107.000000\n",
              "75%    107.75000  42.500000  45.000000  41.000000  120.250000\n",
              "max    110.00000  46.000000  62.000000  45.000000  149.000000"
            ]
          },
          "metadata": {
            "tags": []
          },
          "execution_count": 49
        }
      ]
    },
    {
      "cell_type": "markdown",
      "metadata": {
        "id": "hOyh7I1QYVLm"
      },
      "source": [
        "# Hypothesis Testing or Significance Testing"
      ]
    },
    {
      "cell_type": "markdown",
      "metadata": {
        "id": "UPZfUa-zYVLo"
      },
      "source": [
        "Hypothesis testing is a set of formal procedures used by statisticians to either accept or reject statistical hypotheses. Statistical hypotheses are of two types:\n",
        "\n",
        "Null hypothesis, H0 - represents a hypothesis of chance basis.\n",
        "\n",
        "Alternative hypothesis, Ha - represents a hypothesis of observations which are influenced by some non-random cause."
      ]
    },
    {
      "cell_type": "markdown",
      "metadata": {
        "id": "MM-3dQroYVLp"
      },
      "source": [
        " (1) check if total  mean value of marks is not more  than 113.\n",
        "\n",
        "Null Hypothesis will be\n",
        "\n",
        "Ho : mu <= 113\n",
        "\n",
        "Alternate Hypothesis will be\n",
        "\n",
        "Ha : mu > 113"
      ]
    },
    {
      "cell_type": "code",
      "metadata": {
        "id": "k-T1t5eqYVLq",
        "outputId": "0abb28f5-985f-4198-bfa5-2749a8f89e94",
        "colab": {
          "base_uri": "https://localhost:8080/",
          "height": 238
        }
      },
      "source": [
        "Ho = \"mu <= 113\"\n",
        "# alt hyp\n",
        "Ha = \"mu > 113\"\n",
        "# alpha\n",
        "al = 0.05\n",
        "# mu - mean\n",
        "mu = 113\n",
        "# tail type\n",
        "tt = 1\n",
        "# data\n",
        "marks = df['total'].values\n",
        "print(\"Ho:\", Ho)\n",
        "print(\"Ha:\", Ha)\n",
        "print(\"al:\", al)\n",
        "print(\"mu:\", mu)\n",
        "print(marks)\n",
        "print(\"\")\n",
        "ts, pv = ttest_1samp(marks, mu)\n",
        "print(\"t-stat\",ts)\n",
        "print(\"p-vals\",pv)\n",
        "t2pv = pv\n",
        "t1pv = pv*2\n",
        "print(\"1t pv\",t1pv)\n",
        "print(\"2t pv\",t2pv)\n",
        "\n",
        "if tt == 1:\n",
        "    if t1pv < al:\n",
        "        print(\"Null Hypothesis: Rejected\")\n",
        "        print(\"Conclusion:\",Ha)\n",
        "    else:\n",
        "        print(\"Null Hypothesis: Not Rejected\")\n",
        "        print(\"Conclusion:\",Ho)\n",
        "else:\n",
        "    if t2pv < al/2:\n",
        "        print(\"Null Hypothesis: Rejected\")\n",
        "        print(\"Conclusion:\",Ha)\n",
        "    else:\n",
        "        print(\"Null Hypothesis: Not Rejected\")\n",
        "        print(\"Conclusion:\",Ho)"
      ],
      "execution_count": null,
      "outputs": [
        {
          "output_type": "error",
          "ename": "NameError",
          "evalue": "ignored",
          "traceback": [
            "\u001b[0;31m---------------------------------------------------------------------------\u001b[0m",
            "\u001b[0;31mNameError\u001b[0m                                 Traceback (most recent call last)",
            "\u001b[0;32m<ipython-input-2-f7e1c732f993>\u001b[0m in \u001b[0;36m<module>\u001b[0;34m\u001b[0m\n\u001b[1;32m      9\u001b[0m \u001b[0mtt\u001b[0m \u001b[0;34m=\u001b[0m \u001b[0;36m1\u001b[0m\u001b[0;34m\u001b[0m\u001b[0;34m\u001b[0m\u001b[0m\n\u001b[1;32m     10\u001b[0m \u001b[0;31m# data\u001b[0m\u001b[0;34m\u001b[0m\u001b[0;34m\u001b[0m\u001b[0;34m\u001b[0m\u001b[0m\n\u001b[0;32m---> 11\u001b[0;31m \u001b[0mmarks\u001b[0m \u001b[0;34m=\u001b[0m \u001b[0mdf\u001b[0m\u001b[0;34m[\u001b[0m\u001b[0;34m'total'\u001b[0m\u001b[0;34m]\u001b[0m\u001b[0;34m.\u001b[0m\u001b[0mvalues\u001b[0m\u001b[0;34m\u001b[0m\u001b[0;34m\u001b[0m\u001b[0m\n\u001b[0m\u001b[1;32m     12\u001b[0m \u001b[0mprint\u001b[0m\u001b[0;34m(\u001b[0m\u001b[0;34m\"Ho:\"\u001b[0m\u001b[0;34m,\u001b[0m \u001b[0mHo\u001b[0m\u001b[0;34m)\u001b[0m\u001b[0;34m\u001b[0m\u001b[0;34m\u001b[0m\u001b[0m\n\u001b[1;32m     13\u001b[0m \u001b[0mprint\u001b[0m\u001b[0;34m(\u001b[0m\u001b[0;34m\"Ha:\"\u001b[0m\u001b[0;34m,\u001b[0m \u001b[0mHa\u001b[0m\u001b[0;34m)\u001b[0m\u001b[0;34m\u001b[0m\u001b[0;34m\u001b[0m\u001b[0m\n",
            "\u001b[0;31mNameError\u001b[0m: name 'df' is not defined"
          ]
        }
      ]
    },
    {
      "cell_type": "code",
      "metadata": {
        "id": "JHqMiW35YVLr",
        "outputId": "08cd47cb-c7d1-4e3c-89a2-2d702bb7a8fb"
      },
      "source": [
        "# Problem: Check if the total mean age is  equal to 113\n",
        "\n",
        "#Ho:\tm = 113\n",
        "#Ha:\tm != 113\n",
        "#Tail: Two\n",
        "#Test: One Sample Mean without std\n",
        "\n",
        "# null hyp\n",
        "Ho = \"mu = 113\"\n",
        "# alt hyp\n",
        "Ha = \"mu != 113\"\n",
        "# alpha\n",
        "al = 0.05\n",
        "# mu - mean\n",
        "mu = 113\n",
        "# tail type\n",
        "tt = 2\n",
        "# data\n",
        "marks = df['total'].values\n",
        "# print\n",
        "print(\"Ho:\", Ho)\n",
        "print(\"Ha:\", Ha)\n",
        "print(\"al:\", al)\n",
        "print(\"mu:\", mu)\n",
        "print(marks)\n",
        "print(\"\")\n",
        "ts, pv = ttest_1samp(marks, mu)\n",
        "print(\"t-stat\",ts)\n",
        "print(\"p-vals\",pv)\n",
        "t2pv = pv\n",
        "t1pv = pv*2\n",
        "print(\"1t pv\",t1pv)\n",
        "print(\"2t pv\",t2pv)\n",
        "\n",
        "if tt == 1:\n",
        "    if t1pv < al:\n",
        "        print(\"Null Hypothesis: Rejected\")\n",
        "        print(\"Conclusion:\",Ha)\n",
        "    else:\n",
        "        print(\"Null Hypothesis: Not Rejected\")\n",
        "        print(\"Conclusion:\",Ho)\n",
        "else:\n",
        "    if t2pv < al/2:\n",
        "        print(\"Null Hypothesis: Rejected\")\n",
        "        print(\"Conclusion:\",Ha)\n",
        "    else:\n",
        "        print(\"Null Hypothesis: Not Rejected\")\n",
        "        print(\"Conclusion:\",Ho)\n"
      ],
      "execution_count": null,
      "outputs": [
        {
          "output_type": "stream",
          "text": [
            "Ho: mu = 113\n",
            "Ha: mu != 113\n",
            "al: 0.05\n",
            "mu: 113\n",
            "[135 122  85 102 115 149 104 109 105 105]\n",
            "\n",
            "t-stat 0.01733524930528476\n",
            "p-vals 0.9865473848679749\n",
            "1t pv 1.9730947697359498\n",
            "2t pv 0.9865473848679749\n",
            "Null Hypothesis: Not Rejected\n",
            "Conclusion: mu = 113\n"
          ],
          "name": "stdout"
        }
      ]
    },
    {
      "cell_type": "markdown",
      "metadata": {
        "id": "akdnFItSYVLs"
      },
      "source": [
        "# AB Testing"
      ]
    },
    {
      "cell_type": "markdown",
      "metadata": {
        "id": "mTM78uUAYVLt"
      },
      "source": [
        "AB testing is essentially an experiment where two or more variants of a page are shown to users at random, and statistical analysis is used to determine which variation performs better for a given conversion goal."
      ]
    },
    {
      "cell_type": "code",
      "metadata": {
        "id": "9_2EKgl9YVLt"
      },
      "source": [
        "subj1 = np.array([45,36,29,40,46,37,43,39,28,33])\n",
        "subj2 = np.array([40,20,30,35,29,43,40,39,28,31])"
      ],
      "execution_count": null,
      "outputs": []
    },
    {
      "cell_type": "code",
      "metadata": {
        "id": "1MltQUl9YVLu",
        "outputId": "749c05fb-36fe-46c0-a069-3ca86bea22a4",
        "colab": {
          "base_uri": "https://localhost:8080/",
          "height": 341
        }
      },
      "source": [
        "sns.distplot(subj1)"
      ],
      "execution_count": null,
      "outputs": [
        {
          "output_type": "stream",
          "name": "stderr",
          "text": [
            "/usr/local/lib/python3.7/dist-packages/seaborn/distributions.py:2619: FutureWarning: `distplot` is a deprecated function and will be removed in a future version. Please adapt your code to use either `displot` (a figure-level function with similar flexibility) or `histplot` (an axes-level function for histograms).\n",
            "  warnings.warn(msg, FutureWarning)\n"
          ]
        },
        {
          "output_type": "execute_result",
          "data": {
            "text/plain": [
              "<matplotlib.axes._subplots.AxesSubplot at 0x7f3756e2b150>"
            ]
          },
          "metadata": {},
          "execution_count": 4
        },
        {
          "output_type": "display_data",
          "data": {
            "text/plain": [
              "<Figure size 432x288 with 1 Axes>"
            ],
            "image/png": "[encoded data removed]"
          },
          "metadata": {
            "needs_background": "light"
          }
        }
      ]
    },
    {
      "cell_type": "code",
      "metadata": {
        "id": "n8IzIYvRYVLv",
        "outputId": "31e50f0b-d4a7-4a79-c470-9f27933f0b86",
        "colab": {
          "base_uri": "https://localhost:8080/",
          "height": 337
        }
      },
      "source": [
        "sns.distplot(subj2)"
      ],
      "execution_count": null,
      "outputs": [
        {
          "output_type": "stream",
          "name": "stderr",
          "text": [
            "/usr/local/lib/python3.7/dist-packages/seaborn/distributions.py:2619: FutureWarning: `distplot` is a deprecated function and will be removed in a future version. Please adapt your code to use either `displot` (a figure-level function with similar flexibility) or `histplot` (an axes-level function for histograms).\n",
            "  warnings.warn(msg, FutureWarning)\n"
          ]
        },
        {
          "output_type": "execute_result",
          "data": {
            "text/plain": [
              "<matplotlib.axes._subplots.AxesSubplot at 0x7f3756d2db10>"
            ]
          },
          "metadata": {},
          "execution_count": 5
        },
        {
          "output_type": "display_data",
          "data": {
            "text/plain": [
              "<Figure size 432x288 with 1 Axes>"
            ],
            "image/png": "[encoded data removed]"
          },
          "metadata": {
            "needs_background": "light"
          }
        }
      ]
    },
    {
      "cell_type": "code",
      "metadata": {
        "id": "ELr6hTQ8YVLw",
        "outputId": "1902a205-37e7-435d-a2c3-f753dd7df448",
        "colab": {
          "base_uri": "https://localhost:8080/",
          "height": 186
        }
      },
      "source": [
        "t_stat, p_val= ss.ttest_ind(subj1,subj2)\n",
        "t_stat , p_val"
      ],
      "execution_count": null,
      "outputs": [
        {
          "output_type": "error",
          "ename": "NameError",
          "evalue": "ignored",
          "traceback": [
            "\u001b[0;31m---------------------------------------------------------------------------\u001b[0m",
            "\u001b[0;31mNameError\u001b[0m                                 Traceback (most recent call last)",
            "\u001b[0;32m<ipython-input-11-9548a4878e16>\u001b[0m in \u001b[0;36m<module>\u001b[0;34m\u001b[0m\n\u001b[0;32m----> 1\u001b[0;31m \u001b[0mt_stat\u001b[0m\u001b[0;34m,\u001b[0m \u001b[0mp_val\u001b[0m\u001b[0;34m=\u001b[0m \u001b[0mss\u001b[0m\u001b[0;34m.\u001b[0m\u001b[0mttest_ind\u001b[0m\u001b[0;34m(\u001b[0m\u001b[0msubj1\u001b[0m\u001b[0;34m,\u001b[0m\u001b[0msubj2\u001b[0m\u001b[0;34m)\u001b[0m\u001b[0;34m\u001b[0m\u001b[0;34m\u001b[0m\u001b[0m\n\u001b[0m\u001b[1;32m      2\u001b[0m \u001b[0mt_stat\u001b[0m \u001b[0;34m,\u001b[0m \u001b[0mp_val\u001b[0m\u001b[0;34m\u001b[0m\u001b[0;34m\u001b[0m\u001b[0m\n",
            "\u001b[0;31mNameError\u001b[0m: name 'ss' is not defined"
          ]
        }
      ]
    },
    {
      "cell_type": "markdown",
      "metadata": {
        "id": "GuU2MpjAYVLx"
      },
      "source": [
        "The two hypotheses for this particular two sample t-test are as follows:\n",
        "\n",
        "H0: µ1 = µ2 (the two population means are equal)\n",
        "\n",
        "HA: µ1 ≠µ2 (the two population means are not equal)"
      ]
    },
    {
      "cell_type": "code",
      "metadata": {
        "id": "At5QGMVSYVLx",
        "outputId": "7f78edc6-eb71-46a2-97c4-8e626d396427",
        "colab": {
          "base_uri": "https://localhost:8080/"
        }
      },
      "source": [
        "#perform two sample t-test with equal variances\n",
        "stats.ttest_ind(subj1, subj2, equal_var=True)"
      ],
      "execution_count": null,
      "outputs": [
        {
          "output_type": "execute_result",
          "data": {
            "text/plain": [
              "Ttest_indResult(statistic=1.365908039538178, pvalue=0.18879292981719703)"
            ]
          },
          "metadata": {},
          "execution_count": 12
        }
      ]
    },
    {
      "cell_type": "markdown",
      "metadata": {
        "id": "p9gjJ1UPYVLz"
      },
      "source": [
        "The t test statistic is 1.3659 and the corresponding two-sided p-value is 0.1887.\n",
        "Because the p-value of our test (0.1887) is greater than alpha = 0.05, we fail to reject the null hypothesis of the test.\n",
        "\n",
        "We do not have sufficient evidence to say that the mean marks of sub1 and subj2 between the two  is different.\n",
        "\n"
      ]
    },
    {
      "cell_type": "markdown",
      "metadata": {
        "id": "u0D3t7JnYVLz"
      },
      "source": [
        "# Type I error Type II error\n"
      ]
    },
    {
      "cell_type": "markdown",
      "metadata": {
        "id": "zCZpcWBuYVL0"
      },
      "source": [
        "Type I and Type II errors signifies the erroneous outcomes of statistical hypothesis tests. \n",
        "Type I error represents the incorrect rejection of a valid null hypothesis \n",
        "whereas Type II error represents the incorrect retention of an invalid null hypothesis."
      ]
    },
    {
      "cell_type": "code",
      "metadata": {
        "id": "OUr2oqL9YVL0",
        "outputId": "b46a48db-dfd2-4d33-873a-06a9092057d9",
        "colab": {
          "base_uri": "https://localhost:8080/"
        }
      },
      "source": [
        "effect_size=abs((subj1.mean()-subj2.mean())/(subj1.std()-subj2.std()))\n",
        "sample_size=10\n",
        "alpha=0.05\n",
        "ratio=1.0\n",
        "\n",
        "statistical_power = tt_ind_solve_power(effect_size=effect_size, nobs1=sample_size, alpha=alpha, ratio=1.0, alternative='two-sided')\n",
        "print(statistical_power)"
      ],
      "execution_count": null,
      "outputs": [
        {
          "output_type": "stream",
          "name": "stdout",
          "text": [
            "1.0\n"
          ]
        }
      ]
    },
    {
      "cell_type": "code",
      "metadata": {
        "id": "HfWKYsfFYVL1",
        "outputId": "29761ef4-4fab-4b31-8069-0ba7e75aef07",
        "colab": {
          "base_uri": "https://localhost:8080/"
        }
      },
      "source": [
        "type_2_error=1-statistical_power\n",
        "type_2_error"
      ],
      "execution_count": null,
      "outputs": [
        {
          "output_type": "execute_result",
          "data": {
            "text/plain": [
              "0.0"
            ]
          },
          "metadata": {},
          "execution_count": 14
        }
      ]
    },
    {
      "cell_type": "markdown",
      "metadata": {
        "id": "iPuVTJMlYp61"
      },
      "source": [
        "**New Section**"
      ]
    },
    {
      "cell_type": "markdown",
      "metadata": {
        "id": "qwv3tg25dpFS"
      },
      "source": [
        "A/B testing has the ability to teach data scientists valuable lessons that both enhance understanding of audiences and underlying data sets, but also help focus on core use cases through methodical design of experiments.\n",
        "A/B testing has the ability to teach data scientists valuable lessons that both enhance understanding of audiences and underlying data sets, but also help focus on core use cases through methodical design of experiments.\n",
        "For instance, let’s say you own a company and want to increase the sales of your product. Here, either you can use random experiments, or you can apply scientific and statistical methods. A/B testing is one of the most prominent and widely used statistical tools."
      ]
    },
    {
      "cell_type": "code",
      "metadata": {
        "id": "34ROD9ZmUlCM"
      },
      "source": [
        " %matplotlib inline\n",
        " \n",
        "from pathlib import Path\n",
        "import random \n",
        "import pandas as pd\n",
        "import numpy as np\n",
        "import matplotlib.pylab as plt"
      ],
      "execution_count": 3,
      "outputs": []
    },
    {
      "cell_type": "code",
      "source": [
        "%cd ..\n",
        "from google.colab import drive\n",
        "drive.mount('/content/gdrive')"
      ],
      "metadata": {
        "colab": {
          "base_uri": "https://localhost:8080/"
        },
        "id": "7N4w4zxFddZD",
        "outputId": "21486abb-2494-4c65-a981-2c585ceb9909"
      },
      "execution_count": null,
      "outputs": [
        {
          "output_type": "stream",
          "name": "stdout",
          "text": [
            "/\n",
            "Mounted at /content/gdrive\n"
          ]
        }
      ]
    },
    {
      "cell_type": "code",
      "metadata": {
        "id": "zrRrEK74cK_F"
      },
      "source": [
        "try:\n",
        "    import common\n",
        "    DATA = common.dataDirectory()\n",
        "except ImportError:\n",
        "    DATA = Path().resolve() / 'data'"
      ],
      "execution_count": null,
      "outputs": []
    },
    {
      "cell_type": "markdown",
      "metadata": {
        "id": "OmKLQNMNevqx"
      },
      "source": [
        "here we use web_page_data.csv dataset"
      ]
    },
    {
      "cell_type": "code",
      "metadata": {
        "id": "o9qHyKpncQcP"
      },
      "source": [
        "WEB_PAGE_DATA_CSV =  '/content/gdrive/MyDrive/FDS_PRAC/datasets/FDSJOURNAL_DATASETS/web_page_data.csv'"
      ],
      "execution_count": null,
      "outputs": []
    },
    {
      "cell_type": "code",
      "metadata": {
        "id": "FLtl0sroVOPz"
      },
      "source": [
        "session_times = pd.read_csv('/content/gdrive/MyDrive/FDS_PRAC/datasets/FDSJOURNAL_DATASETS/web_page_data.csv')\n",
        "session_times.Time = 100 * session_times.Time"
      ],
      "execution_count": null,
      "outputs": []
    },
    {
      "cell_type": "code",
      "metadata": {
        "id": "OGRvMFu0VPIO",
        "colab": {
          "base_uri": "https://localhost:8080/",
          "height": 352
        },
        "outputId": "42edacc9-2e77-41d6-99ad-6aa12efe2519"
      },
      "source": [
        " ax = session_times.boxplot(by='Page', column='Time',\n",
        "                           figsize=(4, 4))\n",
        "ax.set_xlabel('')\n",
        "ax.set_ylabel('Time (in seconds)')\n",
        "plt.suptitle('')\n",
        " \n",
        "plt.tight_layout()\n",
        "plt.show()"
      ],
      "execution_count": null,
      "outputs": [
        {
          "output_type": "stream",
          "name": "stderr",
          "text": [
            "/usr/local/lib/python3.7/dist-packages/matplotlib/cbook/__init__.py:1376: VisibleDeprecationWarning: Creating an ndarray from ragged nested sequences (which is a list-or-tuple of lists-or-tuples-or ndarrays with different lengths or shapes) is deprecated. If you meant to do this, you must specify 'dtype=object' when creating the ndarray.\n",
            "  X = np.atleast_1d(X.T if isinstance(X, np.ndarray) else np.asarray(X))\n"
          ]
        },
        {
          "output_type": "display_data",
          "data": {
            "text/plain": [
              "<Figure size 288x288 with 1 Axes>"
            ],
            "image/png": "[encoded data removed]"
          },
          "metadata": {
            "needs_background": "light"
          }
        }
      ]
    },
    {
      "cell_type": "code",
      "metadata": {
        "id": "3rFdQ5wWVX6n",
        "colab": {
          "base_uri": "https://localhost:8080/"
        },
        "outputId": "a12da963-2275-4ca5-ff72-3d75e78b172d"
      },
      "source": [
        " mean_a = session_times[session_times.Page == 'Page A'].Time.mean()\n",
        "mean_b = session_times[session_times.Page == 'Page B'].Time.mean()\n",
        "print(mean_b - mean_a)"
      ],
      "execution_count": null,
      "outputs": [
        {
          "output_type": "stream",
          "name": "stdout",
          "text": [
            "35.66666666666667\n"
          ]
        }
      ]
    },
    {
      "cell_type": "code",
      "metadata": {
        "id": "e9mWzAr1Vhd9",
        "colab": {
          "base_uri": "https://localhost:8080/"
        },
        "outputId": "c3140aca-9253-478b-febe-ee2507f97442"
      },
      "source": [
        " # Permutation test example with stickiness\n",
        "def perm_fun(x, nA, nB):\n",
        "    n = nA + nB\n",
        "    idx_B = set(random.sample(range(n), nB))\n",
        "    idx_A = set(range(n)) - idx_B\n",
        "    return x.loc[idx_B].mean() - x.loc[idx_A].mean()\n",
        "    \n",
        "nA = session_times[session_times.Page == 'Page A'].shape[0]\n",
        "nB = session_times[session_times.Page == 'Page B'].shape[0]\n",
        "print(perm_fun(session_times.Time, nA, nB))"
      ],
      "execution_count": null,
      "outputs": [
        {
          "output_type": "stream",
          "name": "stdout",
          "text": [
            "-36.44761904761904\n"
          ]
        }
      ]
    },
    {
      "cell_type": "code",
      "metadata": {
        "id": "bP8zm2nGVoVI",
        "colab": {
          "base_uri": "https://localhost:8080/",
          "height": 369
        },
        "outputId": "d29976e8-c20e-437b-fbfd-6c78e366f778"
      },
      "source": [
        " random.seed(1)\n",
        "perm_diffs = [perm_fun(session_times.Time, nA, nB) for _ in range(1000)]\n",
        " \n",
        "fig, ax = plt.subplots(figsize=(5, 5))\n",
        "ax.hist(perm_diffs, bins=11, rwidth=0.9)\n",
        "ax.axvline(x = mean_b - mean_a, color='black', lw=2)\n",
        "ax.text(50, 190, 'Observed\\ndifference', bbox={'facecolor':'white'})\n",
        "ax.set_xlabel('Session time differences (in seconds)')\n",
        "ax.set_ylabel('Frequency')\n",
        " \n",
        "plt.tight_layout()\n",
        "plt.show()"
      ],
      "execution_count": null,
      "outputs": [
        {
          "output_type": "display_data",
          "data": {
            "text/plain": [
              "<Figure size 360x360 with 1 Axes>"
            ],
            "image/png": "[encoded data removed]"
          },
          "metadata": {
            "needs_background": "light"
          }
        }
      ]
    },
    {
      "cell_type": "markdown",
      "metadata": {
        "id": "3XDEH0iViWTM"
      },
      "source": [
        "2.For this project, you will be working to understand the results of an A/B test run by an e-commerce website. Your goal is to work through this notebook to help the company understand if they should implement the new page, keep the old page, or perhaps run the experiment longer to make their decision.\n",
        "\n",
        "\n"
      ]
    },
    {
      "cell_type": "code",
      "source": [
        "%cd ..\n",
        "from google.colab import drive\n",
        "drive.mount('/content/gdrive')\n"
      ],
      "metadata": {
        "colab": {
          "base_uri": "https://localhost:8080/"
        },
        "id": "D-2dJQSF5vDA",
        "outputId": "0c16d33c-914b-49dc-94ed-ae23b702a03b"
      },
      "execution_count": 4,
      "outputs": [
        {
          "output_type": "stream",
          "name": "stdout",
          "text": [
            "/\n",
            "Drive already mounted at /content/gdrive; to attempt to forcibly remount, call drive.mount(\"/content/gdrive\", force_remount=True).\n"
          ]
        }
      ]
    },
    {
      "cell_type": "code",
      "metadata": {
        "id": "AQmhQOKBgc_f"
      },
      "source": [
        "df = pd.read_csv('/content/gdrive/MyDrive/FDS_PRAC/datasets/FDSJOURNAL_DATASETS/ab_data.csv')"
      ],
      "execution_count": 5,
      "outputs": []
    },
    {
      "cell_type": "markdown",
      "metadata": {
        "id": "ImWy4lY0ntvD"
      },
      "source": [
        "For now, consider you need to make the decision just based on all the data provided. If you want to assume that the old page is better unless the new page proves to be definitely better at a Type I error rate of 5%, what should your null and alternative hypotheses be? You can state your hypothesis in terms of words or in terms of $p_{old}$ and $p_{new}$, which are the converted rates for the old and new pages.\n",
        "\n",
        "Null Hypothesis: The probability of old page better than new page is greater or equal to probability of new page.\n",
        "\n",
        "Alternative Hypothesis: The probability of new page being better than new page is less than that of a new page.\n"
      ]
    },
    {
      "cell_type": "code",
      "metadata": {
        "colab": {
          "base_uri": "https://localhost:8080/"
        },
        "id": "Q_rVHk6XicMB",
        "outputId": "e20a5153-d820-490e-e689-89d6628e4360"
      },
      "source": [
        "df.info()\n"
      ],
      "execution_count": 6,
      "outputs": [
        {
          "output_type": "stream",
          "name": "stdout",
          "text": [
            "<class 'pandas.core.frame.DataFrame'>\n",
            "RangeIndex: 294478 entries, 0 to 294477\n",
            "Data columns (total 5 columns):\n",
            " #   Column        Non-Null Count   Dtype \n",
            "---  ------        --------------   ----- \n",
            " 0   user_id       294478 non-null  int64 \n",
            " 1   timestamp     294478 non-null  object\n",
            " 2   group         294478 non-null  object\n",
            " 3   landing_page  294478 non-null  object\n",
            " 4   converted     294478 non-null  int64 \n",
            "dtypes: int64(2), object(3)\n",
            "memory usage: 11.2+ MB\n"
          ]
        }
      ]
    },
    {
      "cell_type": "code",
      "metadata": {
        "id": "N6nQYOatmUxk"
      },
      "source": [
        "df2 = df.drop(df[((df.landing_page == 'new_page') & (df.group != 'treatment')) | ((df.landing_page != 'new_page') & (df.group == 'treatment'))].index)"
      ],
      "execution_count": 7,
      "outputs": []
    },
    {
      "cell_type": "code",
      "metadata": {
        "colab": {
          "base_uri": "https://localhost:8080/"
        },
        "id": "K-luElTSi6hx",
        "outputId": "f026a196-4d81-4937-98b4-f2cdf1d67f61"
      },
      "source": [
        "#check for info\n",
        "df2.info()"
      ],
      "execution_count": 8,
      "outputs": [
        {
          "output_type": "stream",
          "name": "stdout",
          "text": [
            "<class 'pandas.core.frame.DataFrame'>\n",
            "Int64Index: 290585 entries, 0 to 294477\n",
            "Data columns (total 5 columns):\n",
            " #   Column        Non-Null Count   Dtype \n",
            "---  ------        --------------   ----- \n",
            " 0   user_id       290585 non-null  int64 \n",
            " 1   timestamp     290585 non-null  object\n",
            " 2   group         290585 non-null  object\n",
            " 3   landing_page  290585 non-null  object\n",
            " 4   converted     290585 non-null  int64 \n",
            "dtypes: int64(2), object(3)\n",
            "memory usage: 13.3+ MB\n"
          ]
        }
      ]
    },
    {
      "cell_type": "code",
      "metadata": {
        "colab": {
          "base_uri": "https://localhost:8080/"
        },
        "id": "LbfmFj53jL_3",
        "outputId": "d4b0793e-e00d-4e07-de0a-f9d2a84aba15"
      },
      "source": [
        "# convert rate is how many users converted (i.e. converted = 1)\n",
        "p_new = df2.converted.mean()\n",
        "p_new"
      ],
      "execution_count": 9,
      "outputs": [
        {
          "output_type": "execute_result",
          "data": {
            "text/plain": [
              "0.11959667567149027"
            ]
          },
          "metadata": {},
          "execution_count": 9
        }
      ]
    },
    {
      "cell_type": "code",
      "metadata": {
        "colab": {
          "base_uri": "https://localhost:8080/"
        },
        "id": "NUrza_rqjfoI",
        "outputId": "d17522a8-72fe-4fd0-d8cc-8b024a567247"
      },
      "source": [
        "p_old = df2.converted.mean() # the same!!!\n",
        "p_old"
      ],
      "execution_count": 10,
      "outputs": [
        {
          "output_type": "execute_result",
          "data": {
            "text/plain": [
              "0.11959667567149027"
            ]
          },
          "metadata": {},
          "execution_count": 10
        }
      ]
    },
    {
      "cell_type": "code",
      "metadata": {
        "colab": {
          "base_uri": "https://localhost:8080/"
        },
        "id": "A82AZLFdjmRI",
        "outputId": "15b08f38-f22a-45a6-91b0-9431aa46696c"
      },
      "source": [
        "# number of users who got the new page (i.e. group = treatment)\n",
        "n_new = df2[df2.group == 'treatment'].count()[0]\n",
        "n_new"
      ],
      "execution_count": 11,
      "outputs": [
        {
          "output_type": "execute_result",
          "data": {
            "text/plain": [
              "145311"
            ]
          },
          "metadata": {},
          "execution_count": 11
        }
      ]
    },
    {
      "cell_type": "code",
      "metadata": {
        "colab": {
          "base_uri": "https://localhost:8080/"
        },
        "id": "Ci2d0kKTjp2j",
        "outputId": "008e61ad-6f4b-4514-9e40-db449f994204"
      },
      "source": [
        "# number of users who reamined with old page (i.e. group = control)\n",
        "n_old = df2[df2.group == 'control'].count()[0]\n",
        "n_old"
      ],
      "execution_count": 12,
      "outputs": [
        {
          "output_type": "execute_result",
          "data": {
            "text/plain": [
              "145274"
            ]
          },
          "metadata": {},
          "execution_count": 12
        }
      ]
    },
    {
      "cell_type": "code",
      "metadata": {
        "colab": {
          "base_uri": "https://localhost:8080/"
        },
        "id": "KkrprRqGjt2W",
        "outputId": "eb892cb2-1927-49a6-b7aa-67e889a222f3"
      },
      "source": [
        "# simulating n_new transaction that have probabiliy of receiving new page, using binomial gives the outout as the number of 1's\n",
        "new_converted_simulation = np.random.binomial(n_new, p_new, 10000)/n_new\n",
        "new_converted_simulation.mean()"
      ],
      "execution_count": 13,
      "outputs": [
        {
          "output_type": "execute_result",
          "data": {
            "text/plain": [
              "0.11959836695088466"
            ]
          },
          "metadata": {},
          "execution_count": 13
        }
      ]
    },
    {
      "cell_type": "code",
      "metadata": {
        "colab": {
          "base_uri": "https://localhost:8080/"
        },
        "id": "_EpFqW31jzJR",
        "outputId": "c80d7779-edfa-4a17-e202-591540086c9b"
      },
      "source": [
        "# simulating n_new transaction that have probabiliy of having old page, using binomial gives the outout as the number of 1's\n",
        "old_converted_simulation = np.random.binomial(n_old, p_old, 10000)/n_old\n",
        "old_converted_simulation.mean()"
      ],
      "execution_count": 14,
      "outputs": [
        {
          "output_type": "execute_result",
          "data": {
            "text/plain": [
              "0.11959272547049024"
            ]
          },
          "metadata": {},
          "execution_count": 14
        }
      ]
    },
    {
      "cell_type": "code",
      "metadata": {
        "colab": {
          "base_uri": "https://localhost:8080/"
        },
        "id": "g27Egqqhj_3J",
        "outputId": "0f316dda-8b6c-4257-c92b-d3c258a65a53"
      },
      "source": [
        "# probabilty of new and old page based upon simulated values in e. and f.\n",
        "new_converted_simulation.mean() - old_converted_simulation.mean()\n"
      ],
      "execution_count": 15,
      "outputs": [
        {
          "output_type": "execute_result",
          "data": {
            "text/plain": [
              "5.6414803944193626e-06"
            ]
          },
          "metadata": {},
          "execution_count": 15
        }
      ]
    },
    {
      "cell_type": "code",
      "metadata": {
        "id": "fjbv7p2_kGUy"
      },
      "source": [
        "# alternatively\n",
        "p_diffs_alt = new_converted_simulation - old_converted_simulation"
      ],
      "execution_count": 16,
      "outputs": []
    },
    {
      "cell_type": "code",
      "metadata": {
        "colab": {
          "base_uri": "https://localhost:8080/",
          "height": 265
        },
        "id": "-g_wP5u3lNcd",
        "outputId": "7e8482b5-5ebe-4589-ef73-40a1841aa171"
      },
      "source": [
        "# alternatively\n",
        "# histogram\n",
        "plt.hist(p_diffs_alt)\n",
        "plt.grid()\n",
        "plt.axvline(p_diffs_alt.mean(), color='r', label='mean')\n",
        "plt.legend();"
      ],
      "execution_count": 17,
      "outputs": [
        {
          "output_type": "display_data",
          "data": {
            "text/plain": [
              "<Figure size 432x288 with 1 Axes>"
            ],
            "image/png": "[encoded data removed]"
          },
          "metadata": {
            "needs_background": "light"
          }
        }
      ]
    }
  ]
}